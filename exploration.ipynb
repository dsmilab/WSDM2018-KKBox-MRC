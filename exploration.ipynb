{
 "cells": [
  {
   "cell_type": "code",
   "execution_count": 1,
   "metadata": {
    "collapsed": true,
    "slideshow": {
     "slide_type": "notes"
    }
   },
   "outputs": [],
   "source": [
    "import seaborn as sns\n",
    "import pandas as pd\n",
    "import numpy as np"
   ]
  },
  {
   "cell_type": "code",
   "execution_count": 2,
   "metadata": {
    "collapsed": true
   },
   "outputs": [],
   "source": [
    "train_df = pd.read_csv('data/train.csv')\n",
    "test_df = pd.read_csv('data/test.csv')\n",
    "comb_df = train_df.append(test_df)"
   ]
  },
  {
   "cell_type": "markdown",
   "metadata": {},
   "source": [
    "# msno (users)"
   ]
  },
  {
   "cell_type": "code",
   "execution_count": 5,
   "metadata": {},
   "outputs": [
    {
     "data": {
      "image/png": "[encoded data removed]",
      "text/plain": [
       "<matplotlib.figure.Figure at 0x7fce80a2b908>"
      ]
     },
     "metadata": {},
     "output_type": "display_data"
    },
    {
     "data": {
      "image/png": "[encoded data removed]",
      "text/plain": [
       "<matplotlib.figure.Figure at 0x7fce80980780>"
      ]
     },
     "metadata": {},
     "output_type": "display_data"
    },
    {
     "name": "stdout",
     "output_type": "stream",
     "text": [
      "0.42% unique users are contained in train set\n",
      "0.98% unique users are contained in test set\n",
      "0.35% unique users are contained in (train + test) set\n"
     ]
    },
    {
     "data": {
      "text/html": [
       "<div>\n",
       "<style>\n",
       "    .dataframe thead tr:only-child th {\n",
       "        text-align: right;\n",
       "    }\n",
       "\n",
       "    .dataframe thead th {\n",
       "        text-align: left;\n",
       "    }\n",
       "\n",
       "    .dataframe tbody tr th {\n",
       "        vertical-align: top;\n",
       "    }\n",
       "</style>\n",
       "<table border=\"1\" class=\"dataframe\">\n",
       "  <thead>\n",
       "    <tr style=\"text-align: right;\">\n",
       "      <th></th>\n",
       "      <th>count</th>\n",
       "      <th>source</th>\n",
       "      <th>type</th>\n",
       "    </tr>\n",
       "  </thead>\n",
       "  <tbody>\n",
       "    <tr>\n",
       "      <th>0</th>\n",
       "      <td>7377418</td>\n",
       "      <td>train</td>\n",
       "      <td>total</td>\n",
       "    </tr>\n",
       "    <tr>\n",
       "      <th>1</th>\n",
       "      <td>2556790</td>\n",
       "      <td>test</td>\n",
       "      <td>total</td>\n",
       "    </tr>\n",
       "    <tr>\n",
       "      <th>2</th>\n",
       "      <td>9934208</td>\n",
       "      <td>train + test</td>\n",
       "      <td>total</td>\n",
       "    </tr>\n",
       "  </tbody>\n",
       "</table>\n",
       "</div>"
      ],
      "text/plain": [
       "     count        source   type\n",
       "0  7377418         train  total\n",
       "1  2556790          test  total\n",
       "2  9934208  train + test  total"
      ]
     },
     "execution_count": 5,
     "metadata": {},
     "output_type": "execute_result"
    }
   ],
   "source": [
    "train_unique_msno_series = train_df['msno'].drop_duplicates()\n",
    "test_unique_msno_series = test_df['msno'].drop_duplicates()\n",
    "comb_unique_msno_series = comb_df['msno'].drop_duplicates()\n",
    "\n",
    "msno_df = pd.DataFrame(data={\n",
    "    'source': ['train', 'test', 'train + test'],\n",
    "    'type': ['total', 'total', 'total'],\n",
    "    'count': [train_df.shape[0],\n",
    "              test_df.shape[0],\n",
    "              comb_df.shape[0]]\n",
    "})\n",
    "sns.barplot(x='count', y='source', hue='type', data=msno_df)\n",
    "sns.plt.show()\n",
    "\n",
    "msno_unique_df = pd.DataFrame(data={\n",
    "    'source': ['train', 'test', 'train + test'],\n",
    "    'type': ['unique', 'unique', 'unique'],\n",
    "    'count': [len(train_unique_msno_series),\n",
    "              len(test_unique_msno_series),\n",
    "              len(comb_unique_msno_series)]\n",
    "})\n",
    "sns.barplot(x='count', y='source', hue='type', data=msno_unique_df)\n",
    "sns.plt.show()\n",
    "\n",
    "print('%.2f%% unique users are contained in train set' % (len(train_unique_msno_series) / train_df.shape[0] * 100))\n",
    "print('%.2f%% unique users are contained in test set' % (len(test_unique_msno_series) / test_df.shape[0] * 100))\n",
    "print('%.2f%% unique users are contained in (train + test) set' % (len(comb_unique_msno_series) / comb_df.shape[0] * 100))\n",
    "msno_df"
   ]
  },
  {
   "cell_type": "markdown",
   "metadata": {},
   "source": [
    "- **train set** has **7377418 rows** and has only **30755 unique** users. Each user contributes **238 rows in average**.\n",
    "- **test set** has **2556790 rows** and has only **25131 unique** users. Each user contributes **102 rows in average**.\n",
    "- **(train + test) set** has **9934208 rows** and has only **34403 unique** users.\n",
    "- **9272 unique** users are contained in **(train \\ test) set**.\n",
    "- **3648 unique** users are contained in **(test \\ train) set**.\n",
    "\n",
    "3648 / 25131 = **14.5% of users** in test set which not shown in train set."
   ]
  },
  {
   "cell_type": "code",
   "execution_count": 4,
   "metadata": {
    "scrolled": true
   },
   "outputs": [
    {
     "name": "stdout",
     "output_type": "stream",
     "text": [
      "431857 rows are contained in train set but not contained in test set\n",
      "184018 rows are contained in test set but not contained in train set\n"
     ]
    }
   ],
   "source": [
    "train_minus_test_by_msno_df = train_df[~train_df['msno'].isin(test_unique_msno_series)]\n",
    "test_minus_train_by_msno_df = test_df[~test_df['msno'].isin(train_unique_msno_series)]\n",
    "\n",
    "print('%d rows are contained in train set but not contained in test set' % len(train_minus_test_by_msno_df))\n",
    "print('%d rows are contained in test set but not contained in train set' % len(test_minus_train_by_msno_df))"
   ]
  },
  {
   "cell_type": "markdown",
   "metadata": {},
   "source": [
    "184018 / 2556790 = **7.2% of rows** in test set which not shown in train set."
   ]
  }
 ],
 "metadata": {
  "celltoolbar": "Raw Cell Format",
  "kernelspec": {
   "display_name": "Python 3",
   "language": "python",
   "name": "python3"
  },
  "language_info": {
   "codemirror_mode": {
    "name": "ipython",
    "version": 3
   },
   "file_extension": ".py",
   "mimetype": "text/x-python",
   "name": "python",
   "nbconvert_exporter": "python",
   "pygments_lexer": "ipython3",
   "version": "3.6.1"
  },
  "widgets": {
   "application/vnd.jupyter.widget-state+json": {
    "state": {},
    "version_major": 1,
    "version_minor": 0
   }
  }
 },
 "nbformat": 4,
 "nbformat_minor": 2
}
