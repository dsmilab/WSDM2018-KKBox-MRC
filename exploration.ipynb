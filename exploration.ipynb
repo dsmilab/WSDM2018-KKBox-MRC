{
 "cells": [
  {
   "cell_type": "code",
   "execution_count": 1,
   "metadata": {
    "collapsed": true,
    "slideshow": {
     "slide_type": "notes"
    }
   },
   "outputs": [],
   "source": [
    "import seaborn as sns\n",
    "import pandas as pd\n",
    "import numpy as np"
   ]
  },
  {
   "cell_type": "markdown",
   "metadata": {},
   "source": [
    "# Content\n",
    "\n",
    "* [1. Preface](#chapter_preface)\n",
    "* [2. Train & Test](#chapter_train_test)\n",
    " * [2-1. msno](#section_msno)\n",
    " * [2-2. song](#section_song)\n",
    " * [2-3. sources](#section_sources)\n",
    " * [2-4. conclusion](#section_conclusion2)"
   ]
  },
  {
   "cell_type": "markdown",
   "metadata": {},
   "source": [
    "<a id='chapter_preface'></a>\n",
    "# Preface"
   ]
  },
  {
   "cell_type": "code",
   "execution_count": 2,
   "metadata": {
    "collapsed": true
   },
   "outputs": [],
   "source": [
    "train_df = pd.read_csv('data/train.csv')\n",
    "test_df = pd.read_csv('data/test.csv')\n",
    "comb_df = train_df.append(test_df)\n",
    "members_df = pd.read_csv('data/members.csv')\n",
    "songs_df = pd.read_csv('data/songs.csv')\n",
    "song_extra_info_df = pd.read_csv('data/song_extra_info.csv')\n",
    "\n",
    "songs_df = songs_df.merge(song_extra_info_df, on='song_id', how='left')\n",
    "\n",
    "train_df = train_df.merge(songs_df, on='song_id', how='left')\n",
    "test_df = test_df.merge(songs_df, on='song_id', how='left')\n",
    "\n",
    "train_df = train_df.merge(members_df, on='msno', how='left')\n",
    "test_df = test_df.merge(members_df, on='msno', how='left')\n",
    "\n",
    "# fill missing data to visualize\n",
    "train_df.fillna('nan', inplace=True)\n",
    "test_df.fillna('nan', inplace=True)"
   ]
  },
  {
   "cell_type": "code",
   "execution_count": 3,
   "metadata": {},
   "outputs": [
    {
     "data": {
      "image/png": "[encoded data removed]",
      "text/plain": [
       "<matplotlib.figure.Figure at 0x7fed913e1e48>"
      ]
     },
     "metadata": {},
     "output_type": "display_data"
    },
    {
     "data": {
      "text/html": [
       "<div>\n",
       "<style>\n",
       "    .dataframe thead tr:only-child th {\n",
       "        text-align: right;\n",
       "    }\n",
       "\n",
       "    .dataframe thead th {\n",
       "        text-align: left;\n",
       "    }\n",
       "\n",
       "    .dataframe tbody tr th {\n",
       "        vertical-align: top;\n",
       "    }\n",
       "</style>\n",
       "<table border=\"1\" class=\"dataframe\">\n",
       "  <thead>\n",
       "    <tr style=\"text-align: right;\">\n",
       "      <th></th>\n",
       "      <th>count</th>\n",
       "      <th>source</th>\n",
       "      <th>type</th>\n",
       "    </tr>\n",
       "  </thead>\n",
       "  <tbody>\n",
       "    <tr>\n",
       "      <th>0</th>\n",
       "      <td>7377418</td>\n",
       "      <td>train</td>\n",
       "      <td>total</td>\n",
       "    </tr>\n",
       "    <tr>\n",
       "      <th>1</th>\n",
       "      <td>2556790</td>\n",
       "      <td>test</td>\n",
       "      <td>total</td>\n",
       "    </tr>\n",
       "    <tr>\n",
       "      <th>2</th>\n",
       "      <td>9934208</td>\n",
       "      <td>train + test</td>\n",
       "      <td>total</td>\n",
       "    </tr>\n",
       "  </tbody>\n",
       "</table>\n",
       "</div>"
      ],
      "text/plain": [
       "     count        source   type\n",
       "0  7377418         train  total\n",
       "1  2556790          test  total\n",
       "2  9934208  train + test  total"
      ]
     },
     "execution_count": 3,
     "metadata": {},
     "output_type": "execute_result"
    }
   ],
   "source": [
    "total_row_df = pd.DataFrame(data={\n",
    "    'source': ['train', 'test', 'train + test'],\n",
    "    'type': ['total', 'total', 'total'],\n",
    "    'count': [train_df.shape[0],\n",
    "              test_df.shape[0],\n",
    "              comb_df.shape[0]]\n",
    "})\n",
    "sns.barplot(x='count', y='source', hue='type', data=total_row_df)\n",
    "sns.plt.show()\n",
    "\n",
    "total_row_df"
   ]
  },
  {
   "cell_type": "markdown",
   "metadata": {},
   "source": [
    "- **train set** has **7377418 rows**.\n",
    "- **test set** has **2556790 rows**.\n",
    "- **(train + test) set** has **9934208 rows**."
   ]
  },
  {
   "cell_type": "markdown",
   "metadata": {},
   "source": [
    "<a id='chapter_train_test'></a>\n",
    "# Train & Test"
   ]
  },
  {
   "cell_type": "markdown",
   "metadata": {},
   "source": [
    "At first, we focus on the basic data; i.e., train set and test set."
   ]
  },
  {
   "cell_type": "markdown",
   "metadata": {},
   "source": [
    "<a id=\"section_msno\"></a>\n",
    "## msno (users)"
   ]
  },
  {
   "cell_type": "code",
   "execution_count": 4,
   "metadata": {},
   "outputs": [
    {
     "data": {
      "image/png": "[encoded data removed]",
      "text/plain": [
       "<matplotlib.figure.Figure at 0x7fed27467128>"
      ]
     },
     "metadata": {},
     "output_type": "display_data"
    },
    {
     "name": "stdout",
     "output_type": "stream",
     "text": [
      "0.42% unique users are contained in train set\n",
      "0.98% unique users are contained in test set\n",
      "0.35% unique users are contained in (train + test) set\n"
     ]
    },
    {
     "data": {
      "text/html": [
       "<div>\n",
       "<style>\n",
       "    .dataframe thead tr:only-child th {\n",
       "        text-align: right;\n",
       "    }\n",
       "\n",
       "    .dataframe thead th {\n",
       "        text-align: left;\n",
       "    }\n",
       "\n",
       "    .dataframe tbody tr th {\n",
       "        vertical-align: top;\n",
       "    }\n",
       "</style>\n",
       "<table border=\"1\" class=\"dataframe\">\n",
       "  <thead>\n",
       "    <tr style=\"text-align: right;\">\n",
       "      <th></th>\n",
       "      <th>count</th>\n",
       "      <th>source</th>\n",
       "      <th>type</th>\n",
       "    </tr>\n",
       "  </thead>\n",
       "  <tbody>\n",
       "    <tr>\n",
       "      <th>0</th>\n",
       "      <td>30755</td>\n",
       "      <td>train</td>\n",
       "      <td>unique</td>\n",
       "    </tr>\n",
       "    <tr>\n",
       "      <th>1</th>\n",
       "      <td>25131</td>\n",
       "      <td>test</td>\n",
       "      <td>unique</td>\n",
       "    </tr>\n",
       "    <tr>\n",
       "      <th>2</th>\n",
       "      <td>34403</td>\n",
       "      <td>train + test</td>\n",
       "      <td>unique</td>\n",
       "    </tr>\n",
       "  </tbody>\n",
       "</table>\n",
       "</div>"
      ],
      "text/plain": [
       "   count        source    type\n",
       "0  30755         train  unique\n",
       "1  25131          test  unique\n",
       "2  34403  train + test  unique"
      ]
     },
     "execution_count": 4,
     "metadata": {},
     "output_type": "execute_result"
    }
   ],
   "source": [
    "train_unique_msno_series = train_df['msno'].drop_duplicates()\n",
    "test_unique_msno_series = test_df['msno'].drop_duplicates()\n",
    "comb_unique_msno_series = comb_df['msno'].drop_duplicates()\n",
    "\n",
    "msno_unique_df = pd.DataFrame(data={\n",
    "    'source': ['train', 'test', 'train + test'],\n",
    "    'type': ['unique', 'unique', 'unique'],\n",
    "    'count': [len(train_unique_msno_series),\n",
    "              len(test_unique_msno_series),\n",
    "              len(comb_unique_msno_series)]\n",
    "})\n",
    "sns.barplot(x='count', y='source', hue='type', data=msno_unique_df)\n",
    "sns.plt.show()\n",
    "\n",
    "print('%.2f%% unique users are contained in train set' % (len(train_unique_msno_series) / train_df.shape[0] * 100))\n",
    "print('%.2f%% unique users are contained in test set' % (len(test_unique_msno_series) / test_df.shape[0] * 100))\n",
    "print('%.2f%% unique users are contained in (train + test) set' % (len(comb_unique_msno_series) / comb_df.shape[0] * 100))\n",
    "msno_unique_df"
   ]
  },
  {
   "cell_type": "markdown",
   "metadata": {},
   "source": [
    "- **train set** has **7377418 rows** and has only **30755 unique** users. Each user contributes **238 rows in average**.\n",
    "- **test set** has **2556790 rows** and has only **25131 unique** users. Each user contributes **102 rows in average**.\n",
    "- **(train + test) set** has **9934208 rows** and has only **34403 unique** users.\n",
    "- **9272 unique** users are contained in **(train \\ test) set**.\n",
    "- **3648 unique** users are contained in **(test \\ train) set**.\n",
    "\n",
    "3648 / 25131 = **14.5% of users** in test set which not shown in train set."
   ]
  },
  {
   "cell_type": "code",
   "execution_count": 5,
   "metadata": {
    "scrolled": true
   },
   "outputs": [
    {
     "name": "stdout",
     "output_type": "stream",
     "text": [
      "431857 rows are contained in train set but not contained in test set\n",
      "184018 rows are contained in test set but not contained in train set\n"
     ]
    }
   ],
   "source": [
    "train_minus_test_by_msno_df = train_df[~train_df['msno'].isin(test_unique_msno_series)]\n",
    "test_minus_train_by_msno_df = test_df[~test_df['msno'].isin(train_unique_msno_series)]\n",
    "\n",
    "print('%d rows are contained in train set but not contained in test set' % len(train_minus_test_by_msno_df))\n",
    "print('%d rows are contained in test set but not contained in train set' % len(test_minus_train_by_msno_df))"
   ]
  },
  {
   "cell_type": "markdown",
   "metadata": {},
   "source": [
    "184018 / 2556790 = **7.2% of msno rows** in test set which not shown in train set."
   ]
  },
  {
   "cell_type": "markdown",
   "metadata": {},
   "source": [
    "<a id='section_song'></a>\n",
    "## song"
   ]
  },
  {
   "cell_type": "code",
   "execution_count": 6,
   "metadata": {},
   "outputs": [
    {
     "data": {
      "image/png": "[encoded data removed]",
      "text/plain": [
       "<matplotlib.figure.Figure at 0x7fed2740cb70>"
      ]
     },
     "metadata": {},
     "output_type": "display_data"
    },
    {
     "name": "stdout",
     "output_type": "stream",
     "text": [
      "4.88% unique songs are contained in train set\n",
      "8.79% unique songs are contained in test set\n",
      "4.23% unique songs are contained in (train + test) set\n"
     ]
    },
    {
     "data": {
      "text/html": [
       "<div>\n",
       "<style>\n",
       "    .dataframe thead tr:only-child th {\n",
       "        text-align: right;\n",
       "    }\n",
       "\n",
       "    .dataframe thead th {\n",
       "        text-align: left;\n",
       "    }\n",
       "\n",
       "    .dataframe tbody tr th {\n",
       "        vertical-align: top;\n",
       "    }\n",
       "</style>\n",
       "<table border=\"1\" class=\"dataframe\">\n",
       "  <thead>\n",
       "    <tr style=\"text-align: right;\">\n",
       "      <th></th>\n",
       "      <th>count</th>\n",
       "      <th>source</th>\n",
       "      <th>type</th>\n",
       "    </tr>\n",
       "  </thead>\n",
       "  <tbody>\n",
       "    <tr>\n",
       "      <th>0</th>\n",
       "      <td>359966</td>\n",
       "      <td>train</td>\n",
       "      <td>unique</td>\n",
       "    </tr>\n",
       "    <tr>\n",
       "      <th>1</th>\n",
       "      <td>224753</td>\n",
       "      <td>test</td>\n",
       "      <td>unique</td>\n",
       "    </tr>\n",
       "    <tr>\n",
       "      <th>2</th>\n",
       "      <td>419839</td>\n",
       "      <td>train + test</td>\n",
       "      <td>unique</td>\n",
       "    </tr>\n",
       "  </tbody>\n",
       "</table>\n",
       "</div>"
      ],
      "text/plain": [
       "    count        source    type\n",
       "0  359966         train  unique\n",
       "1  224753          test  unique\n",
       "2  419839  train + test  unique"
      ]
     },
     "execution_count": 6,
     "metadata": {},
     "output_type": "execute_result"
    }
   ],
   "source": [
    "train_unique_song_series = train_df['song_id'].drop_duplicates()\n",
    "test_unique_song_series = test_df['song_id'].drop_duplicates()\n",
    "comb_unique_song_series = comb_df['song_id'].drop_duplicates()\n",
    "\n",
    "song_unique_df = pd.DataFrame(data={\n",
    "    'source': ['train', 'test', 'train + test'],\n",
    "    'type': ['unique', 'unique', 'unique'],\n",
    "    'count': [len(train_unique_song_series),\n",
    "              len(test_unique_song_series),\n",
    "              len(comb_unique_song_series)]\n",
    "})\n",
    "sns.barplot(x='count', y='source', hue='type', data=song_unique_df)\n",
    "sns.plt.show()\n",
    "\n",
    "print('%.2f%% unique songs are contained in train set' % (len(train_unique_song_series) / train_df.shape[0] * 100))\n",
    "print('%.2f%% unique songs are contained in test set' % (len(test_unique_song_series) / test_df.shape[0] * 100))\n",
    "print('%.2f%% unique songs are contained in (train + test) set' % (len(comb_unique_song_series) / comb_df.shape[0] * 100))\n",
    "song_unique_df"
   ]
  },
  {
   "cell_type": "markdown",
   "metadata": {},
   "source": [
    "- **train set** has **7377418 rows** and has only **359966 unique** songs. Each song contributes **20 rows in average**.\n",
    "- **test set** has **2556790 rows** and has only **224753 unique** songs. Each song contributes **11 rows in average**.\n",
    "- **(train + test) set** has **9934208 rows** and has only **419839 unique** songs.\n",
    "- **195086 unique** songs are contained in **(train \\ test) set**.\n",
    "- **59873 unique** songs are contained in **(test \\ train) set**.\n",
    "\n",
    "59873 / 224753 = **26.6% of songs** in test set which not shown in train set."
   ]
  },
  {
   "cell_type": "code",
   "execution_count": 7,
   "metadata": {},
   "outputs": [
    {
     "name": "stdout",
     "output_type": "stream",
     "text": [
      "342793 rows are contained in train set but not contained in test set\n",
      "320125 rows are contained in test set but not contained in train set\n"
     ]
    }
   ],
   "source": [
    "train_minus_test_by_song_df = train_df[~train_df['song_id'].isin(test_unique_song_series)]\n",
    "test_minus_train_by_song_df = test_df[~test_df['song_id'].isin(train_unique_song_series)]\n",
    "\n",
    "print('%d rows are contained in train set but not contained in test set' % len(train_minus_test_by_song_df))\n",
    "print('%d rows are contained in test set but not contained in train set' % len(test_minus_train_by_song_df))"
   ]
  },
  {
   "cell_type": "markdown",
   "metadata": {},
   "source": [
    "320125  / 2556790 = **12.5% of song rows** in test set which not shown in train set."
   ]
  },
  {
   "cell_type": "markdown",
   "metadata": {},
   "source": [
    "<a id='section_sources'></a>\n",
    "## sources (system_tab, screen_name, source_type)"
   ]
  },
  {
   "cell_type": "code",
   "execution_count": 8,
   "metadata": {
    "collapsed": true
   },
   "outputs": [],
   "source": [
    "def target_count_plot(column):\n",
    "    print(sorted(list(train_df[column].unique())))\n",
    "    print(len(list(train_df[column].unique())))\n",
    "    print(sorted(list(test_df[column].unique())))\n",
    "    print(len(list(test_df[column].unique())))\n",
    "    sns.countplot(y=column, hue='target', data=train_df, order=train_df[column].value_counts().index)\n",
    "    sns.plt.show()"
   ]
  },
  {
   "cell_type": "code",
   "execution_count": 9,
   "metadata": {},
   "outputs": [
    {
     "name": "stdout",
     "output_type": "stream",
     "text": [
      "['discover', 'explore', 'listen with', 'my library', 'nan', 'notification', 'null', 'radio', 'search', 'settings']\n",
      "10\n",
      "['discover', 'explore', 'listen with', 'my library', 'nan', 'notification', 'null', 'radio', 'search', 'settings']\n",
      "10\n"
     ]
    },
    {
     "data": {
      "image/png": "[encoded data removed]",
      "text/plain": [
       "<matplotlib.figure.Figure at 0x7fed272acfd0>"
      ]
     },
     "metadata": {},
     "output_type": "display_data"
    }
   ],
   "source": [
    "target_count_plot('source_system_tab')"
   ]
  },
  {
   "cell_type": "markdown",
   "metadata": {},
   "source": [
    "A user at **'my library' tab** seems to be more chance to listen a song again.\n",
    "\n",
    "There are **'null'** and **nan** value. Are they could be considered as the same tab? \n",
    "Here, their distribuion are similar with each other, and the occurances are low. So we treat them as the same tab."
   ]
  },
  {
   "cell_type": "code",
   "execution_count": 10,
   "metadata": {},
   "outputs": [
    {
     "name": "stdout",
     "output_type": "stream",
     "text": [
      "['Album more', 'Artist more', 'Concert', 'Discover Chart', 'Discover Feature', 'Discover Genre', 'Discover New', 'Explore', 'Local playlist more', 'My library', 'My library_Search', 'Online playlist more', 'Others profile more', 'Payment', 'Radio', 'Search', 'Search Home', 'Search Trends', 'Self profile more', 'Unknown', 'nan']\n",
      "21\n",
      "['Album more', 'Artist more', 'Concert', 'Discover Chart', 'Discover Feature', 'Discover Genre', 'Discover New', 'Explore', 'Local playlist more', 'My library', 'My library_Search', 'Online playlist more', 'Others profile more', 'Payment', 'People global', 'People local', 'Radio', 'Search', 'Search Home', 'Search Trends', 'Self profile more', 'Unknown', 'nan']\n",
      "23\n"
     ]
    },
    {
     "data": {
      "image/png": "[encoded data removed]",
      "text/plain": [
       "<matplotlib.figure.Figure at 0x7fed2732e5c0>"
      ]
     },
     "metadata": {},
     "output_type": "display_data"
    }
   ],
   "source": [
    "target_count_plot('source_screen_name')"
   ]
  },
  {
   "cell_type": "markdown",
   "metadata": {},
   "source": [
    "A user at **'Local playlist more'** and **'My library'** seem to be more chance to listen a song again.\n",
    "\n",
    "There are **nan** and **Unknown** value. Are they could be considered as the same screen name?\n",
    "It seems that <font color='red'>missing data occur often</font>; however, target distribution is also almost the same.\n",
    "\n",
    "**test set** has **'People global', 'People local'** screen names which are not shown in **train set**."
   ]
  },
  {
   "cell_type": "code",
   "execution_count": 11,
   "metadata": {},
   "outputs": [
    {
     "name": "stdout",
     "output_type": "stream",
     "text": [
      "['album', 'artist', 'listen-with', 'local-library', 'local-playlist', 'my-daily-playlist', 'nan', 'online-playlist', 'radio', 'song', 'song-based-playlist', 'top-hits-for-artist', 'topic-article-playlist']\n",
      "13\n",
      "['album', 'artist', 'listen-with', 'local-library', 'local-playlist', 'my-daily-playlist', 'nan', 'online-playlist', 'radio', 'song', 'song-based-playlist', 'top-hits-for-artist', 'topic-article-playlist']\n",
      "13\n"
     ]
    },
    {
     "data": {
      "image/png": "[encoded data removed]",
      "text/plain": [
       "<matplotlib.figure.Figure at 0x7fed270e6ef0>"
      ]
     },
     "metadata": {},
     "output_type": "display_data"
    }
   ],
   "source": [
    "target_count_plot('source_type')"
   ]
  },
  {
   "cell_type": "markdown",
   "metadata": {},
   "source": [
    "A user at **'local-library'** seems to be more chance to listen a song again.\n",
    "\n",
    "The top 3 occurances are **local-library**, **online-playlist**, **local-playlist**.\n",
    "\n",
    "There are **nan** value. It appears really small almost the same as **artist**, **topic-article-playlist**, **my-daily-playlist**."
   ]
  },
  {
   "cell_type": "markdown",
   "metadata": {},
   "source": [
    "<a id='section_conclusion2'></a>\n",
    "## conclusion"
   ]
  },
  {
   "cell_type": "markdown",
   "metadata": {},
   "source": [
    "1. There are rows appears in **test set** but not in **train set**.\n",
    "2. Users adopt to their own personal library or playlist very often."
   ]
  }
 ],
 "metadata": {
  "celltoolbar": "Raw Cell Format",
  "kernelspec": {
   "display_name": "Python 3",
   "language": "python",
   "name": "python3"
  },
  "language_info": {
   "codemirror_mode": {
    "name": "ipython",
    "version": 3
   },
   "file_extension": ".py",
   "mimetype": "text/x-python",
   "name": "python",
   "nbconvert_exporter": "python",
   "pygments_lexer": "ipython3",
   "version": "3.6.1"
  },
  "widgets": {
   "application/vnd.jupyter.widget-state+json": {
    "state": {},
    "version_major": 1,
    "version_minor": 0
   }
  }
 },
 "nbformat": 4,
 "nbformat_minor": 2
}
