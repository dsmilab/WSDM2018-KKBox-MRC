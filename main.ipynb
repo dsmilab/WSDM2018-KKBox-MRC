{
 "cells": [
  {
   "cell_type": "markdown",
   "metadata": {},
   "source": [
    "# Pre-process"
   ]
  },
  {
   "cell_type": "markdown",
   "metadata": {
    "collapsed": true
   },
   "source": [
    "## Load library and define some functions needed"
   ]
  },
  {
   "cell_type": "code",
   "execution_count": 1,
   "metadata": {
    "ExecuteTime": {
     "end_time": "2017-12-09T04:37:39.427159Z",
     "start_time": "2017-12-09T04:37:38.566676Z"
    },
    "collapsed": true
   },
   "outputs": [],
   "source": [
    "import seaborn as sns\n",
    "import pandas as pd\n",
    "import numpy as np\n",
    "import lightgbm as lgb\n",
    "import matplotlib.pyplot as plt\n",
    "import datetime as dt\n",
    "import random\n",
    "\n",
    "import json\n",
    "import os.path\n",
    "import gc\n",
    "\n",
    "from script.lib.FeatureProducer import FeatureProducer \n",
    "MODEL_FILE_NAME = 'model.txt'"
   ]
  },
  {
   "cell_type": "code",
   "execution_count": 2,
   "metadata": {
    "ExecuteTime": {
     "end_time": "2017-12-09T04:37:39.507481Z",
     "start_time": "2017-12-09T04:37:39.428873Z"
    },
    "collapsed": true
   },
   "outputs": [],
   "source": [
    "def custom_cv(params, train_set, hold_out_set=None, k_fold=5, num_boost_round=20):\n",
    "    x_train = train_set.data\n",
    "    y_train = train_set.label\n",
    "    n = x_train.shape[0]\n",
    "    unit = n // k_fold\n",
    "\n",
    "    cv_scores = []\n",
    "    for k in range(k_fold):\n",
    "        ##### !!!!!!!!!!!!!!!!!!!!!!!!!!!!!!!!!!!!!!!!!!!!!!!!!!!!!!!!!!!!!!!!!!!!!\n",
    "        if k < k_fold - 1:\n",
    "            continue\n",
    "        ##### !!!!!!!!!!!!!!!!!!!!!!!!!!!!!!!!!!!!!!!!!!!!!!!!!!!!!!!!!!!!!!!!!!!!!\n",
    "        x_cv_valid = None\n",
    "        y_cv_valid = None\n",
    "        if k == k_fold - 1:\n",
    "            x_cv_valid = x_train[unit * k:]\n",
    "            y_cv_valid = y_train[unit * k:]\n",
    "        else:\n",
    "            x_cv_valid = x_train[unit * k: unit * (k + 1)]\n",
    "            y_cv_valid = y_train[unit * k: unit * (k + 1)]\n",
    "\n",
    "        x_cv_train = None\n",
    "        y_cv_train = None\n",
    "        if k == 0:\n",
    "            x_cv_train = x_train[unit * (k + 1):]\n",
    "            y_cv_train = y_train[unit * (k + 1):]\n",
    "        elif k == k_fold - 1:\n",
    "            x_cv_train = x_train[:unit * k]\n",
    "            y_cv_train = y_train[:unit * k]\n",
    "        else:\n",
    "            x_cv_train = x_train[:unit * k].append(x_train[unit * (k + 1):])\n",
    "            y_cv_train = y_train[:unit * k].append(y_train[unit * (k + 1):])\n",
    "\n",
    "        cv_train_set = lgb.Dataset(x_cv_train, y_cv_train)\n",
    "        cv_valid_set = lgb.Dataset(x_cv_valid, y_cv_valid)\n",
    "        watchlist = [cv_valid_set]\n",
    "\n",
    "        # not tested yet\n",
    "        if hold_out_set is not None:\n",
    "            watchlist.append(hold_out_set)\n",
    "        model = lgb.train(params, train_set=cv_train_set, valid_sets=watchlist,\n",
    "                          num_boost_round=num_boost_round, verbose_eval=5)\n",
    "        print(model.best_score)\n",
    "        cv_scores.append(model.best_score['valid_1']['auc'])\n",
    "\n",
    "    tip_txt = '[CV]'\n",
    "    tip_txt += ' ' + str(cv_scores)\n",
    "    mean_cv_score = np.mean(cv_scores)\n",
    "    tip_txt += '{ auc score=' + str(mean_cv_score) + ' }'\n",
    "    print(tip_txt)\n",
    "\n",
    "    return mean_cv_score"
   ]
  },
  {
   "cell_type": "code",
   "execution_count": 3,
   "metadata": {
    "ExecuteTime": {
     "end_time": "2017-12-09T04:37:39.561212Z",
     "start_time": "2017-12-09T04:37:39.508835Z"
    },
    "collapsed": true
   },
   "outputs": [],
   "source": [
    "def custom_grid_search(params, own_grid_params, train_set, valid_set, num_boost_round=20):\n",
    "    keys = []\n",
    "    values = [list()]\n",
    "    for key, value in own_grid_params.items():\n",
    "        keys.append(key)\n",
    "        new_values = []\n",
    "        for item in values:\n",
    "            for val in value:\n",
    "                new_values.append(item + [val])\n",
    "        values = new_values\n",
    "\n",
    "    watchlist = [valid_set]\n",
    "    grid_best_params = None\n",
    "    grid_best_score = None\n",
    "\n",
    "    for comb in values:\n",
    "        own_params = {}\n",
    "        for idx in range(len(keys)):\n",
    "            own_params[keys[idx]] = comb[idx]\n",
    "            params[keys[idx]] = comb[idx]\n",
    "\n",
    "        cv_score = custom_cv(params, train_set, valid_set, k_fold=4, num_boost_round=num_boost_round)\n",
    "\n",
    "        tip_txt = '[GridSearch]'\n",
    "        for idx in range(len(keys)):\n",
    "            tip_txt += ' ' + str(keys[idx]) + '=' + str(comb[idx])\n",
    "        tip_txt += ' { best_score: ' + str(cv_score) + ' }'\n",
    "        print(tip_txt)\n",
    "\n",
    "        if grid_best_score is None or cv_score > grid_best_score:\n",
    "            grid_best_params, grid_best_score = own_params, cv_score\n",
    "\n",
    "    tip_txt = '[GS Best Result]'\n",
    "    for key, val in grid_best_params.items():\n",
    "        tip_txt += ' ' + str(key) + '=' + str(val)\n",
    "    tip_txt += ' { best_score: ' + str(grid_best_score) + ' }'\n",
    "    print(tip_txt)\n",
    "    \n",
    "    return grid_best_params"
   ]
  },
  {
   "cell_type": "markdown",
   "metadata": {},
   "source": [
    "## init"
   ]
  },
  {
   "cell_type": "code",
   "execution_count": 4,
   "metadata": {
    "ExecuteTime": {
     "end_time": "2017-12-09T04:37:39.622272Z",
     "start_time": "2017-12-09T04:37:39.562603Z"
    },
    "collapsed": true
   },
   "outputs": [],
   "source": [
    "fp = FeatureProducer(root='./data')"
   ]
  },
  {
   "cell_type": "markdown",
   "metadata": {},
   "source": [
    "## load"
   ]
  },
  {
   "cell_type": "code",
   "execution_count": 5,
   "metadata": {
    "ExecuteTime": {
     "end_time": "2017-12-09T04:37:59.853274Z",
     "start_time": "2017-12-09T04:37:39.623587Z"
    }
   },
   "outputs": [
    {
     "name": "stderr",
     "output_type": "stream",
     "text": [
      "12:37:59 INFO << load raw data in 20.17s\n"
     ]
    }
   ],
   "source": [
    "fp.load_raw()"
   ]
  },
  {
   "cell_type": "markdown",
   "metadata": {},
   "source": [
    "## preprocess"
   ]
  },
  {
   "cell_type": "code",
   "execution_count": 6,
   "metadata": {
    "ExecuteTime": {
     "end_time": "2017-12-09T04:39:39.514748Z",
     "start_time": "2017-12-09T04:37:59.854834Z"
    }
   },
   "outputs": [
    {
     "name": "stderr",
     "output_type": "stream",
     "text": [
      "12:38:29 INFO << parse train_df in 30.07s\n",
      "12:38:46 INFO << parse test_df in 16.36s\n",
      "12:38:46 INFO << parse members_df in 0.26s\n",
      "12:39:07 INFO << parse songs_df in 20.12s\n",
      "12:39:10 INFO << parse song_extra_info_df in 3.02s\n"
     ]
    }
   ],
   "source": [
    "fp.pre_process()"
   ]
  },
  {
   "cell_type": "markdown",
   "metadata": {},
   "source": [
    "## feature engineering"
   ]
  },
  {
   "cell_type": "code",
   "execution_count": 7,
   "metadata": {
    "ExecuteTime": {
     "end_time": "2017-12-09T04:40:29.866358Z",
     "start_time": "2017-12-09T04:39:39.516524Z"
    }
   },
   "outputs": [
    {
     "name": "stderr",
     "output_type": "stream",
     "text": [
      "12:40:07 INFO << parse engineering_df in 27.83s\n",
      "12:40:29 INFO << parse engineering_df in 22.38s\n"
     ]
    }
   ],
   "source": [
    "fp.feature_engineering()"
   ]
  },
  {
   "cell_type": "markdown",
   "metadata": {},
   "source": [
    "## type to category"
   ]
  },
  {
   "cell_type": "code",
   "execution_count": 8,
   "metadata": {
    "ExecuteTime": {
     "end_time": "2017-12-09T04:40:44.525983Z",
     "start_time": "2017-12-09T04:40:29.868242Z"
    }
   },
   "outputs": [],
   "source": [
    "fp.self_fit_transform()"
   ]
  },
  {
   "cell_type": "code",
   "execution_count": 9,
   "metadata": {
    "ExecuteTime": {
     "end_time": "2017-12-09T04:40:46.227114Z",
     "start_time": "2017-12-09T04:40:44.527640Z"
    }
   },
   "outputs": [
    {
     "name": "stdout",
     "output_type": "stream",
     "text": [
      "<class 'pandas.core.frame.DataFrame'>\n",
      "Int64Index: 7377418 entries, 0 to 7377417\n",
      "Data columns (total 42 columns):\n",
      "msno                        category\n",
      "song_id                     category\n",
      "source_system_tab           category\n",
      "source_screen_name          category\n",
      "source_type                 category\n",
      "target                      int64\n",
      "1h_source                   int64\n",
      "1h_system_tab               int64\n",
      "1h_screen_name              int64\n",
      "1h_source_type              int64\n",
      "song_length                 float64\n",
      "genre_ids                   category\n",
      "artist_name                 category\n",
      "composer                    category\n",
      "lyricist                    category\n",
      "language                    category\n",
      "is_featured                 float64\n",
      "artist_count                float64\n",
      "artist_composer             float64\n",
      "artist_composer_lyricist    float64\n",
      "song_lang_boolean           float64\n",
      "genre_count                 float64\n",
      "composer_count              float64\n",
      "lyricist_count              float64\n",
      "1h_lang                     float64\n",
      "1h_song_length              float64\n",
      "song_year                   float64\n",
      "1h_song_year                float64\n",
      "city                        int64\n",
      "bd                          category\n",
      "gender                      category\n",
      "registered_via              int64\n",
      "expiration_date             category\n",
      "membership_days             int64\n",
      "registration_year           int64\n",
      "registration_month          int64\n",
      "expiration_year             int64\n",
      "expiration_month            int64\n",
      "1h_via                      int64\n",
      "play_count                  int64\n",
      "track_count                 float64\n",
      "cover_lang                  float64\n",
      "dtypes: category(13), float64(15), int64(14)\n",
      "memory usage: 1.9 GB\n",
      "<class 'pandas.core.frame.DataFrame'>\n",
      "Int64Index: 2556790 entries, 0 to 2556789\n",
      "Data columns (total 42 columns):\n",
      "id                          int64\n",
      "msno                        category\n",
      "song_id                     category\n",
      "source_system_tab           category\n",
      "source_screen_name          category\n",
      "source_type                 category\n",
      "1h_source                   int64\n",
      "1h_system_tab               int64\n",
      "1h_screen_name              int64\n",
      "1h_source_type              int64\n",
      "song_length                 float64\n",
      "genre_ids                   category\n",
      "artist_name                 category\n",
      "composer                    category\n",
      "lyricist                    category\n",
      "language                    category\n",
      "is_featured                 float64\n",
      "artist_count                float64\n",
      "artist_composer             float64\n",
      "artist_composer_lyricist    float64\n",
      "song_lang_boolean           float64\n",
      "genre_count                 float64\n",
      "composer_count              float64\n",
      "lyricist_count              float64\n",
      "1h_lang                     float64\n",
      "1h_song_length              float64\n",
      "song_year                   float64\n",
      "1h_song_year                float64\n",
      "city                        int64\n",
      "bd                          category\n",
      "gender                      category\n",
      "registered_via              int64\n",
      "expiration_date             category\n",
      "membership_days             int64\n",
      "registration_year           int64\n",
      "registration_month          int64\n",
      "expiration_year             int64\n",
      "expiration_month            int64\n",
      "1h_via                      int64\n",
      "play_count                  int64\n",
      "track_count                 float64\n",
      "cover_lang                  float64\n",
      "dtypes: category(13), float64(15), int64(14)\n",
      "memory usage: 661.5 MB\n"
     ]
    }
   ],
   "source": [
    "train_df = fp.train_df\n",
    "test_df = fp.test_df\n",
    "\n",
    "assert(train_df.shape[1] == test_df.shape[1])\n",
    "train_df.info()\n",
    "test_df.info()"
   ]
  },
  {
   "cell_type": "markdown",
   "metadata": {},
   "source": [
    "# LGBM training"
   ]
  },
  {
   "cell_type": "markdown",
   "metadata": {},
   "source": [
    "## Correlation over all features (underconstruction...)"
   ]
  },
  {
   "cell_type": "markdown",
   "metadata": {},
   "source": [
    "For categorical feature, need to numerize them.\n",
    "Also, for all numeric features, it's necessary to be normalized."
   ]
  },
  {
   "cell_type": "code",
   "execution_count": 10,
   "metadata": {
    "ExecuteTime": {
     "end_time": "2017-12-09T04:41:02.165392Z",
     "start_time": "2017-12-09T04:40:46.228765Z"
    }
   },
   "outputs": [
    {
     "data": {
      "image/png": "[encoded data removed]",
      "text/plain": [
       "<matplotlib.figure.Figure at 0x7ff92eb4bcc0>"
      ]
     },
     "metadata": {},
     "output_type": "display_data"
    }
   ],
   "source": [
    "corr = train_df.corr()\n",
    "\n",
    "f, ax = plt.subplots(figsize=(10, 8))\n",
    "sns.heatmap(corr, mask=np.zeros_like(corr, dtype=np.bool), cmap=sns.diverging_palette(220, 10, as_cmap=True),\n",
    "            square=True, ax=ax)\n",
    "plt.show()"
   ]
  },
  {
   "cell_type": "markdown",
   "metadata": {},
   "source": [
    "## Prepare"
   ]
  },
  {
   "cell_type": "code",
   "execution_count": 11,
   "metadata": {
    "ExecuteTime": {
     "end_time": "2017-12-09T04:41:03.833340Z",
     "start_time": "2017-12-09T04:41:02.166987Z"
    }
   },
   "outputs": [
    {
     "data": {
      "text/html": [
       "<div>\n",
       "<style>\n",
       "    .dataframe thead tr:only-child th {\n",
       "        text-align: right;\n",
       "    }\n",
       "\n",
       "    .dataframe thead th {\n",
       "        text-align: left;\n",
       "    }\n",
       "\n",
       "    .dataframe tbody tr th {\n",
       "        vertical-align: top;\n",
       "    }\n",
       "</style>\n",
       "<table border=\"1\" class=\"dataframe\">\n",
       "  <thead>\n",
       "    <tr style=\"text-align: right;\">\n",
       "      <th></th>\n",
       "      <th>msno</th>\n",
       "      <th>song_id</th>\n",
       "      <th>source_system_tab</th>\n",
       "      <th>source_screen_name</th>\n",
       "      <th>source_type</th>\n",
       "      <th>target</th>\n",
       "      <th>1h_source</th>\n",
       "      <th>1h_system_tab</th>\n",
       "      <th>1h_screen_name</th>\n",
       "      <th>1h_source_type</th>\n",
       "      <th>...</th>\n",
       "      <th>expiration_date</th>\n",
       "      <th>membership_days</th>\n",
       "      <th>registration_year</th>\n",
       "      <th>registration_month</th>\n",
       "      <th>expiration_year</th>\n",
       "      <th>expiration_month</th>\n",
       "      <th>1h_via</th>\n",
       "      <th>play_count</th>\n",
       "      <th>track_count</th>\n",
       "      <th>cover_lang</th>\n",
       "    </tr>\n",
       "  </thead>\n",
       "  <tbody>\n",
       "    <tr>\n",
       "      <th>0</th>\n",
       "      <td>FGtllVqz18RPiwJj/edr2gV78zirAiY/9SmYvia+kCg=</td>\n",
       "      <td>BBzumQNXUHKdEBOB7mAJuzok+IJA1c2Ryg/yzTF6tik=</td>\n",
       "      <td>explore</td>\n",
       "      <td>Explore</td>\n",
       "      <td>online-playlist</td>\n",
       "      <td>1</td>\n",
       "      <td>0</td>\n",
       "      <td>0</td>\n",
       "      <td>0</td>\n",
       "      <td>0</td>\n",
       "      <td>...</td>\n",
       "      <td>2017-10-05</td>\n",
       "      <td>2103</td>\n",
       "      <td>2012</td>\n",
       "      <td>1</td>\n",
       "      <td>2017</td>\n",
       "      <td>10</td>\n",
       "      <td>1</td>\n",
       "      <td>215</td>\n",
       "      <td>84.0</td>\n",
       "      <td>1.0</td>\n",
       "    </tr>\n",
       "    <tr>\n",
       "      <th>1</th>\n",
       "      <td>Xumu+NIjS6QYVxDS4/t3SawvJ7viT9hPKXmf0RtLNx8=</td>\n",
       "      <td>bhp/MpSNoqoxOIB+/l8WPqu6jldth4DIpCm3ayXnJqM=</td>\n",
       "      <td>my library</td>\n",
       "      <td>Local playlist more</td>\n",
       "      <td>local-playlist</td>\n",
       "      <td>1</td>\n",
       "      <td>1</td>\n",
       "      <td>1</td>\n",
       "      <td>1</td>\n",
       "      <td>1</td>\n",
       "      <td>...</td>\n",
       "      <td>2017-09-11</td>\n",
       "      <td>2301</td>\n",
       "      <td>2011</td>\n",
       "      <td>5</td>\n",
       "      <td>2017</td>\n",
       "      <td>9</td>\n",
       "      <td>1</td>\n",
       "      <td>1</td>\n",
       "      <td>17080.0</td>\n",
       "      <td>10.0</td>\n",
       "    </tr>\n",
       "    <tr>\n",
       "      <th>2</th>\n",
       "      <td>Xumu+NIjS6QYVxDS4/t3SawvJ7viT9hPKXmf0RtLNx8=</td>\n",
       "      <td>JNWfrrC7zNN7BdMpsISKa4Mw+xVJYNnxXh3/Epw7QgY=</td>\n",
       "      <td>my library</td>\n",
       "      <td>Local playlist more</td>\n",
       "      <td>local-playlist</td>\n",
       "      <td>1</td>\n",
       "      <td>1</td>\n",
       "      <td>1</td>\n",
       "      <td>1</td>\n",
       "      <td>1</td>\n",
       "      <td>...</td>\n",
       "      <td>2017-09-11</td>\n",
       "      <td>2301</td>\n",
       "      <td>2011</td>\n",
       "      <td>5</td>\n",
       "      <td>2017</td>\n",
       "      <td>9</td>\n",
       "      <td>1</td>\n",
       "      <td>4</td>\n",
       "      <td>61.0</td>\n",
       "      <td>2.0</td>\n",
       "    </tr>\n",
       "    <tr>\n",
       "      <th>3</th>\n",
       "      <td>Xumu+NIjS6QYVxDS4/t3SawvJ7viT9hPKXmf0RtLNx8=</td>\n",
       "      <td>2A87tzfnJTSWqD7gIZHisolhe4DMdzkbd6LzO1KHjNs=</td>\n",
       "      <td>my library</td>\n",
       "      <td>Local playlist more</td>\n",
       "      <td>local-playlist</td>\n",
       "      <td>1</td>\n",
       "      <td>1</td>\n",
       "      <td>1</td>\n",
       "      <td>1</td>\n",
       "      <td>1</td>\n",
       "      <td>...</td>\n",
       "      <td>2017-09-11</td>\n",
       "      <td>2301</td>\n",
       "      <td>2011</td>\n",
       "      <td>5</td>\n",
       "      <td>2017</td>\n",
       "      <td>9</td>\n",
       "      <td>1</td>\n",
       "      <td>1</td>\n",
       "      <td>1.0</td>\n",
       "      <td>1.0</td>\n",
       "    </tr>\n",
       "    <tr>\n",
       "      <th>4</th>\n",
       "      <td>FGtllVqz18RPiwJj/edr2gV78zirAiY/9SmYvia+kCg=</td>\n",
       "      <td>3qm6XTZ6MOCU11x8FIVbAGH5l5uMkT3/ZalWG1oo2Gc=</td>\n",
       "      <td>explore</td>\n",
       "      <td>Explore</td>\n",
       "      <td>online-playlist</td>\n",
       "      <td>1</td>\n",
       "      <td>0</td>\n",
       "      <td>0</td>\n",
       "      <td>0</td>\n",
       "      <td>0</td>\n",
       "      <td>...</td>\n",
       "      <td>2017-10-05</td>\n",
       "      <td>2103</td>\n",
       "      <td>2012</td>\n",
       "      <td>1</td>\n",
       "      <td>2017</td>\n",
       "      <td>10</td>\n",
       "      <td>1</td>\n",
       "      <td>412</td>\n",
       "      <td>6.0</td>\n",
       "      <td>1.0</td>\n",
       "    </tr>\n",
       "    <tr>\n",
       "      <th>5</th>\n",
       "      <td>FGtllVqz18RPiwJj/edr2gV78zirAiY/9SmYvia+kCg=</td>\n",
       "      <td>3Hg5kugV1S0wzEVLAEfqjIV5UHzb7bCrdBRQlGygLvU=</td>\n",
       "      <td>explore</td>\n",
       "      <td>Explore</td>\n",
       "      <td>online-playlist</td>\n",
       "      <td>1</td>\n",
       "      <td>0</td>\n",
       "      <td>0</td>\n",
       "      <td>0</td>\n",
       "      <td>0</td>\n",
       "      <td>...</td>\n",
       "      <td>2017-10-05</td>\n",
       "      <td>2103</td>\n",
       "      <td>2012</td>\n",
       "      <td>1</td>\n",
       "      <td>2017</td>\n",
       "      <td>10</td>\n",
       "      <td>1</td>\n",
       "      <td>1108</td>\n",
       "      <td>15.0</td>\n",
       "      <td>1.0</td>\n",
       "    </tr>\n",
       "    <tr>\n",
       "      <th>6</th>\n",
       "      <td>Xumu+NIjS6QYVxDS4/t3SawvJ7viT9hPKXmf0RtLNx8=</td>\n",
       "      <td>VkILU0H1h3NMmk9MQrXouNudGk5n8Ls5cqRRuBxeTh4=</td>\n",
       "      <td>my library</td>\n",
       "      <td>Local playlist more</td>\n",
       "      <td>local-playlist</td>\n",
       "      <td>1</td>\n",
       "      <td>1</td>\n",
       "      <td>1</td>\n",
       "      <td>1</td>\n",
       "      <td>1</td>\n",
       "      <td>...</td>\n",
       "      <td>2017-09-11</td>\n",
       "      <td>2301</td>\n",
       "      <td>2011</td>\n",
       "      <td>5</td>\n",
       "      <td>2017</td>\n",
       "      <td>9</td>\n",
       "      <td>1</td>\n",
       "      <td>3869</td>\n",
       "      <td>43.0</td>\n",
       "      <td>1.0</td>\n",
       "    </tr>\n",
       "    <tr>\n",
       "      <th>7</th>\n",
       "      <td>FGtllVqz18RPiwJj/edr2gV78zirAiY/9SmYvia+kCg=</td>\n",
       "      <td>bPIvRTzfHxH5LgHrStll+tYwSQNVV8PySgA3M1PfTgc=</td>\n",
       "      <td>explore</td>\n",
       "      <td>Explore</td>\n",
       "      <td>online-playlist</td>\n",
       "      <td>1</td>\n",
       "      <td>0</td>\n",
       "      <td>0</td>\n",
       "      <td>0</td>\n",
       "      <td>0</td>\n",
       "      <td>...</td>\n",
       "      <td>2017-10-05</td>\n",
       "      <td>2103</td>\n",
       "      <td>2012</td>\n",
       "      <td>1</td>\n",
       "      <td>2017</td>\n",
       "      <td>10</td>\n",
       "      <td>1</td>\n",
       "      <td>287</td>\n",
       "      <td>33.0</td>\n",
       "      <td>1.0</td>\n",
       "    </tr>\n",
       "    <tr>\n",
       "      <th>8</th>\n",
       "      <td>uHqAtShXTRXju5GE8ri3ITsVFepPf8jUoCF7ffNOuqE=</td>\n",
       "      <td>/bU6IRSK+YNlNbaTkxo7bhsb2EDLPrnksdX3ggcZNhI=</td>\n",
       "      <td>my library</td>\n",
       "      <td>Local playlist more</td>\n",
       "      <td>local-library</td>\n",
       "      <td>1</td>\n",
       "      <td>1</td>\n",
       "      <td>1</td>\n",
       "      <td>1</td>\n",
       "      <td>1</td>\n",
       "      <td>...</td>\n",
       "      <td>2018-03-04</td>\n",
       "      <td>2309</td>\n",
       "      <td>2011</td>\n",
       "      <td>11</td>\n",
       "      <td>2018</td>\n",
       "      <td>3</td>\n",
       "      <td>1</td>\n",
       "      <td>31</td>\n",
       "      <td>155.0</td>\n",
       "      <td>2.0</td>\n",
       "    </tr>\n",
       "    <tr>\n",
       "      <th>9</th>\n",
       "      <td>uHqAtShXTRXju5GE8ri3ITsVFepPf8jUoCF7ffNOuqE=</td>\n",
       "      <td>EbI7xoNxI+3QSsiHxL13zBdgHIJOwa3srHd7cDcnJ0g=</td>\n",
       "      <td>my library</td>\n",
       "      <td>Local playlist more</td>\n",
       "      <td>local-library</td>\n",
       "      <td>1</td>\n",
       "      <td>1</td>\n",
       "      <td>1</td>\n",
       "      <td>1</td>\n",
       "      <td>1</td>\n",
       "      <td>...</td>\n",
       "      <td>2018-03-04</td>\n",
       "      <td>2309</td>\n",
       "      <td>2011</td>\n",
       "      <td>11</td>\n",
       "      <td>2018</td>\n",
       "      <td>3</td>\n",
       "      <td>1</td>\n",
       "      <td>738</td>\n",
       "      <td>155.0</td>\n",
       "      <td>2.0</td>\n",
       "    </tr>\n",
       "    <tr>\n",
       "      <th>10</th>\n",
       "      <td>uHqAtShXTRXju5GE8ri3ITsVFepPf8jUoCF7ffNOuqE=</td>\n",
       "      <td>t0aT90DlS1TGncgnKoL0SvfAWEr3Dl72QBVcokmKfLc=</td>\n",
       "      <td>my library</td>\n",
       "      <td>Local playlist more</td>\n",
       "      <td>local-library</td>\n",
       "      <td>1</td>\n",
       "      <td>1</td>\n",
       "      <td>1</td>\n",
       "      <td>1</td>\n",
       "      <td>1</td>\n",
       "      <td>...</td>\n",
       "      <td>2018-03-04</td>\n",
       "      <td>2309</td>\n",
       "      <td>2011</td>\n",
       "      <td>11</td>\n",
       "      <td>2018</td>\n",
       "      <td>3</td>\n",
       "      <td>1</td>\n",
       "      <td>2</td>\n",
       "      <td>62.0</td>\n",
       "      <td>2.0</td>\n",
       "    </tr>\n",
       "    <tr>\n",
       "      <th>11</th>\n",
       "      <td>uHqAtShXTRXju5GE8ri3ITsVFepPf8jUoCF7ffNOuqE=</td>\n",
       "      <td>8FGjC9W+7F8WjheGZPAwX9RH3+nWSO7DzjM6EB6naOI=</td>\n",
       "      <td>my library</td>\n",
       "      <td>Local playlist more</td>\n",
       "      <td>local-library</td>\n",
       "      <td>1</td>\n",
       "      <td>1</td>\n",
       "      <td>1</td>\n",
       "      <td>1</td>\n",
       "      <td>1</td>\n",
       "      <td>...</td>\n",
       "      <td>2018-03-04</td>\n",
       "      <td>2309</td>\n",
       "      <td>2011</td>\n",
       "      <td>11</td>\n",
       "      <td>2018</td>\n",
       "      <td>3</td>\n",
       "      <td>1</td>\n",
       "      <td>875</td>\n",
       "      <td>88.0</td>\n",
       "      <td>1.0</td>\n",
       "    </tr>\n",
       "    <tr>\n",
       "      <th>12</th>\n",
       "      <td>TJU0Gfvy7FB+r89bWovPKXTjuApTCiv3xg/tt5shR78=</td>\n",
       "      <td>u6/Pb7X4u7KU4gXrBgGqt8RlRrNNFLn03tLAHyxRxwA=</td>\n",
       "      <td>my library</td>\n",
       "      <td>others</td>\n",
       "      <td>top-hits-for-artist</td>\n",
       "      <td>0</td>\n",
       "      <td>0</td>\n",
       "      <td>1</td>\n",
       "      <td>0</td>\n",
       "      <td>0</td>\n",
       "      <td>...</td>\n",
       "      <td>2017-09-30</td>\n",
       "      <td>786</td>\n",
       "      <td>2015</td>\n",
       "      <td>8</td>\n",
       "      <td>2017</td>\n",
       "      <td>9</td>\n",
       "      <td>1</td>\n",
       "      <td>5740</td>\n",
       "      <td>277.0</td>\n",
       "      <td>3.0</td>\n",
       "    </tr>\n",
       "    <tr>\n",
       "      <th>13</th>\n",
       "      <td>3g0bC24RD7QUeALY1IF/e8L6X3fHG298ZFIsCEG9T9Y=</td>\n",
       "      <td>TYhx9eqWklddkLQlApQ5MS9jJCO4H3JHdpISZ3kZSRE=</td>\n",
       "      <td>my library</td>\n",
       "      <td>Local playlist more</td>\n",
       "      <td>local-library</td>\n",
       "      <td>1</td>\n",
       "      <td>1</td>\n",
       "      <td>1</td>\n",
       "      <td>1</td>\n",
       "      <td>1</td>\n",
       "      <td>...</td>\n",
       "      <td>2017-09-22</td>\n",
       "      <td>2405</td>\n",
       "      <td>2011</td>\n",
       "      <td>2</td>\n",
       "      <td>2017</td>\n",
       "      <td>9</td>\n",
       "      <td>1</td>\n",
       "      <td>3251</td>\n",
       "      <td>341.0</td>\n",
       "      <td>1.0</td>\n",
       "    </tr>\n",
       "    <tr>\n",
       "      <th>14</th>\n",
       "      <td>TJU0Gfvy7FB+r89bWovPKXTjuApTCiv3xg/tt5shR78=</td>\n",
       "      <td>IgMar/mVrJQ+ODFPytDf7jwQMmR09+slyZUdVylRFLc=</td>\n",
       "      <td>my library</td>\n",
       "      <td>Local playlist more</td>\n",
       "      <td>local-playlist</td>\n",
       "      <td>1</td>\n",
       "      <td>1</td>\n",
       "      <td>1</td>\n",
       "      <td>1</td>\n",
       "      <td>1</td>\n",
       "      <td>...</td>\n",
       "      <td>2017-09-30</td>\n",
       "      <td>786</td>\n",
       "      <td>2015</td>\n",
       "      <td>8</td>\n",
       "      <td>2017</td>\n",
       "      <td>9</td>\n",
       "      <td>1</td>\n",
       "      <td>6830</td>\n",
       "      <td>277.0</td>\n",
       "      <td>3.0</td>\n",
       "    </tr>\n",
       "  </tbody>\n",
       "</table>\n",
       "<p>15 rows × 42 columns</p>\n",
       "</div>"
      ],
      "text/plain": [
       "                                            msno  \\\n",
       "0   FGtllVqz18RPiwJj/edr2gV78zirAiY/9SmYvia+kCg=   \n",
       "1   Xumu+NIjS6QYVxDS4/t3SawvJ7viT9hPKXmf0RtLNx8=   \n",
       "2   Xumu+NIjS6QYVxDS4/t3SawvJ7viT9hPKXmf0RtLNx8=   \n",
       "3   Xumu+NIjS6QYVxDS4/t3SawvJ7viT9hPKXmf0RtLNx8=   \n",
       "4   FGtllVqz18RPiwJj/edr2gV78zirAiY/9SmYvia+kCg=   \n",
       "5   FGtllVqz18RPiwJj/edr2gV78zirAiY/9SmYvia+kCg=   \n",
       "6   Xumu+NIjS6QYVxDS4/t3SawvJ7viT9hPKXmf0RtLNx8=   \n",
       "7   FGtllVqz18RPiwJj/edr2gV78zirAiY/9SmYvia+kCg=   \n",
       "8   uHqAtShXTRXju5GE8ri3ITsVFepPf8jUoCF7ffNOuqE=   \n",
       "9   uHqAtShXTRXju5GE8ri3ITsVFepPf8jUoCF7ffNOuqE=   \n",
       "10  uHqAtShXTRXju5GE8ri3ITsVFepPf8jUoCF7ffNOuqE=   \n",
       "11  uHqAtShXTRXju5GE8ri3ITsVFepPf8jUoCF7ffNOuqE=   \n",
       "12  TJU0Gfvy7FB+r89bWovPKXTjuApTCiv3xg/tt5shR78=   \n",
       "13  3g0bC24RD7QUeALY1IF/e8L6X3fHG298ZFIsCEG9T9Y=   \n",
       "14  TJU0Gfvy7FB+r89bWovPKXTjuApTCiv3xg/tt5shR78=   \n",
       "\n",
       "                                         song_id source_system_tab  \\\n",
       "0   BBzumQNXUHKdEBOB7mAJuzok+IJA1c2Ryg/yzTF6tik=           explore   \n",
       "1   bhp/MpSNoqoxOIB+/l8WPqu6jldth4DIpCm3ayXnJqM=        my library   \n",
       "2   JNWfrrC7zNN7BdMpsISKa4Mw+xVJYNnxXh3/Epw7QgY=        my library   \n",
       "3   2A87tzfnJTSWqD7gIZHisolhe4DMdzkbd6LzO1KHjNs=        my library   \n",
       "4   3qm6XTZ6MOCU11x8FIVbAGH5l5uMkT3/ZalWG1oo2Gc=           explore   \n",
       "5   3Hg5kugV1S0wzEVLAEfqjIV5UHzb7bCrdBRQlGygLvU=           explore   \n",
       "6   VkILU0H1h3NMmk9MQrXouNudGk5n8Ls5cqRRuBxeTh4=        my library   \n",
       "7   bPIvRTzfHxH5LgHrStll+tYwSQNVV8PySgA3M1PfTgc=           explore   \n",
       "8   /bU6IRSK+YNlNbaTkxo7bhsb2EDLPrnksdX3ggcZNhI=        my library   \n",
       "9   EbI7xoNxI+3QSsiHxL13zBdgHIJOwa3srHd7cDcnJ0g=        my library   \n",
       "10  t0aT90DlS1TGncgnKoL0SvfAWEr3Dl72QBVcokmKfLc=        my library   \n",
       "11  8FGjC9W+7F8WjheGZPAwX9RH3+nWSO7DzjM6EB6naOI=        my library   \n",
       "12  u6/Pb7X4u7KU4gXrBgGqt8RlRrNNFLn03tLAHyxRxwA=        my library   \n",
       "13  TYhx9eqWklddkLQlApQ5MS9jJCO4H3JHdpISZ3kZSRE=        my library   \n",
       "14  IgMar/mVrJQ+ODFPytDf7jwQMmR09+slyZUdVylRFLc=        my library   \n",
       "\n",
       "     source_screen_name          source_type  target  1h_source  \\\n",
       "0               Explore      online-playlist       1          0   \n",
       "1   Local playlist more       local-playlist       1          1   \n",
       "2   Local playlist more       local-playlist       1          1   \n",
       "3   Local playlist more       local-playlist       1          1   \n",
       "4               Explore      online-playlist       1          0   \n",
       "5               Explore      online-playlist       1          0   \n",
       "6   Local playlist more       local-playlist       1          1   \n",
       "7               Explore      online-playlist       1          0   \n",
       "8   Local playlist more        local-library       1          1   \n",
       "9   Local playlist more        local-library       1          1   \n",
       "10  Local playlist more        local-library       1          1   \n",
       "11  Local playlist more        local-library       1          1   \n",
       "12               others  top-hits-for-artist       0          0   \n",
       "13  Local playlist more        local-library       1          1   \n",
       "14  Local playlist more       local-playlist       1          1   \n",
       "\n",
       "    1h_system_tab  1h_screen_name  1h_source_type     ...      \\\n",
       "0               0               0               0     ...       \n",
       "1               1               1               1     ...       \n",
       "2               1               1               1     ...       \n",
       "3               1               1               1     ...       \n",
       "4               0               0               0     ...       \n",
       "5               0               0               0     ...       \n",
       "6               1               1               1     ...       \n",
       "7               0               0               0     ...       \n",
       "8               1               1               1     ...       \n",
       "9               1               1               1     ...       \n",
       "10              1               1               1     ...       \n",
       "11              1               1               1     ...       \n",
       "12              1               0               0     ...       \n",
       "13              1               1               1     ...       \n",
       "14              1               1               1     ...       \n",
       "\n",
       "    expiration_date membership_days registration_year registration_month  \\\n",
       "0        2017-10-05            2103              2012                  1   \n",
       "1        2017-09-11            2301              2011                  5   \n",
       "2        2017-09-11            2301              2011                  5   \n",
       "3        2017-09-11            2301              2011                  5   \n",
       "4        2017-10-05            2103              2012                  1   \n",
       "5        2017-10-05            2103              2012                  1   \n",
       "6        2017-09-11            2301              2011                  5   \n",
       "7        2017-10-05            2103              2012                  1   \n",
       "8        2018-03-04            2309              2011                 11   \n",
       "9        2018-03-04            2309              2011                 11   \n",
       "10       2018-03-04            2309              2011                 11   \n",
       "11       2018-03-04            2309              2011                 11   \n",
       "12       2017-09-30             786              2015                  8   \n",
       "13       2017-09-22            2405              2011                  2   \n",
       "14       2017-09-30             786              2015                  8   \n",
       "\n",
       "   expiration_year expiration_month  1h_via  play_count  track_count  \\\n",
       "0             2017               10       1         215         84.0   \n",
       "1             2017                9       1           1      17080.0   \n",
       "2             2017                9       1           4         61.0   \n",
       "3             2017                9       1           1          1.0   \n",
       "4             2017               10       1         412          6.0   \n",
       "5             2017               10       1        1108         15.0   \n",
       "6             2017                9       1        3869         43.0   \n",
       "7             2017               10       1         287         33.0   \n",
       "8             2018                3       1          31        155.0   \n",
       "9             2018                3       1         738        155.0   \n",
       "10            2018                3       1           2         62.0   \n",
       "11            2018                3       1         875         88.0   \n",
       "12            2017                9       1        5740        277.0   \n",
       "13            2017                9       1        3251        341.0   \n",
       "14            2017                9       1        6830        277.0   \n",
       "\n",
       "    cover_lang  \n",
       "0          1.0  \n",
       "1         10.0  \n",
       "2          2.0  \n",
       "3          1.0  \n",
       "4          1.0  \n",
       "5          1.0  \n",
       "6          1.0  \n",
       "7          1.0  \n",
       "8          2.0  \n",
       "9          2.0  \n",
       "10         2.0  \n",
       "11         1.0  \n",
       "12         3.0  \n",
       "13         1.0  \n",
       "14         3.0  \n",
       "\n",
       "[15 rows x 42 columns]"
      ]
     },
     "execution_count": 11,
     "metadata": {},
     "output_type": "execute_result"
    }
   ],
   "source": [
    "x = train_df.drop(['target'], axis=1)\n",
    "y = train_df['target']\n",
    "\n",
    "# take the last # rows of train_df as valid set where # means number of rows in test_df\n",
    "x_valid = train_df.drop(['target'], axis=1).tail(test_df.shape[0])\n",
    "y_valid = train_df['target'].tail(test_df.shape[0])\n",
    "\n",
    "x_test = test_df.drop(['id'], axis=1)\n",
    "test_ids = test_df['id']\n",
    "\n",
    "train_df.head(15)"
   ]
  },
  {
   "cell_type": "markdown",
   "metadata": {},
   "source": [
    "## Core"
   ]
  },
  {
   "cell_type": "code",
   "execution_count": 12,
   "metadata": {
    "ExecuteTime": {
     "end_time": "2017-12-09T04:41:49.254594Z",
     "start_time": "2017-12-09T04:41:03.834969Z"
    },
    "scrolled": false
   },
   "outputs": [
    {
     "name": "stdout",
     "output_type": "stream",
     "text": [
      "[5]\tvalid_0's auc: 0.655384\tvalid_1's auc: 0.670802\n",
      "defaultdict(<class 'dict'>, {'valid_0': {'auc': 0.6553838494844193}, 'valid_1': {'auc': 0.67080241566192178}})\n",
      "[CV] [0.67080241566192178]{ auc score=0.670802415662 }\n",
      "0.670802415662\n",
      "[5]\tvalid_0's auc: 0.695442\n"
     ]
    }
   ],
   "source": [
    "train_set = lgb.Dataset(x, y)\n",
    "valid_set = lgb.Dataset(x_valid, y_valid, free_raw_data=False)\n",
    "watchlist = [valid_set]\n",
    "\n",
    "params = dict({\n",
    "    'learning_rate': 0.2,\n",
    "    'application': 'binary',\n",
    "    'min_data_in_leaf': 10,\n",
    "#    'max_depth': 10,\n",
    "    'num_leaves': 2 ** 7,\n",
    "    'max_bin': 255,\n",
    "    'verbosity': 0,\n",
    "    'metric': 'auc'\n",
    "})\n",
    "\n",
    "grid_params = {\n",
    "    'learning_rate': [0.1, 0.2],\n",
    "    'max_depth': [8, 10],\n",
    "}\n",
    "\n",
    "# best_grid_params = custom_grid_search(params, grid_params, train_set, hold_out_set, num_boost_round=20)\n",
    "# for key, val in best_grid_params.items():\n",
    "#     params[key] = best_grid_params[key]\n",
    "\n",
    "cv_score = custom_cv(params, train_set, valid_set, k_fold=4, num_boost_round=5)\n",
    "print(cv_score)\n",
    "\n",
    "model = lgb.train(params, train_set=train_set, valid_sets=watchlist, num_boost_round=5, verbose_eval=5)\n",
    "y_test = model.predict(x_test)\n",
    "\n",
    "# When CV, valid_0 means the front 75% training, the last 25% validating\n",
    "#          valid_1 means the front 75% training, the last \"len(test set)\" validating\n",
    "#\n",
    "# When LGBM running, valid_0 means 100% training, the last \"len(test set)\" validating.\n",
    "#\n",
    "# Use CV valid_0 auc score to predict result!"
   ]
  },
  {
   "cell_type": "markdown",
   "metadata": {},
   "source": [
    "## Feature importances"
   ]
  },
  {
   "cell_type": "code",
   "execution_count": 13,
   "metadata": {
    "ExecuteTime": {
     "end_time": "2017-12-09T04:41:49.669730Z",
     "start_time": "2017-12-09T04:41:49.256317Z"
    }
   },
   "outputs": [
    {
     "data": {
      "image/png": "[encoded data removed]",
      "text/plain": [
       "<matplotlib.figure.Figure at 0x7ff9296a32e8>"
      ]
     },
     "metadata": {},
     "output_type": "display_data"
    }
   ],
   "source": [
    "plot_df = pd.DataFrame({'features': train_df.columns[train_df.columns != 'target'],\n",
    "                        'importances': model.feature_importance()})\n",
    "plot_df = plot_df.sort_values('importances', ascending=False)\n",
    "\n",
    "plt.figure(figsize=(8, 15))\n",
    "sns.barplot(x = plot_df.importances, y = plot_df.features)\n",
    "plt.show()"
   ]
  },
  {
   "cell_type": "markdown",
   "metadata": {},
   "source": [
    "## Output"
   ]
  },
  {
   "cell_type": "code",
   "execution_count": 14,
   "metadata": {
    "ExecuteTime": {
     "end_time": "2017-12-09T04:42:05.999816Z",
     "start_time": "2017-12-09T04:41:49.673482Z"
    }
   },
   "outputs": [
    {
     "name": "stdout",
     "output_type": "stream",
     "text": [
      "<class 'pandas.core.frame.DataFrame'>\n",
      "Int64Index: 2556790 entries, 0 to 2556789\n",
      "Data columns (total 2 columns):\n",
      "id        int64\n",
      "target    float64\n",
      "dtypes: float64(1), int64(1)\n",
      "memory usage: 58.5 MB\n"
     ]
    }
   ],
   "source": [
    "submission_df = pd.DataFrame()\n",
    "submission_df['id'] = test_ids\n",
    "submission_df['target'] = y_test\n",
    "# string file compression reduces file size\n",
    "submission_df.to_csv('data/submission.csv.gz', compression = 'gzip', index=False, float_format = '%.5f')\n",
    "submission_df.info()"
   ]
  },
  {
   "cell_type": "code",
   "execution_count": null,
   "metadata": {
    "collapsed": true
   },
   "outputs": [],
   "source": []
  }
 ],
 "metadata": {
  "kernelspec": {
   "display_name": "Python 3",
   "language": "python",
   "name": "python3"
  },
  "language_info": {
   "codemirror_mode": {
    "name": "ipython",
    "version": 3
   },
   "file_extension": ".py",
   "mimetype": "text/x-python",
   "name": "python",
   "nbconvert_exporter": "python",
   "pygments_lexer": "ipython3",
   "version": "3.6.3"
  },
  "toc": {
   "nav_menu": {},
   "number_sections": true,
   "sideBar": true,
   "skip_h1_title": false,
   "toc_cell": false,
   "toc_position": {
    "height": "929px",
    "left": "0px",
    "right": "1122px",
    "top": "107px",
    "width": "294px"
   },
   "toc_section_display": "block",
   "toc_window_display": true
  },
  "varInspector": {
   "cols": {
    "lenName": 16,
    "lenType": 16,
    "lenVar": 40
   },
   "kernels_config": {
    "python": {
     "delete_cmd_postfix": "",
     "delete_cmd_prefix": "del ",
     "library": "var_list.py",
     "varRefreshCmd": "print(var_dic_list())"
    },
    "r": {
     "delete_cmd_postfix": ") ",
     "delete_cmd_prefix": "rm(",
     "library": "var_list.r",
     "varRefreshCmd": "cat(var_dic_list()) "
    }
   },
   "oldHeight": 122,
   "position": {
    "height": "40px",
    "left": "1064px",
    "right": "20px",
    "top": "120px",
    "width": "250px"
   },
   "types_to_exclude": [
    "module",
    "function",
    "builtin_function_or_method",
    "instance",
    "_Feature"
   ],
   "varInspector_section_display": "none",
   "window_display": false
  }
 },
 "nbformat": 4,
 "nbformat_minor": 2
}
