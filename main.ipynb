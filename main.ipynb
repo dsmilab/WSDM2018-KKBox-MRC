{
 "cells": [
  {
   "cell_type": "markdown",
   "metadata": {},
   "source": [
    "# Pre-process"
   ]
  },
  {
   "cell_type": "markdown",
   "metadata": {
    "collapsed": true
   },
   "source": [
    "## Load library and define some functions needed"
   ]
  },
  {
   "cell_type": "code",
   "execution_count": 1,
   "metadata": {
    "ExecuteTime": {
     "end_time": "2017-12-09T13:49:33.071723Z",
     "start_time": "2017-12-09T13:49:32.212310Z"
    },
    "collapsed": true
   },
   "outputs": [],
   "source": [
    "import seaborn as sns\n",
    "import pandas as pd\n",
    "import numpy as np\n",
    "import lightgbm as lgb\n",
    "import matplotlib.pyplot as plt\n",
    "import datetime as dt\n",
    "import random\n",
    "import time\n",
    "\n",
    "import json\n",
    "import os.path\n",
    "import gc\n",
    "\n",
    "from script.module.FeatureProducer import FeatureProducer \n",
    "MODEL_FILE_NAME = 'model.txt'"
   ]
  },
  {
   "cell_type": "code",
   "execution_count": 2,
   "metadata": {
    "ExecuteTime": {
     "end_time": "2017-12-09T13:49:33.151350Z",
     "start_time": "2017-12-09T13:49:33.073539Z"
    },
    "collapsed": true
   },
   "outputs": [],
   "source": [
    "def custom_cv(params, train_set, hold_out_set=None, k_fold=5, num_boost_round=20):\n",
    "    x_train = train_set.data\n",
    "    y_train = train_set.label\n",
    "    n = x_train.shape[0]\n",
    "    unit = n // k_fold\n",
    "\n",
    "    cv_scores = []\n",
    "    for k in range(k_fold):\n",
    "        ##### !!!!!!!!!!!!!!!!!!!!!!!!!!!!!!!!!!!!!!!!!!!!!!!!!!!!!!!!!!!!!!!!!!!!!\n",
    "        if k < k_fold - 1:\n",
    "            continue\n",
    "        ##### !!!!!!!!!!!!!!!!!!!!!!!!!!!!!!!!!!!!!!!!!!!!!!!!!!!!!!!!!!!!!!!!!!!!!\n",
    "        x_cv_valid = None\n",
    "        y_cv_valid = None\n",
    "        if k == k_fold - 1:\n",
    "            x_cv_valid = x_train[unit * k:]\n",
    "            y_cv_valid = y_train[unit * k:]\n",
    "        else:\n",
    "            x_cv_valid = x_train[unit * k: unit * (k + 1)]\n",
    "            y_cv_valid = y_train[unit * k: unit * (k + 1)]\n",
    "\n",
    "        x_cv_train = None\n",
    "        y_cv_train = None\n",
    "        if k == 0:\n",
    "            x_cv_train = x_train[unit * (k + 1):]\n",
    "            y_cv_train = y_train[unit * (k + 1):]\n",
    "        elif k == k_fold - 1:\n",
    "            x_cv_train = x_train[:unit * k]\n",
    "            y_cv_train = y_train[:unit * k]\n",
    "        else:\n",
    "            x_cv_train = x_train[:unit * k].append(x_train[unit * (k + 1):])\n",
    "            y_cv_train = y_train[:unit * k].append(y_train[unit * (k + 1):])\n",
    "\n",
    "        cv_train_set = lgb.Dataset(x_cv_train, y_cv_train)\n",
    "        cv_valid_set = lgb.Dataset(x_cv_valid, y_cv_valid)\n",
    "        watchlist = [cv_valid_set]\n",
    "\n",
    "        # not tested yet\n",
    "        if hold_out_set is not None:\n",
    "            watchlist.append(hold_out_set)\n",
    "        model = lgb.train(params, train_set=cv_train_set, valid_sets=watchlist,\n",
    "                          num_boost_round=num_boost_round, verbose_eval=5)\n",
    "        print(model.best_score)\n",
    "        cv_scores.append(model.best_score['valid_1']['auc'])\n",
    "\n",
    "    tip_txt = '[CV]'\n",
    "    tip_txt += ' ' + str(cv_scores)\n",
    "    mean_cv_score = np.mean(cv_scores)\n",
    "    tip_txt += '{ auc score=' + str(mean_cv_score) + ' }'\n",
    "    print(tip_txt)\n",
    "\n",
    "    return mean_cv_score"
   ]
  },
  {
   "cell_type": "code",
   "execution_count": 3,
   "metadata": {
    "ExecuteTime": {
     "end_time": "2017-12-09T13:49:33.229882Z",
     "start_time": "2017-12-09T13:49:33.152781Z"
    },
    "collapsed": true
   },
   "outputs": [],
   "source": [
    "def custom_grid_search(params, own_grid_params, train_set, valid_set, num_boost_round=20):\n",
    "    keys = []\n",
    "    values = [list()]\n",
    "    for key, value in own_grid_params.items():\n",
    "        keys.append(key)\n",
    "        new_values = []\n",
    "        for item in values:\n",
    "            for val in value:\n",
    "                new_values.append(item + [val])\n",
    "        values = new_values\n",
    "\n",
    "    watchlist = [valid_set]\n",
    "    grid_best_params = None\n",
    "    grid_best_score = None\n",
    "\n",
    "    for comb in values:\n",
    "        own_params = {}\n",
    "        for idx in range(len(keys)):\n",
    "            own_params[keys[idx]] = comb[idx]\n",
    "            params[keys[idx]] = comb[idx]\n",
    "\n",
    "        cv_score = custom_cv(params, train_set, valid_set, k_fold=4, num_boost_round=num_boost_round)\n",
    "\n",
    "        tip_txt = '[GridSearch]'\n",
    "        for idx in range(len(keys)):\n",
    "            tip_txt += ' ' + str(keys[idx]) + '=' + str(comb[idx])\n",
    "        tip_txt += ' { best_score: ' + str(cv_score) + ' }'\n",
    "        print(tip_txt)\n",
    "\n",
    "        if grid_best_score is None or cv_score > grid_best_score:\n",
    "            grid_best_params, grid_best_score = own_params, cv_score\n",
    "\n",
    "    tip_txt = '[GS Best Result]'\n",
    "    for key, val in grid_best_params.items():\n",
    "        tip_txt += ' ' + str(key) + '=' + str(val)\n",
    "    tip_txt += ' { best_score: ' + str(grid_best_score) + ' }'\n",
    "    print(tip_txt)\n",
    "    \n",
    "    return grid_best_params"
   ]
  },
  {
   "cell_type": "markdown",
   "metadata": {},
   "source": [
    "## init"
   ]
  },
  {
   "cell_type": "code",
   "execution_count": 4,
   "metadata": {
    "ExecuteTime": {
     "end_time": "2017-12-09T13:49:33.302115Z",
     "start_time": "2017-12-09T13:49:33.231312Z"
    },
    "collapsed": true
   },
   "outputs": [],
   "source": [
    "fp = FeatureProducer(root='./data')"
   ]
  },
  {
   "cell_type": "markdown",
   "metadata": {},
   "source": [
    "## load"
   ]
  },
  {
   "cell_type": "code",
   "execution_count": 5,
   "metadata": {
    "ExecuteTime": {
     "end_time": "2017-12-09T13:49:53.256520Z",
     "start_time": "2017-12-09T13:49:33.303446Z"
    }
   },
   "outputs": [
    {
     "name": "stderr",
     "output_type": "stream",
     "text": [
      "21:49:53 INFO << load raw data in 19.90s\n"
     ]
    }
   ],
   "source": [
    "fp.load_raw()"
   ]
  },
  {
   "cell_type": "markdown",
   "metadata": {},
   "source": [
    "## preprocess"
   ]
  },
  {
   "cell_type": "code",
   "execution_count": 6,
   "metadata": {
    "ExecuteTime": {
     "end_time": "2017-12-09T13:51:25.537585Z",
     "start_time": "2017-12-09T13:49:53.258116Z"
    }
   },
   "outputs": [
    {
     "name": "stderr",
     "output_type": "stream",
     "text": [
      "21:50:22 INFO << parse train_df in 29.24s\n",
      "21:50:38 INFO << parse test_df in 15.78s\n",
      "21:50:39 INFO << parse members_df in 0.98s\n",
      "21:50:55 INFO << parse songs_df in 16.39s\n",
      "21:50:59 INFO << parse song_extra_info_df in 3.02s\n"
     ]
    }
   ],
   "source": [
    "fp.pre_process()"
   ]
  },
  {
   "cell_type": "markdown",
   "metadata": {},
   "source": [
    "## feature engineering"
   ]
  },
  {
   "cell_type": "code",
   "execution_count": 7,
   "metadata": {
    "ExecuteTime": {
     "end_time": "2017-12-09T13:52:11.446232Z",
     "start_time": "2017-12-09T13:51:25.539406Z"
    }
   },
   "outputs": [
    {
     "name": "stderr",
     "output_type": "stream",
     "text": [
      "21:51:50 INFO << parse engineering_df in 25.45s\n",
      "21:52:11 INFO << parse engineering_df in 20.34s\n"
     ]
    }
   ],
   "source": [
    "fp.feature_engineering()"
   ]
  },
  {
   "cell_type": "markdown",
   "metadata": {},
   "source": [
    "## type to category"
   ]
  },
  {
   "cell_type": "code",
   "execution_count": 8,
   "metadata": {
    "ExecuteTime": {
     "end_time": "2017-12-09T13:52:44.632084Z",
     "start_time": "2017-12-09T13:52:11.448005Z"
    }
   },
   "outputs": [
    {
     "name": "stderr",
     "output_type": "stream",
     "text": [
      "21:52:24 INFO << transform \"msno\" in 2.28s\n",
      "21:52:28 INFO << transform \"song_id\" in 4.03s\n",
      "21:52:29 INFO << transform \"source_system_tab\" in 1.26s\n",
      "21:52:30 INFO << transform \"source_screen_name\" in 1.32s\n",
      "21:52:32 INFO << transform \"source_type\" in 1.23s\n",
      "21:52:32 INFO << transform \"1h_source\" in 0.39s\n",
      "21:52:32 INFO << transform \"1h_system_tab\" in 0.37s\n",
      "21:52:33 INFO << transform \"1h_screen_name\" in 0.34s\n",
      "21:52:33 INFO << transform \"1h_source_type\" in 0.32s\n",
      "21:52:33 INFO << transform \"song_length\" in 0.32s\n",
      "21:52:35 INFO << transform \"genre_ids\" in 1.26s\n",
      "21:52:36 INFO << transform \"artist_name\" in 1.68s\n",
      "21:52:38 INFO << transform \"composer\" in 1.53s\n",
      "21:52:39 INFO << transform \"lyricist\" in 1.05s\n",
      "21:52:40 INFO << transform \"language\" in 1.06s\n",
      "21:52:40 INFO << transform \"artist_count\" in 0.28s\n",
      "21:52:40 INFO << transform \"genre_count\" in 0.25s\n",
      "21:52:41 INFO << transform \"composer_count\" in 0.23s\n",
      "21:52:41 INFO << transform \"lyricist_count\" in 0.20s\n",
      "21:52:41 INFO << transform \"1h_lang\" in 0.15s\n",
      "21:52:41 INFO << transform \"1h_song_length\" in 0.12s\n",
      "21:52:41 INFO << transform \"song_year\" in 0.12s\n",
      "21:52:41 INFO << transform \"1h_song_year\" in 0.07s\n",
      "21:52:42 INFO << transform \"city\" in 0.40s\n",
      "21:52:42 INFO << transform \"bd\" in 0.42s\n",
      "21:52:42 INFO << transform \"gender\" in 0.35s\n",
      "21:52:43 INFO << transform \"registered_via\" in 0.38s\n",
      "21:52:43 INFO << transform \"expiration_date\" in 0.24s\n",
      "21:52:43 INFO << transform \"membership_days\" in 0.21s\n",
      "21:52:43 INFO << transform \"registration_init_year\" in 0.19s\n",
      "21:52:44 INFO << transform \"registration_init_month\" in 0.16s\n",
      "21:52:44 INFO << transform \"expiration_date_year\" in 0.14s\n",
      "21:52:44 INFO << transform \"expiration_date_month\" in 0.11s\n",
      "21:52:44 INFO << transform \"1h_via\" in 0.07s\n",
      "21:52:44 INFO << transform \"play_count\" in 0.06s\n",
      "21:52:44 INFO << transform \"track_count\" in 0.07s\n",
      "21:52:44 INFO << transform \"cover_lang\" in 0.04s\n"
     ]
    }
   ],
   "source": [
    "fp.self_fit_transform()"
   ]
  },
  {
   "cell_type": "code",
   "execution_count": 9,
   "metadata": {
    "ExecuteTime": {
     "end_time": "2017-12-09T13:52:45.096367Z",
     "start_time": "2017-12-09T13:52:44.633641Z"
    }
   },
   "outputs": [
    {
     "name": "stdout",
     "output_type": "stream",
     "text": [
      "<class 'pandas.core.frame.DataFrame'>\n",
      "Int64Index: 7377418 entries, 0 to 7377417\n",
      "Data columns (total 38 columns):\n",
      "msno                       category\n",
      "song_id                    category\n",
      "source_system_tab          category\n",
      "source_screen_name         category\n",
      "source_type                category\n",
      "target                     int64\n",
      "1h_source                  bool\n",
      "1h_system_tab              bool\n",
      "1h_screen_name             bool\n",
      "1h_source_type             bool\n",
      "song_length                int32\n",
      "genre_ids                  category\n",
      "artist_name                category\n",
      "composer                   category\n",
      "lyricist                   category\n",
      "language                   category\n",
      "artist_count               int32\n",
      "genre_count                int32\n",
      "composer_count             int32\n",
      "lyricist_count             int32\n",
      "1h_lang                    bool\n",
      "1h_song_length             bool\n",
      "song_year                  int32\n",
      "1h_song_year               bool\n",
      "city                       category\n",
      "bd                         category\n",
      "gender                     category\n",
      "registered_via             category\n",
      "expiration_date            int32\n",
      "membership_days            int32\n",
      "registration_init_year     int32\n",
      "registration_init_month    int32\n",
      "expiration_date_year       int32\n",
      "expiration_date_month      int32\n",
      "1h_via                     bool\n",
      "play_count                 int32\n",
      "track_count                int32\n",
      "cover_lang                 int32\n",
      "dtypes: bool(8), category(14), int32(15), int64(1)\n",
      "memory usage: 808.4 MB\n",
      "<class 'pandas.core.frame.DataFrame'>\n",
      "Int64Index: 2556790 entries, 0 to 2556789\n",
      "Data columns (total 38 columns):\n",
      "id                         int64\n",
      "msno                       category\n",
      "song_id                    category\n",
      "source_system_tab          category\n",
      "source_screen_name         category\n",
      "source_type                category\n",
      "1h_source                  bool\n",
      "1h_system_tab              bool\n",
      "1h_screen_name             bool\n",
      "1h_source_type             bool\n",
      "song_length                int32\n",
      "genre_ids                  category\n",
      "artist_name                category\n",
      "composer                   category\n",
      "lyricist                   category\n",
      "language                   category\n",
      "artist_count               int32\n",
      "genre_count                int32\n",
      "composer_count             int32\n",
      "lyricist_count             int32\n",
      "1h_lang                    bool\n",
      "1h_song_length             bool\n",
      "song_year                  int32\n",
      "1h_song_year               bool\n",
      "city                       category\n",
      "bd                         category\n",
      "gender                     category\n",
      "registered_via             category\n",
      "expiration_date            int32\n",
      "membership_days            int32\n",
      "registration_init_year     int32\n",
      "registration_init_month    int32\n",
      "expiration_date_year       int32\n",
      "expiration_date_month      int32\n",
      "1h_via                     bool\n",
      "play_count                 int32\n",
      "track_count                int32\n",
      "cover_lang                 int32\n",
      "dtypes: bool(8), category(14), int32(15), int64(1)\n",
      "memory usage: 281.1 MB\n"
     ]
    }
   ],
   "source": [
    "train_df = fp.train_df\n",
    "test_df = fp.test_df\n",
    "\n",
    "assert(train_df.shape[1] == test_df.shape[1])\n",
    "train_df.info()\n",
    "test_df.info()"
   ]
  },
  {
   "cell_type": "markdown",
   "metadata": {},
   "source": [
    "## CF natively"
   ]
  },
  {
   "cell_type": "code",
   "execution_count": 10,
   "metadata": {
    "ExecuteTime": {
     "end_time": "2017-12-09T13:52:45.102975Z",
     "start_time": "2017-12-09T13:52:45.097898Z"
    }
   },
   "outputs": [],
   "source": [
    "import numpy as np\n",
    "import pandas as pd\n",
    "import pickle\n",
    "import implicit\n",
    "import time\n",
    "import os\n",
    "import logging\n",
    "\n",
    "# self-defined\n",
    "from script.module.FeatureProducer import FeatureProducer\n",
    "\n",
    "from scipy.sparse import coo_matrix"
   ]
  },
  {
   "cell_type": "code",
   "execution_count": 11,
   "metadata": {
    "ExecuteTime": {
     "end_time": "2017-12-09T13:52:45.625786Z",
     "start_time": "2017-12-09T13:52:45.104376Z"
    },
    "collapsed": true
   },
   "outputs": [],
   "source": [
    "class ImplicitProducer(object):\n",
    "\n",
    "    __TRAIN_FILE_NAME = 'train.csv'\n",
    "    __TEST_FILE_NAME = 'test.csv'\n",
    "\n",
    "    def __init__(self, root='./data', factors=10, iterations=15):\n",
    "        assert os.path.exists(root), '%s not exists!' % root\n",
    "        self._root = os.path.expanduser(root)\n",
    "\n",
    "        self._train_df = None\n",
    "        self._test_df = None\n",
    "        self._comb_df = None\n",
    "\n",
    "        self._factors = factors\n",
    "        self._iterations = iterations\n",
    "\n",
    "    def prepare(self):\n",
    "        start = time.time()\n",
    "        # load train & test set\n",
    "        self._train_df = pd.read_csv(os.path.join(self._root, self.__TRAIN_FILE_NAME))\n",
    "        self._test_df = pd.read_csv(os.path.join(self._root, self.__TEST_FILE_NAME))\n",
    "\n",
    "        self._train_df = self._train_df[['msno', 'song_id', 'target']]\n",
    "        self._test_df = self._test_df[['msno', 'song_id']]\n",
    "        self._comb_df = self._train_df.append(self._test_df)\n",
    "\n",
    "        for column in self._train_df.columns:\n",
    "            if self._train_df[column].dtype == object:\n",
    "                self._train_df[column] = self._train_df[column].astype('category')\n",
    "\n",
    "        for column in self._test_df.columns:\n",
    "            if self._test_df[column].dtype == object:\n",
    "                self._test_df[column] = self._test_df[column].astype('category')\n",
    "\n",
    "        for column in self._comb_df.columns:\n",
    "            if self._comb_df[column].dtype == object:\n",
    "                self._comb_df[column] = self._comb_df[column].astype('category')\n",
    "\n",
    "        logging.info(\"prepare in %0.2fs\" % (time.time() - start))\n",
    "\n",
    "    def compute(self, is_train):\n",
    "        assert(isinstance(is_train, bool))\n",
    "\n",
    "        \"\"\"\n",
    "        # generate recommendations for each user and write out to a file\n",
    "        songs = dict(enumerate(df['song_id'].cat.categories))\n",
    "        start = time.time()\n",
    "        user_plays = train_csr_matrix.T.tocsr()\n",
    "\n",
    "        with open('.out', \"w\") as o:\n",
    "            for userid, username in enumerate(df['msno'].cat.categories):\n",
    "                for songid, score in model.recommend(userid, user_plays, N=2):\n",
    "                    o.write(\"%s\\t%s\\t%s\\n\" % (username, songs[songid], score))\n",
    "        logging.debug(\"generated recommendations in %0.2fs\",  time.time() - start)\n",
    "        \"\"\"\n",
    "        if is_train:\n",
    "            return self.generate_latent_factors(self._train_df, self._train_df)\n",
    "        else:\n",
    "            return self.generate_latent_factors(self._test_df, self._train_df)\n",
    "\n",
    "    def generate_latent_factors(self, df, ref_df):\n",
    "        model = implicit.als.AlternatingLeastSquares(factors=self._factors, iterations=self._iterations)\n",
    "\n",
    "        csr_matrix = coo_matrix((ref_df['target'].astype(float),\n",
    "                                 (ref_df['song_id'].cat.codes, ref_df['msno'].cat.codes)))\n",
    "        model.fit(csr_matrix)\n",
    "\n",
    "        item_series = pd.DataFrame(data=ref_df['song_id'].cat.categories.tolist(), columns=['song_id'])\n",
    "        user_series = pd.DataFrame(data=ref_df['msno'].cat.categories.tolist(), columns=['msno'])\n",
    "\n",
    "        item_factors_df = pd.DataFrame(data=model.item_factors)\n",
    "        user_factors_df = pd.DataFrame(data=model.user_factors)\n",
    "        item_factors_df.columns = ['item_fac_' + str(i) for i in range(self._factors)]\n",
    "        user_factors_df.columns = ['user_fac_' + str(i) for i in range(self._factors)]\n",
    "\n",
    "        item_factors_df = item_factors_df.join(item_series)\n",
    "        user_factors_df = user_factors_df.join(user_series)\n",
    "        # print(item_factors_df)\n",
    "        # print(user_factors_df)\n",
    "\n",
    "        df = df.merge(item_factors_df, on='song_id', how='left')\n",
    "        df = df.merge(user_factors_df, on='msno', how='left')\n",
    "        # print(df)\n",
    "        return df\n",
    "\n",
    "    @property\n",
    "    def train_df(self):\n",
    "        return self._train_df\n",
    "\n",
    "    @property\n",
    "    def test_df(self):\n",
    "        return self._test_df"
   ]
  },
  {
   "cell_type": "code",
   "execution_count": 12,
   "metadata": {
    "ExecuteTime": {
     "end_time": "2017-12-09T13:53:07.700250Z",
     "start_time": "2017-12-09T13:52:45.627367Z"
    }
   },
   "outputs": [
    {
     "name": "stderr",
     "output_type": "stream",
     "text": [
      "21:53:07 INFO << prepare in 22.02s\n"
     ]
    }
   ],
   "source": [
    "ip = ImplicitProducer(root='./data')\n",
    "ip.prepare()"
   ]
  },
  {
   "cell_type": "code",
   "execution_count": 13,
   "metadata": {
    "ExecuteTime": {
     "end_time": "2017-12-09T13:53:35.331455Z",
     "start_time": "2017-12-09T13:53:07.701865Z"
    }
   },
   "outputs": [
    {
     "name": "stderr",
     "output_type": "stream",
     "text": [
      "21:53:13 DEBUG << finished iteration 0 in 0.37065625190734863\n",
      "21:53:13 DEBUG << finished iteration 1 in 0.249664306640625\n",
      "21:53:13 DEBUG << finished iteration 2 in 0.2527327537536621\n",
      "21:53:13 DEBUG << finished iteration 3 in 0.24882054328918457\n",
      "21:53:14 DEBUG << finished iteration 4 in 0.24675869941711426\n",
      "21:53:14 DEBUG << finished iteration 5 in 0.24088239669799805\n",
      "21:53:14 DEBUG << finished iteration 6 in 0.2478349208831787\n",
      "21:53:14 DEBUG << finished iteration 7 in 0.24360942840576172\n",
      "21:53:15 DEBUG << finished iteration 8 in 0.24291539192199707\n",
      "21:53:15 DEBUG << finished iteration 9 in 0.24019289016723633\n",
      "21:53:15 DEBUG << finished iteration 10 in 0.24535584449768066\n",
      "21:53:15 DEBUG << finished iteration 11 in 0.24127650260925293\n",
      "21:53:15 DEBUG << finished iteration 12 in 0.24698686599731445\n",
      "21:53:16 DEBUG << finished iteration 13 in 0.24649381637573242\n",
      "21:53:16 DEBUG << finished iteration 14 in 0.24810242652893066\n",
      "21:53:29 DEBUG << finished iteration 0 in 0.2599833011627197\n",
      "21:53:29 DEBUG << finished iteration 1 in 0.24800419807434082\n",
      "21:53:29 DEBUG << finished iteration 2 in 0.24708104133605957\n",
      "21:53:30 DEBUG << finished iteration 3 in 0.24530601501464844\n",
      "21:53:30 DEBUG << finished iteration 4 in 0.24217653274536133\n",
      "21:53:30 DEBUG << finished iteration 5 in 0.2492821216583252\n",
      "21:53:30 DEBUG << finished iteration 6 in 0.24426722526550293\n",
      "21:53:31 DEBUG << finished iteration 7 in 0.24344515800476074\n",
      "21:53:31 DEBUG << finished iteration 8 in 0.24265122413635254\n",
      "21:53:31 DEBUG << finished iteration 9 in 0.24210548400878906\n",
      "21:53:31 DEBUG << finished iteration 10 in 0.24496746063232422\n",
      "21:53:32 DEBUG << finished iteration 11 in 0.2482161521911621\n",
      "21:53:32 DEBUG << finished iteration 12 in 0.24521589279174805\n",
      "21:53:32 DEBUG << finished iteration 13 in 0.24620866775512695\n",
      "21:53:32 DEBUG << finished iteration 14 in 0.24574637413024902\n"
     ]
    }
   ],
   "source": [
    "train_cf_df = ip.compute(True)\n",
    "test_cf_df = ip.compute(False)"
   ]
  },
  {
   "cell_type": "code",
   "execution_count": 14,
   "metadata": {
    "ExecuteTime": {
     "end_time": "2017-12-09T13:53:37.772347Z",
     "start_time": "2017-12-09T13:53:35.333189Z"
    },
    "collapsed": true
   },
   "outputs": [],
   "source": [
    "train_cf_df.drop(['msno', 'song_id', 'target'], axis=1, inplace=True)\n",
    "test_cf_df.drop(['msno', 'song_id'], axis=1, inplace=True)"
   ]
  },
  {
   "cell_type": "code",
   "execution_count": 15,
   "metadata": {
    "ExecuteTime": {
     "end_time": "2017-12-09T13:53:40.793038Z",
     "start_time": "2017-12-09T13:53:37.774083Z"
    },
    "collapsed": true
   },
   "outputs": [],
   "source": [
    "train_df = train_df.join(train_cf_df)\n",
    "test_df = test_df.join(test_cf_df)"
   ]
  },
  {
   "cell_type": "markdown",
   "metadata": {},
   "source": [
    "# LGBM training"
   ]
  },
  {
   "cell_type": "markdown",
   "metadata": {},
   "source": [
    "## Correlation over all features (underconstruction...)"
   ]
  },
  {
   "cell_type": "markdown",
   "metadata": {},
   "source": [
    "For categorical feature, need to numerize them.\n",
    "Also, for all numeric features, it's necessary to be normalized."
   ]
  },
  {
   "cell_type": "code",
   "execution_count": 16,
   "metadata": {
    "ExecuteTime": {
     "end_time": "2017-12-09T13:54:29.741998Z",
     "start_time": "2017-12-09T13:53:40.794772Z"
    }
   },
   "outputs": [
    {
     "data": {
      "image/png": "[encoded data removed]",
      "text/plain": [
       "<matplotlib.figure.Figure at 0x7f2cd65f1438>"
      ]
     },
     "metadata": {},
     "output_type": "display_data"
    }
   ],
   "source": [
    "corr = train_df.corr()\n",
    "\n",
    "f, ax = plt.subplots(figsize=(10, 8))\n",
    "sns.heatmap(corr, mask=np.zeros_like(corr, dtype=np.bool), cmap=sns.diverging_palette(220, 10, as_cmap=True),\n",
    "            square=True, ax=ax)\n",
    "plt.show()"
   ]
  },
  {
   "cell_type": "markdown",
   "metadata": {},
   "source": [
    "## Prepare"
   ]
  },
  {
   "cell_type": "code",
   "execution_count": 17,
   "metadata": {
    "ExecuteTime": {
     "end_time": "2017-12-09T13:54:31.536777Z",
     "start_time": "2017-12-09T13:54:29.743510Z"
    }
   },
   "outputs": [
    {
     "data": {
      "text/html": [
       "<div>\n",
       "<style>\n",
       "    .dataframe thead tr:only-child th {\n",
       "        text-align: right;\n",
       "    }\n",
       "\n",
       "    .dataframe thead th {\n",
       "        text-align: left;\n",
       "    }\n",
       "\n",
       "    .dataframe tbody tr th {\n",
       "        vertical-align: top;\n",
       "    }\n",
       "</style>\n",
       "<table border=\"1\" class=\"dataframe\">\n",
       "  <thead>\n",
       "    <tr style=\"text-align: right;\">\n",
       "      <th></th>\n",
       "      <th>msno</th>\n",
       "      <th>song_id</th>\n",
       "      <th>source_system_tab</th>\n",
       "      <th>source_screen_name</th>\n",
       "      <th>source_type</th>\n",
       "      <th>target</th>\n",
       "      <th>1h_source</th>\n",
       "      <th>1h_system_tab</th>\n",
       "      <th>1h_screen_name</th>\n",
       "      <th>1h_source_type</th>\n",
       "      <th>...</th>\n",
       "      <th>user_fac_0</th>\n",
       "      <th>user_fac_1</th>\n",
       "      <th>user_fac_2</th>\n",
       "      <th>user_fac_3</th>\n",
       "      <th>user_fac_4</th>\n",
       "      <th>user_fac_5</th>\n",
       "      <th>user_fac_6</th>\n",
       "      <th>user_fac_7</th>\n",
       "      <th>user_fac_8</th>\n",
       "      <th>user_fac_9</th>\n",
       "    </tr>\n",
       "  </thead>\n",
       "  <tbody>\n",
       "    <tr>\n",
       "      <th>0</th>\n",
       "      <td>FGtllVqz18RPiwJj/edr2gV78zirAiY/9SmYvia+kCg=</td>\n",
       "      <td>BBzumQNXUHKdEBOB7mAJuzok+IJA1c2Ryg/yzTF6tik=</td>\n",
       "      <td>explore</td>\n",
       "      <td>Explore</td>\n",
       "      <td>online-playlist</td>\n",
       "      <td>1</td>\n",
       "      <td>False</td>\n",
       "      <td>False</td>\n",
       "      <td>False</td>\n",
       "      <td>False</td>\n",
       "      <td>...</td>\n",
       "      <td>0.085214</td>\n",
       "      <td>0.191165</td>\n",
       "      <td>0.189145</td>\n",
       "      <td>0.070272</td>\n",
       "      <td>0.069798</td>\n",
       "      <td>0.138765</td>\n",
       "      <td>-0.062575</td>\n",
       "      <td>0.051114</td>\n",
       "      <td>-0.062616</td>\n",
       "      <td>0.002772</td>\n",
       "    </tr>\n",
       "    <tr>\n",
       "      <th>1</th>\n",
       "      <td>Xumu+NIjS6QYVxDS4/t3SawvJ7viT9hPKXmf0RtLNx8=</td>\n",
       "      <td>bhp/MpSNoqoxOIB+/l8WPqu6jldth4DIpCm3ayXnJqM=</td>\n",
       "      <td>my library</td>\n",
       "      <td>Local playlist more</td>\n",
       "      <td>local-playlist</td>\n",
       "      <td>1</td>\n",
       "      <td>True</td>\n",
       "      <td>True</td>\n",
       "      <td>True</td>\n",
       "      <td>True</td>\n",
       "      <td>...</td>\n",
       "      <td>-0.009257</td>\n",
       "      <td>-0.032589</td>\n",
       "      <td>0.046747</td>\n",
       "      <td>0.028940</td>\n",
       "      <td>0.073362</td>\n",
       "      <td>0.022887</td>\n",
       "      <td>0.095853</td>\n",
       "      <td>0.035650</td>\n",
       "      <td>-0.001603</td>\n",
       "      <td>0.069971</td>\n",
       "    </tr>\n",
       "    <tr>\n",
       "      <th>2</th>\n",
       "      <td>Xumu+NIjS6QYVxDS4/t3SawvJ7viT9hPKXmf0RtLNx8=</td>\n",
       "      <td>JNWfrrC7zNN7BdMpsISKa4Mw+xVJYNnxXh3/Epw7QgY=</td>\n",
       "      <td>my library</td>\n",
       "      <td>Local playlist more</td>\n",
       "      <td>local-playlist</td>\n",
       "      <td>1</td>\n",
       "      <td>True</td>\n",
       "      <td>True</td>\n",
       "      <td>True</td>\n",
       "      <td>True</td>\n",
       "      <td>...</td>\n",
       "      <td>-0.009257</td>\n",
       "      <td>-0.032589</td>\n",
       "      <td>0.046747</td>\n",
       "      <td>0.028940</td>\n",
       "      <td>0.073362</td>\n",
       "      <td>0.022887</td>\n",
       "      <td>0.095853</td>\n",
       "      <td>0.035650</td>\n",
       "      <td>-0.001603</td>\n",
       "      <td>0.069971</td>\n",
       "    </tr>\n",
       "    <tr>\n",
       "      <th>3</th>\n",
       "      <td>Xumu+NIjS6QYVxDS4/t3SawvJ7viT9hPKXmf0RtLNx8=</td>\n",
       "      <td>2A87tzfnJTSWqD7gIZHisolhe4DMdzkbd6LzO1KHjNs=</td>\n",
       "      <td>my library</td>\n",
       "      <td>Local playlist more</td>\n",
       "      <td>local-playlist</td>\n",
       "      <td>1</td>\n",
       "      <td>True</td>\n",
       "      <td>True</td>\n",
       "      <td>True</td>\n",
       "      <td>True</td>\n",
       "      <td>...</td>\n",
       "      <td>-0.009257</td>\n",
       "      <td>-0.032589</td>\n",
       "      <td>0.046747</td>\n",
       "      <td>0.028940</td>\n",
       "      <td>0.073362</td>\n",
       "      <td>0.022887</td>\n",
       "      <td>0.095853</td>\n",
       "      <td>0.035650</td>\n",
       "      <td>-0.001603</td>\n",
       "      <td>0.069971</td>\n",
       "    </tr>\n",
       "    <tr>\n",
       "      <th>4</th>\n",
       "      <td>FGtllVqz18RPiwJj/edr2gV78zirAiY/9SmYvia+kCg=</td>\n",
       "      <td>3qm6XTZ6MOCU11x8FIVbAGH5l5uMkT3/ZalWG1oo2Gc=</td>\n",
       "      <td>explore</td>\n",
       "      <td>Explore</td>\n",
       "      <td>online-playlist</td>\n",
       "      <td>1</td>\n",
       "      <td>False</td>\n",
       "      <td>False</td>\n",
       "      <td>False</td>\n",
       "      <td>False</td>\n",
       "      <td>...</td>\n",
       "      <td>0.085214</td>\n",
       "      <td>0.191165</td>\n",
       "      <td>0.189145</td>\n",
       "      <td>0.070272</td>\n",
       "      <td>0.069798</td>\n",
       "      <td>0.138765</td>\n",
       "      <td>-0.062575</td>\n",
       "      <td>0.051114</td>\n",
       "      <td>-0.062616</td>\n",
       "      <td>0.002772</td>\n",
       "    </tr>\n",
       "    <tr>\n",
       "      <th>5</th>\n",
       "      <td>FGtllVqz18RPiwJj/edr2gV78zirAiY/9SmYvia+kCg=</td>\n",
       "      <td>3Hg5kugV1S0wzEVLAEfqjIV5UHzb7bCrdBRQlGygLvU=</td>\n",
       "      <td>explore</td>\n",
       "      <td>Explore</td>\n",
       "      <td>online-playlist</td>\n",
       "      <td>1</td>\n",
       "      <td>False</td>\n",
       "      <td>False</td>\n",
       "      <td>False</td>\n",
       "      <td>False</td>\n",
       "      <td>...</td>\n",
       "      <td>0.085214</td>\n",
       "      <td>0.191165</td>\n",
       "      <td>0.189145</td>\n",
       "      <td>0.070272</td>\n",
       "      <td>0.069798</td>\n",
       "      <td>0.138765</td>\n",
       "      <td>-0.062575</td>\n",
       "      <td>0.051114</td>\n",
       "      <td>-0.062616</td>\n",
       "      <td>0.002772</td>\n",
       "    </tr>\n",
       "    <tr>\n",
       "      <th>6</th>\n",
       "      <td>Xumu+NIjS6QYVxDS4/t3SawvJ7viT9hPKXmf0RtLNx8=</td>\n",
       "      <td>VkILU0H1h3NMmk9MQrXouNudGk5n8Ls5cqRRuBxeTh4=</td>\n",
       "      <td>my library</td>\n",
       "      <td>Local playlist more</td>\n",
       "      <td>local-playlist</td>\n",
       "      <td>1</td>\n",
       "      <td>True</td>\n",
       "      <td>True</td>\n",
       "      <td>True</td>\n",
       "      <td>True</td>\n",
       "      <td>...</td>\n",
       "      <td>-0.009257</td>\n",
       "      <td>-0.032589</td>\n",
       "      <td>0.046747</td>\n",
       "      <td>0.028940</td>\n",
       "      <td>0.073362</td>\n",
       "      <td>0.022887</td>\n",
       "      <td>0.095853</td>\n",
       "      <td>0.035650</td>\n",
       "      <td>-0.001603</td>\n",
       "      <td>0.069971</td>\n",
       "    </tr>\n",
       "    <tr>\n",
       "      <th>7</th>\n",
       "      <td>FGtllVqz18RPiwJj/edr2gV78zirAiY/9SmYvia+kCg=</td>\n",
       "      <td>bPIvRTzfHxH5LgHrStll+tYwSQNVV8PySgA3M1PfTgc=</td>\n",
       "      <td>explore</td>\n",
       "      <td>Explore</td>\n",
       "      <td>online-playlist</td>\n",
       "      <td>1</td>\n",
       "      <td>False</td>\n",
       "      <td>False</td>\n",
       "      <td>False</td>\n",
       "      <td>False</td>\n",
       "      <td>...</td>\n",
       "      <td>0.085214</td>\n",
       "      <td>0.191165</td>\n",
       "      <td>0.189145</td>\n",
       "      <td>0.070272</td>\n",
       "      <td>0.069798</td>\n",
       "      <td>0.138765</td>\n",
       "      <td>-0.062575</td>\n",
       "      <td>0.051114</td>\n",
       "      <td>-0.062616</td>\n",
       "      <td>0.002772</td>\n",
       "    </tr>\n",
       "    <tr>\n",
       "      <th>8</th>\n",
       "      <td>uHqAtShXTRXju5GE8ri3ITsVFepPf8jUoCF7ffNOuqE=</td>\n",
       "      <td>/bU6IRSK+YNlNbaTkxo7bhsb2EDLPrnksdX3ggcZNhI=</td>\n",
       "      <td>my library</td>\n",
       "      <td>Local playlist more</td>\n",
       "      <td>local-library</td>\n",
       "      <td>1</td>\n",
       "      <td>True</td>\n",
       "      <td>True</td>\n",
       "      <td>True</td>\n",
       "      <td>True</td>\n",
       "      <td>...</td>\n",
       "      <td>0.037222</td>\n",
       "      <td>0.050001</td>\n",
       "      <td>0.050223</td>\n",
       "      <td>0.085679</td>\n",
       "      <td>0.125906</td>\n",
       "      <td>0.046703</td>\n",
       "      <td>-0.071480</td>\n",
       "      <td>-0.059286</td>\n",
       "      <td>0.030356</td>\n",
       "      <td>0.033681</td>\n",
       "    </tr>\n",
       "    <tr>\n",
       "      <th>9</th>\n",
       "      <td>uHqAtShXTRXju5GE8ri3ITsVFepPf8jUoCF7ffNOuqE=</td>\n",
       "      <td>EbI7xoNxI+3QSsiHxL13zBdgHIJOwa3srHd7cDcnJ0g=</td>\n",
       "      <td>my library</td>\n",
       "      <td>Local playlist more</td>\n",
       "      <td>local-library</td>\n",
       "      <td>1</td>\n",
       "      <td>True</td>\n",
       "      <td>True</td>\n",
       "      <td>True</td>\n",
       "      <td>True</td>\n",
       "      <td>...</td>\n",
       "      <td>0.037222</td>\n",
       "      <td>0.050001</td>\n",
       "      <td>0.050223</td>\n",
       "      <td>0.085679</td>\n",
       "      <td>0.125906</td>\n",
       "      <td>0.046703</td>\n",
       "      <td>-0.071480</td>\n",
       "      <td>-0.059286</td>\n",
       "      <td>0.030356</td>\n",
       "      <td>0.033681</td>\n",
       "    </tr>\n",
       "    <tr>\n",
       "      <th>10</th>\n",
       "      <td>uHqAtShXTRXju5GE8ri3ITsVFepPf8jUoCF7ffNOuqE=</td>\n",
       "      <td>t0aT90DlS1TGncgnKoL0SvfAWEr3Dl72QBVcokmKfLc=</td>\n",
       "      <td>my library</td>\n",
       "      <td>Local playlist more</td>\n",
       "      <td>local-library</td>\n",
       "      <td>1</td>\n",
       "      <td>True</td>\n",
       "      <td>True</td>\n",
       "      <td>True</td>\n",
       "      <td>True</td>\n",
       "      <td>...</td>\n",
       "      <td>0.037222</td>\n",
       "      <td>0.050001</td>\n",
       "      <td>0.050223</td>\n",
       "      <td>0.085679</td>\n",
       "      <td>0.125906</td>\n",
       "      <td>0.046703</td>\n",
       "      <td>-0.071480</td>\n",
       "      <td>-0.059286</td>\n",
       "      <td>0.030356</td>\n",
       "      <td>0.033681</td>\n",
       "    </tr>\n",
       "    <tr>\n",
       "      <th>11</th>\n",
       "      <td>uHqAtShXTRXju5GE8ri3ITsVFepPf8jUoCF7ffNOuqE=</td>\n",
       "      <td>8FGjC9W+7F8WjheGZPAwX9RH3+nWSO7DzjM6EB6naOI=</td>\n",
       "      <td>my library</td>\n",
       "      <td>Local playlist more</td>\n",
       "      <td>local-library</td>\n",
       "      <td>1</td>\n",
       "      <td>True</td>\n",
       "      <td>True</td>\n",
       "      <td>True</td>\n",
       "      <td>True</td>\n",
       "      <td>...</td>\n",
       "      <td>0.037222</td>\n",
       "      <td>0.050001</td>\n",
       "      <td>0.050223</td>\n",
       "      <td>0.085679</td>\n",
       "      <td>0.125906</td>\n",
       "      <td>0.046703</td>\n",
       "      <td>-0.071480</td>\n",
       "      <td>-0.059286</td>\n",
       "      <td>0.030356</td>\n",
       "      <td>0.033681</td>\n",
       "    </tr>\n",
       "    <tr>\n",
       "      <th>12</th>\n",
       "      <td>TJU0Gfvy7FB+r89bWovPKXTjuApTCiv3xg/tt5shR78=</td>\n",
       "      <td>u6/Pb7X4u7KU4gXrBgGqt8RlRrNNFLn03tLAHyxRxwA=</td>\n",
       "      <td>my library</td>\n",
       "      <td>others</td>\n",
       "      <td>top-hits-for-artist</td>\n",
       "      <td>0</td>\n",
       "      <td>False</td>\n",
       "      <td>True</td>\n",
       "      <td>False</td>\n",
       "      <td>False</td>\n",
       "      <td>...</td>\n",
       "      <td>0.027036</td>\n",
       "      <td>-0.012882</td>\n",
       "      <td>0.059990</td>\n",
       "      <td>0.047458</td>\n",
       "      <td>0.057161</td>\n",
       "      <td>0.007432</td>\n",
       "      <td>0.009582</td>\n",
       "      <td>-0.011128</td>\n",
       "      <td>0.003663</td>\n",
       "      <td>0.077973</td>\n",
       "    </tr>\n",
       "    <tr>\n",
       "      <th>13</th>\n",
       "      <td>3g0bC24RD7QUeALY1IF/e8L6X3fHG298ZFIsCEG9T9Y=</td>\n",
       "      <td>TYhx9eqWklddkLQlApQ5MS9jJCO4H3JHdpISZ3kZSRE=</td>\n",
       "      <td>my library</td>\n",
       "      <td>Local playlist more</td>\n",
       "      <td>local-library</td>\n",
       "      <td>1</td>\n",
       "      <td>True</td>\n",
       "      <td>True</td>\n",
       "      <td>True</td>\n",
       "      <td>True</td>\n",
       "      <td>...</td>\n",
       "      <td>0.054407</td>\n",
       "      <td>0.003653</td>\n",
       "      <td>0.032866</td>\n",
       "      <td>0.086213</td>\n",
       "      <td>0.089979</td>\n",
       "      <td>0.001515</td>\n",
       "      <td>-0.017396</td>\n",
       "      <td>-0.037960</td>\n",
       "      <td>-0.042194</td>\n",
       "      <td>0.025749</td>\n",
       "    </tr>\n",
       "    <tr>\n",
       "      <th>14</th>\n",
       "      <td>TJU0Gfvy7FB+r89bWovPKXTjuApTCiv3xg/tt5shR78=</td>\n",
       "      <td>IgMar/mVrJQ+ODFPytDf7jwQMmR09+slyZUdVylRFLc=</td>\n",
       "      <td>my library</td>\n",
       "      <td>Local playlist more</td>\n",
       "      <td>local-playlist</td>\n",
       "      <td>1</td>\n",
       "      <td>True</td>\n",
       "      <td>True</td>\n",
       "      <td>True</td>\n",
       "      <td>True</td>\n",
       "      <td>...</td>\n",
       "      <td>0.027036</td>\n",
       "      <td>-0.012882</td>\n",
       "      <td>0.059990</td>\n",
       "      <td>0.047458</td>\n",
       "      <td>0.057161</td>\n",
       "      <td>0.007432</td>\n",
       "      <td>0.009582</td>\n",
       "      <td>-0.011128</td>\n",
       "      <td>0.003663</td>\n",
       "      <td>0.077973</td>\n",
       "    </tr>\n",
       "  </tbody>\n",
       "</table>\n",
       "<p>15 rows × 58 columns</p>\n",
       "</div>"
      ],
      "text/plain": [
       "                                            msno  \\\n",
       "0   FGtllVqz18RPiwJj/edr2gV78zirAiY/9SmYvia+kCg=   \n",
       "1   Xumu+NIjS6QYVxDS4/t3SawvJ7viT9hPKXmf0RtLNx8=   \n",
       "2   Xumu+NIjS6QYVxDS4/t3SawvJ7viT9hPKXmf0RtLNx8=   \n",
       "3   Xumu+NIjS6QYVxDS4/t3SawvJ7viT9hPKXmf0RtLNx8=   \n",
       "4   FGtllVqz18RPiwJj/edr2gV78zirAiY/9SmYvia+kCg=   \n",
       "5   FGtllVqz18RPiwJj/edr2gV78zirAiY/9SmYvia+kCg=   \n",
       "6   Xumu+NIjS6QYVxDS4/t3SawvJ7viT9hPKXmf0RtLNx8=   \n",
       "7   FGtllVqz18RPiwJj/edr2gV78zirAiY/9SmYvia+kCg=   \n",
       "8   uHqAtShXTRXju5GE8ri3ITsVFepPf8jUoCF7ffNOuqE=   \n",
       "9   uHqAtShXTRXju5GE8ri3ITsVFepPf8jUoCF7ffNOuqE=   \n",
       "10  uHqAtShXTRXju5GE8ri3ITsVFepPf8jUoCF7ffNOuqE=   \n",
       "11  uHqAtShXTRXju5GE8ri3ITsVFepPf8jUoCF7ffNOuqE=   \n",
       "12  TJU0Gfvy7FB+r89bWovPKXTjuApTCiv3xg/tt5shR78=   \n",
       "13  3g0bC24RD7QUeALY1IF/e8L6X3fHG298ZFIsCEG9T9Y=   \n",
       "14  TJU0Gfvy7FB+r89bWovPKXTjuApTCiv3xg/tt5shR78=   \n",
       "\n",
       "                                         song_id source_system_tab  \\\n",
       "0   BBzumQNXUHKdEBOB7mAJuzok+IJA1c2Ryg/yzTF6tik=           explore   \n",
       "1   bhp/MpSNoqoxOIB+/l8WPqu6jldth4DIpCm3ayXnJqM=        my library   \n",
       "2   JNWfrrC7zNN7BdMpsISKa4Mw+xVJYNnxXh3/Epw7QgY=        my library   \n",
       "3   2A87tzfnJTSWqD7gIZHisolhe4DMdzkbd6LzO1KHjNs=        my library   \n",
       "4   3qm6XTZ6MOCU11x8FIVbAGH5l5uMkT3/ZalWG1oo2Gc=           explore   \n",
       "5   3Hg5kugV1S0wzEVLAEfqjIV5UHzb7bCrdBRQlGygLvU=           explore   \n",
       "6   VkILU0H1h3NMmk9MQrXouNudGk5n8Ls5cqRRuBxeTh4=        my library   \n",
       "7   bPIvRTzfHxH5LgHrStll+tYwSQNVV8PySgA3M1PfTgc=           explore   \n",
       "8   /bU6IRSK+YNlNbaTkxo7bhsb2EDLPrnksdX3ggcZNhI=        my library   \n",
       "9   EbI7xoNxI+3QSsiHxL13zBdgHIJOwa3srHd7cDcnJ0g=        my library   \n",
       "10  t0aT90DlS1TGncgnKoL0SvfAWEr3Dl72QBVcokmKfLc=        my library   \n",
       "11  8FGjC9W+7F8WjheGZPAwX9RH3+nWSO7DzjM6EB6naOI=        my library   \n",
       "12  u6/Pb7X4u7KU4gXrBgGqt8RlRrNNFLn03tLAHyxRxwA=        my library   \n",
       "13  TYhx9eqWklddkLQlApQ5MS9jJCO4H3JHdpISZ3kZSRE=        my library   \n",
       "14  IgMar/mVrJQ+ODFPytDf7jwQMmR09+slyZUdVylRFLc=        my library   \n",
       "\n",
       "     source_screen_name          source_type  target  1h_source  \\\n",
       "0               Explore      online-playlist       1      False   \n",
       "1   Local playlist more       local-playlist       1       True   \n",
       "2   Local playlist more       local-playlist       1       True   \n",
       "3   Local playlist more       local-playlist       1       True   \n",
       "4               Explore      online-playlist       1      False   \n",
       "5               Explore      online-playlist       1      False   \n",
       "6   Local playlist more       local-playlist       1       True   \n",
       "7               Explore      online-playlist       1      False   \n",
       "8   Local playlist more        local-library       1       True   \n",
       "9   Local playlist more        local-library       1       True   \n",
       "10  Local playlist more        local-library       1       True   \n",
       "11  Local playlist more        local-library       1       True   \n",
       "12               others  top-hits-for-artist       0      False   \n",
       "13  Local playlist more        local-library       1       True   \n",
       "14  Local playlist more       local-playlist       1       True   \n",
       "\n",
       "    1h_system_tab  1h_screen_name  1h_source_type     ...      user_fac_0  \\\n",
       "0           False           False           False     ...        0.085214   \n",
       "1            True            True            True     ...       -0.009257   \n",
       "2            True            True            True     ...       -0.009257   \n",
       "3            True            True            True     ...       -0.009257   \n",
       "4           False           False           False     ...        0.085214   \n",
       "5           False           False           False     ...        0.085214   \n",
       "6            True            True            True     ...       -0.009257   \n",
       "7           False           False           False     ...        0.085214   \n",
       "8            True            True            True     ...        0.037222   \n",
       "9            True            True            True     ...        0.037222   \n",
       "10           True            True            True     ...        0.037222   \n",
       "11           True            True            True     ...        0.037222   \n",
       "12           True           False           False     ...        0.027036   \n",
       "13           True            True            True     ...        0.054407   \n",
       "14           True            True            True     ...        0.027036   \n",
       "\n",
       "   user_fac_1 user_fac_2 user_fac_3 user_fac_4 user_fac_5  user_fac_6  \\\n",
       "0    0.191165   0.189145   0.070272   0.069798   0.138765   -0.062575   \n",
       "1   -0.032589   0.046747   0.028940   0.073362   0.022887    0.095853   \n",
       "2   -0.032589   0.046747   0.028940   0.073362   0.022887    0.095853   \n",
       "3   -0.032589   0.046747   0.028940   0.073362   0.022887    0.095853   \n",
       "4    0.191165   0.189145   0.070272   0.069798   0.138765   -0.062575   \n",
       "5    0.191165   0.189145   0.070272   0.069798   0.138765   -0.062575   \n",
       "6   -0.032589   0.046747   0.028940   0.073362   0.022887    0.095853   \n",
       "7    0.191165   0.189145   0.070272   0.069798   0.138765   -0.062575   \n",
       "8    0.050001   0.050223   0.085679   0.125906   0.046703   -0.071480   \n",
       "9    0.050001   0.050223   0.085679   0.125906   0.046703   -0.071480   \n",
       "10   0.050001   0.050223   0.085679   0.125906   0.046703   -0.071480   \n",
       "11   0.050001   0.050223   0.085679   0.125906   0.046703   -0.071480   \n",
       "12  -0.012882   0.059990   0.047458   0.057161   0.007432    0.009582   \n",
       "13   0.003653   0.032866   0.086213   0.089979   0.001515   -0.017396   \n",
       "14  -0.012882   0.059990   0.047458   0.057161   0.007432    0.009582   \n",
       "\n",
       "    user_fac_7  user_fac_8  user_fac_9  \n",
       "0     0.051114   -0.062616    0.002772  \n",
       "1     0.035650   -0.001603    0.069971  \n",
       "2     0.035650   -0.001603    0.069971  \n",
       "3     0.035650   -0.001603    0.069971  \n",
       "4     0.051114   -0.062616    0.002772  \n",
       "5     0.051114   -0.062616    0.002772  \n",
       "6     0.035650   -0.001603    0.069971  \n",
       "7     0.051114   -0.062616    0.002772  \n",
       "8    -0.059286    0.030356    0.033681  \n",
       "9    -0.059286    0.030356    0.033681  \n",
       "10   -0.059286    0.030356    0.033681  \n",
       "11   -0.059286    0.030356    0.033681  \n",
       "12   -0.011128    0.003663    0.077973  \n",
       "13   -0.037960   -0.042194    0.025749  \n",
       "14   -0.011128    0.003663    0.077973  \n",
       "\n",
       "[15 rows x 58 columns]"
      ]
     },
     "execution_count": 17,
     "metadata": {},
     "output_type": "execute_result"
    }
   ],
   "source": [
    "x = train_df.drop(['target'], axis=1)\n",
    "y = train_df['target']\n",
    "\n",
    "# take the last # rows of train_df as valid set where # means number of rows in test_df\n",
    "x_valid = train_df.drop(['target'], axis=1).tail(test_df.shape[0])\n",
    "y_valid = train_df['target'].tail(test_df.shape[0])\n",
    "\n",
    "x_test = test_df.drop(['id'], axis=1)\n",
    "test_ids = test_df['id']\n",
    "\n",
    "train_df.head(15)"
   ]
  },
  {
   "cell_type": "markdown",
   "metadata": {},
   "source": [
    "## Core"
   ]
  },
  {
   "cell_type": "code",
   "execution_count": 18,
   "metadata": {
    "ExecuteTime": {
     "end_time": "2017-12-09T14:00:02.176206Z",
     "start_time": "2017-12-09T13:54:31.538308Z"
    },
    "scrolled": false
   },
   "outputs": [
    {
     "name": "stdout",
     "output_type": "stream",
     "text": [
      "[5]\tvalid_0's auc: 0.697739\tvalid_1's auc: 0.710484\n",
      "[10]\tvalid_0's auc: 0.710413\tvalid_1's auc: 0.725004\n",
      "[15]\tvalid_0's auc: 0.722119\tvalid_1's auc: 0.738115\n",
      "[20]\tvalid_0's auc: 0.727619\tvalid_1's auc: 0.74562\n",
      "[25]\tvalid_0's auc: 0.733409\tvalid_1's auc: 0.752631\n",
      "[30]\tvalid_0's auc: 0.736759\tvalid_1's auc: 0.757307\n",
      "[35]\tvalid_0's auc: 0.73885\tvalid_1's auc: 0.760565\n",
      "[40]\tvalid_0's auc: 0.740979\tvalid_1's auc: 0.763667\n",
      "[45]\tvalid_0's auc: 0.742724\tvalid_1's auc: 0.766285\n",
      "[50]\tvalid_0's auc: 0.743455\tvalid_1's auc: 0.767884\n",
      "[55]\tvalid_0's auc: 0.74456\tvalid_1's auc: 0.769843\n",
      "[60]\tvalid_0's auc: 0.746103\tvalid_1's auc: 0.771944\n",
      "[65]\tvalid_0's auc: 0.746617\tvalid_1's auc: 0.773122\n",
      "[70]\tvalid_0's auc: 0.746992\tvalid_1's auc: 0.774164\n",
      "[75]\tvalid_0's auc: 0.747681\tvalid_1's auc: 0.775481\n",
      "[80]\tvalid_0's auc: 0.748318\tvalid_1's auc: 0.776697\n",
      "[85]\tvalid_0's auc: 0.748487\tvalid_1's auc: 0.777508\n",
      "[90]\tvalid_0's auc: 0.748618\tvalid_1's auc: 0.778057\n",
      "[95]\tvalid_0's auc: 0.748687\tvalid_1's auc: 0.778541\n",
      "[100]\tvalid_0's auc: 0.748835\tvalid_1's auc: 0.779241\n",
      "defaultdict(<class 'dict'>, {'valid_0': {'auc': 0.74883461965135967}, 'valid_1': {'auc': 0.77924145037223769}})\n",
      "[CV] [0.77924145037223769]{ auc score=0.779241450372 }\n",
      "0.779241450372\n",
      "[5]\tvalid_0's auc: 0.731872\n",
      "[10]\tvalid_0's auc: 0.751229\n",
      "[15]\tvalid_0's auc: 0.766763\n",
      "[20]\tvalid_0's auc: 0.779002\n",
      "[25]\tvalid_0's auc: 0.789041\n",
      "[30]\tvalid_0's auc: 0.796746\n",
      "[35]\tvalid_0's auc: 0.802525\n",
      "[40]\tvalid_0's auc: 0.808128\n",
      "[45]\tvalid_0's auc: 0.813074\n",
      "[50]\tvalid_0's auc: 0.816586\n",
      "[55]\tvalid_0's auc: 0.819851\n",
      "[60]\tvalid_0's auc: 0.824078\n",
      "[65]\tvalid_0's auc: 0.826726\n",
      "[70]\tvalid_0's auc: 0.829341\n",
      "[75]\tvalid_0's auc: 0.831594\n",
      "[80]\tvalid_0's auc: 0.834393\n",
      "[85]\tvalid_0's auc: 0.836349\n",
      "[90]\tvalid_0's auc: 0.838361\n",
      "[95]\tvalid_0's auc: 0.840081\n",
      "[100]\tvalid_0's auc: 0.841606\n"
     ]
    }
   ],
   "source": [
    "train_set = lgb.Dataset(x, y)\n",
    "valid_set = lgb.Dataset(x_valid, y_valid, free_raw_data=False)\n",
    "watchlist = [valid_set]\n",
    "\n",
    "params = dict({\n",
    "    'learning_rate': 0.2,\n",
    "    'application': 'binary',\n",
    "    'min_data_in_leaf': 10,\n",
    "#    'max_depth': 10,\n",
    "    'num_leaves': 2 ** 7,\n",
    "    'max_bin': 255,\n",
    "    'verbosity': 0,\n",
    "    'metric': 'auc'\n",
    "})\n",
    "\n",
    "grid_params = {\n",
    "    'learning_rate': [0.1, 0.2],\n",
    "    'max_depth': [8, 10],\n",
    "}\n",
    "\n",
    "# best_grid_params = custom_grid_search(params, grid_params, train_set, hold_out_set, num_boost_round=20)\n",
    "# for key, val in best_grid_params.items():\n",
    "#     params[key] = best_grid_params[key]\n",
    "\n",
    "cv_score = custom_cv(params, train_set, valid_set, k_fold=4, num_boost_round=100)\n",
    "print(cv_score)\n",
    "\n",
    "model = lgb.train(params, train_set=train_set, valid_sets=watchlist, num_boost_round=100, verbose_eval=5)\n",
    "y_test = model.predict(x_test)\n",
    "\n",
    "# When CV, valid_0 means the front 75% training, the last 25% validating\n",
    "#          valid_1 means the front 75% training, the last \"len(test set)\" validating\n",
    "#\n",
    "# When LGBM running, valid_0 means 100% training, the last \"len(test set)\" validating.\n",
    "#\n",
    "# Use CV valid_0 auc score to predict result!"
   ]
  },
  {
   "cell_type": "markdown",
   "metadata": {},
   "source": [
    "## Feature importances"
   ]
  },
  {
   "cell_type": "code",
   "execution_count": 19,
   "metadata": {
    "ExecuteTime": {
     "end_time": "2017-12-09T14:00:02.822519Z",
     "start_time": "2017-12-09T14:00:02.177946Z"
    }
   },
   "outputs": [
    {
     "data": {
      "image/png": "[encoded data removed]",
      "text/plain": [
       "<matplotlib.figure.Figure at 0x7f2cee1801d0>"
      ]
     },
     "metadata": {},
     "output_type": "display_data"
    }
   ],
   "source": [
    "plot_df = pd.DataFrame({'features': train_df.columns[train_df.columns != 'target'],\n",
    "                        'importances': model.feature_importance()})\n",
    "plot_df = plot_df.sort_values('importances', ascending=False)\n",
    "\n",
    "plt.figure(figsize=(8, 15))\n",
    "sns.barplot(x = plot_df.importances, y = plot_df.features)\n",
    "plt.show()"
   ]
  },
  {
   "cell_type": "markdown",
   "metadata": {},
   "source": [
    "## Output"
   ]
  },
  {
   "cell_type": "code",
   "execution_count": 20,
   "metadata": {
    "ExecuteTime": {
     "end_time": "2017-12-09T14:00:22.194778Z",
     "start_time": "2017-12-09T14:00:02.824095Z"
    }
   },
   "outputs": [
    {
     "name": "stdout",
     "output_type": "stream",
     "text": [
      "<class 'pandas.core.frame.DataFrame'>\n",
      "Int64Index: 2556790 entries, 0 to 2556789\n",
      "Data columns (total 2 columns):\n",
      "id        int64\n",
      "target    float64\n",
      "dtypes: float64(1), int64(1)\n",
      "memory usage: 58.5 MB\n"
     ]
    }
   ],
   "source": [
    "submission_df = pd.DataFrame()\n",
    "submission_df['id'] = test_ids\n",
    "submission_df['target'] = y_test\n",
    "# string file compression reduces file size\n",
    "submission_df.to_csv('data/submission.csv.gz', compression = 'gzip', index=False, float_format = '%.5f')\n",
    "submission_df.info()"
   ]
  },
  {
   "cell_type": "code",
   "execution_count": null,
   "metadata": {
    "collapsed": true
   },
   "outputs": [],
   "source": []
  }
 ],
 "metadata": {
  "kernelspec": {
   "display_name": "Python 3",
   "language": "python",
   "name": "python3"
  },
  "language_info": {
   "codemirror_mode": {
    "name": "ipython",
    "version": 3
   },
   "file_extension": ".py",
   "mimetype": "text/x-python",
   "name": "python",
   "nbconvert_exporter": "python",
   "pygments_lexer": "ipython3",
   "version": "3.6.3"
  },
  "toc": {
   "nav_menu": {},
   "number_sections": true,
   "sideBar": true,
   "skip_h1_title": false,
   "toc_cell": false,
   "toc_position": {
    "height": "978px",
    "left": "0px",
    "right": "1122px",
    "top": "107px",
    "width": "294px"
   },
   "toc_section_display": "block",
   "toc_window_display": true
  },
  "varInspector": {
   "cols": {
    "lenName": 16,
    "lenType": 16,
    "lenVar": 40
   },
   "kernels_config": {
    "python": {
     "delete_cmd_postfix": "",
     "delete_cmd_prefix": "del ",
     "library": "var_list.py",
     "varRefreshCmd": "print(var_dic_list())"
    },
    "r": {
     "delete_cmd_postfix": ") ",
     "delete_cmd_prefix": "rm(",
     "library": "var_list.r",
     "varRefreshCmd": "cat(var_dic_list()) "
    }
   },
   "oldHeight": 122,
   "position": {
    "height": "40px",
    "left": "1064px",
    "right": "20px",
    "top": "120px",
    "width": "250px"
   },
   "types_to_exclude": [
    "module",
    "function",
    "builtin_function_or_method",
    "instance",
    "_Feature"
   ],
   "varInspector_section_display": "none",
   "window_display": false
  }
 },
 "nbformat": 4,
 "nbformat_minor": 2
}
