{
 "cells": [
  {
   "cell_type": "markdown",
   "metadata": {},
   "source": [
    "# Pre-process"
   ]
  },
  {
   "cell_type": "markdown",
   "metadata": {
    "collapsed": true
   },
   "source": [
    "## Load library and define some functions needed"
   ]
  },
  {
   "cell_type": "code",
   "execution_count": 1,
   "metadata": {
    "ExecuteTime": {
     "end_time": "2017-12-13T05:54:12.334995Z",
     "start_time": "2017-12-13T05:54:11.688894Z"
    },
    "collapsed": true
   },
   "outputs": [],
   "source": [
    "import seaborn as sns\n",
    "import pandas as pd\n",
    "import numpy as np\n",
    "import lightgbm as lgb\n",
    "import matplotlib.pyplot as plt\n",
    "import datetime as dt\n",
    "import random\n",
    "import time\n",
    "\n",
    "import json\n",
    "import os.path\n",
    "import gc\n",
    "\n",
    "from script.module.FeatureProducer import FeatureProducer \n",
    "from script.module.LightFMProducer import LightFMProducer\n",
    "MODEL_FILE_NAME = 'model.txt'"
   ]
  },
  {
   "cell_type": "code",
   "execution_count": 2,
   "metadata": {
    "ExecuteTime": {
     "end_time": "2017-12-13T05:54:12.412847Z",
     "start_time": "2017-12-13T05:54:12.336797Z"
    },
    "collapsed": true
   },
   "outputs": [],
   "source": [
    "def custom_cv(params, train_set, hold_out_set=None, k_fold=5, num_boost_round=20):\n",
    "    x_train = train_set.data\n",
    "    y_train = train_set.label\n",
    "    n = x_train.shape[0]\n",
    "    unit = n // k_fold\n",
    "\n",
    "    cv_scores = []\n",
    "    for k in range(k_fold):\n",
    "        ##### !!!!!!!!!!!!!!!!!!!!!!!!!!!!!!!!!!!!!!!!!!!!!!!!!!!!!!!!!!!!!!!!!!!!!\n",
    "        if k < k_fold - 1:\n",
    "            continue\n",
    "        ##### !!!!!!!!!!!!!!!!!!!!!!!!!!!!!!!!!!!!!!!!!!!!!!!!!!!!!!!!!!!!!!!!!!!!!\n",
    "        x_cv_valid = None\n",
    "        y_cv_valid = None\n",
    "        if k == k_fold - 1:\n",
    "            x_cv_valid = x_train[unit * k:]\n",
    "            y_cv_valid = y_train[unit * k:]\n",
    "        else:\n",
    "            x_cv_valid = x_train[unit * k: unit * (k + 1)]\n",
    "            y_cv_valid = y_train[unit * k: unit * (k + 1)]\n",
    "\n",
    "        x_cv_train = None\n",
    "        y_cv_train = None\n",
    "        if k == 0:\n",
    "            x_cv_train = x_train[unit * (k + 1):]\n",
    "            y_cv_train = y_train[unit * (k + 1):]\n",
    "        elif k == k_fold - 1:\n",
    "            x_cv_train = x_train[:unit * k]\n",
    "            y_cv_train = y_train[:unit * k]\n",
    "        else:\n",
    "            x_cv_train = x_train[:unit * k].append(x_train[unit * (k + 1):])\n",
    "            y_cv_train = y_train[:unit * k].append(y_train[unit * (k + 1):])\n",
    "\n",
    "        cv_train_set = lgb.Dataset(x_cv_train, y_cv_train)\n",
    "        cv_valid_set = lgb.Dataset(x_cv_valid, y_cv_valid)\n",
    "        watchlist = [cv_valid_set]\n",
    "\n",
    "        # not tested yet\n",
    "        if hold_out_set is not None:\n",
    "            watchlist.append(hold_out_set)\n",
    "        model = lgb.train(params, train_set=cv_train_set, valid_sets=watchlist,\n",
    "                          num_boost_round=num_boost_round, verbose_eval=5)\n",
    "        print(model.best_score)\n",
    "        cv_scores.append(model.best_score['valid_1']['auc'])\n",
    "\n",
    "    tip_txt = '[CV]'\n",
    "    tip_txt += ' ' + str(cv_scores)\n",
    "    mean_cv_score = np.mean(cv_scores)\n",
    "    tip_txt += '{ auc score=' + str(mean_cv_score) + ' }'\n",
    "    print(tip_txt)\n",
    "\n",
    "    return mean_cv_score"
   ]
  },
  {
   "cell_type": "code",
   "execution_count": 3,
   "metadata": {
    "ExecuteTime": {
     "end_time": "2017-12-13T05:54:12.578701Z",
     "start_time": "2017-12-13T05:54:12.414316Z"
    },
    "collapsed": true
   },
   "outputs": [],
   "source": [
    "def custom_grid_search(params, own_grid_params, train_set, valid_set, num_boost_round=20):\n",
    "    keys = []\n",
    "    values = [list()]\n",
    "    for key, value in own_grid_params.items():\n",
    "        keys.append(key)\n",
    "        new_values = []\n",
    "        for item in values:\n",
    "            for val in value:\n",
    "                new_values.append(item + [val])\n",
    "        values = new_values\n",
    "\n",
    "    watchlist = [valid_set]\n",
    "    grid_best_params = None\n",
    "    grid_best_score = None\n",
    "\n",
    "    for comb in values:\n",
    "        own_params = {}\n",
    "        for idx in range(len(keys)):\n",
    "            own_params[keys[idx]] = comb[idx]\n",
    "            params[keys[idx]] = comb[idx]\n",
    "\n",
    "        cv_score = custom_cv(params, train_set, valid_set, k_fold=4, num_boost_round=num_boost_round)\n",
    "\n",
    "        tip_txt = '[GridSearch]'\n",
    "        for idx in range(len(keys)):\n",
    "            tip_txt += ' ' + str(keys[idx]) + '=' + str(comb[idx])\n",
    "        tip_txt += ' { best_score: ' + str(cv_score) + ' }'\n",
    "        print(tip_txt)\n",
    "\n",
    "        if grid_best_score is None or cv_score > grid_best_score:\n",
    "            grid_best_params, grid_best_score = own_params, cv_score\n",
    "\n",
    "    tip_txt = '[GS Best Result]'\n",
    "    for key, val in grid_best_params.items():\n",
    "        tip_txt += ' ' + str(key) + '=' + str(val)\n",
    "    tip_txt += ' { best_score: ' + str(grid_best_score) + ' }'\n",
    "    print(tip_txt)\n",
    "    \n",
    "    return grid_best_params"
   ]
  },
  {
   "cell_type": "markdown",
   "metadata": {},
   "source": [
    "## init"
   ]
  },
  {
   "cell_type": "code",
   "execution_count": 4,
   "metadata": {
    "ExecuteTime": {
     "end_time": "2017-12-13T05:54:12.946662Z",
     "start_time": "2017-12-13T05:54:12.580263Z"
    },
    "collapsed": true
   },
   "outputs": [],
   "source": [
    "fp = FeatureProducer(root='./data')"
   ]
  },
  {
   "cell_type": "markdown",
   "metadata": {},
   "source": [
    "## load"
   ]
  },
  {
   "cell_type": "code",
   "execution_count": 5,
   "metadata": {
    "ExecuteTime": {
     "end_time": "2017-12-13T05:54:33.689529Z",
     "start_time": "2017-12-13T05:54:12.948322Z"
    }
   },
   "outputs": [
    {
     "name": "stderr",
     "output_type": "stream",
     "text": [
      "13:54:33 INFO << load raw data in 20.61s\n"
     ]
    }
   ],
   "source": [
    "fp.load_raw()"
   ]
  },
  {
   "cell_type": "markdown",
   "metadata": {},
   "source": [
    "## preprocess"
   ]
  },
  {
   "cell_type": "code",
   "execution_count": 6,
   "metadata": {
    "ExecuteTime": {
     "end_time": "2017-12-13T05:56:07.774565Z",
     "start_time": "2017-12-13T05:54:33.691110Z"
    }
   },
   "outputs": [
    {
     "name": "stderr",
     "output_type": "stream",
     "text": [
      "13:55:03 INFO << parse train_df in 29.59s\n",
      "13:55:19 INFO << parse test_df in 15.93s\n",
      "13:55:20 INFO << parse members_df in 1.01s\n",
      "13:55:36 INFO << parse songs_df in 16.42s\n",
      "13:55:40 INFO << parse song_extra_info_df in 3.03s\n"
     ]
    }
   ],
   "source": [
    "fp.pre_process()"
   ]
  },
  {
   "cell_type": "markdown",
   "metadata": {},
   "source": [
    "## feature engineering"
   ]
  },
  {
   "cell_type": "code",
   "execution_count": 7,
   "metadata": {
    "ExecuteTime": {
     "end_time": "2017-12-13T05:56:56.599192Z",
     "start_time": "2017-12-13T05:56:07.776404Z"
    },
    "scrolled": false
   },
   "outputs": [
    {
     "name": "stderr",
     "output_type": "stream",
     "text": [
      "13:56:34 INFO << parse engineering_df in 26.66s\n",
      "13:56:56 INFO << parse engineering_df in 22.03s\n"
     ]
    }
   ],
   "source": [
    "fp.feature_engineering()"
   ]
  },
  {
   "cell_type": "markdown",
   "metadata": {},
   "source": [
    "## type to category"
   ]
  },
  {
   "cell_type": "code",
   "execution_count": 8,
   "metadata": {
    "ExecuteTime": {
     "end_time": "2017-12-13T05:57:31.051368Z",
     "start_time": "2017-12-13T05:56:56.600886Z"
    }
   },
   "outputs": [
    {
     "name": "stderr",
     "output_type": "stream",
     "text": [
      "13:57:09 INFO << transform \"msno\" in 2.27s\n",
      "13:57:14 INFO << transform \"song_id\" in 4.44s\n",
      "13:57:15 INFO << transform \"source_system_tab\" in 1.27s\n",
      "13:57:16 INFO << transform \"source_screen_name\" in 1.34s\n",
      "13:57:17 INFO << transform \"source_type\" in 1.23s\n",
      "13:57:18 INFO << transform \"1h_source\" in 0.39s\n",
      "13:57:18 INFO << transform \"1h_system_tab\" in 0.36s\n",
      "13:57:19 INFO << transform \"1h_screen_name\" in 0.34s\n",
      "13:57:19 INFO << transform \"1h_source_type\" in 0.31s\n",
      "13:57:19 INFO << transform \"song_length\" in 0.30s\n",
      "13:57:21 INFO << transform \"genre_ids\" in 1.31s\n",
      "13:57:22 INFO << transform \"artist_name\" in 1.82s\n",
      "13:57:24 INFO << transform \"composer\" in 1.62s\n",
      "13:57:25 INFO << transform \"lyricist\" in 1.08s\n",
      "13:57:26 INFO << transform \"language\" in 1.15s\n",
      "13:57:26 INFO << transform \"artist_count\" in 0.27s\n",
      "13:57:27 INFO << transform \"genre_count\" in 0.26s\n",
      "13:57:27 INFO << transform \"composer_count\" in 0.23s\n",
      "13:57:27 INFO << transform \"lyricist_count\" in 0.21s\n",
      "13:57:27 INFO << transform \"1h_lang\" in 0.15s\n",
      "13:57:27 INFO << transform \"1h_song_length\" in 0.12s\n",
      "13:57:28 INFO << transform \"song_year\" in 0.12s\n",
      "13:57:28 INFO << transform \"1h_song_year\" in 0.07s\n",
      "13:57:28 INFO << transform \"city\" in 0.41s\n",
      "13:57:28 INFO << transform \"bd\" in 0.42s\n",
      "13:57:29 INFO << transform \"gender\" in 0.36s\n",
      "13:57:29 INFO << transform \"registered_via\" in 0.40s\n",
      "13:57:29 INFO << transform \"expiration_date\" in 0.24s\n",
      "13:57:30 INFO << transform \"membership_days\" in 0.22s\n",
      "13:57:30 INFO << transform \"registration_init_year\" in 0.19s\n",
      "13:57:30 INFO << transform \"registration_init_month\" in 0.16s\n",
      "13:57:30 INFO << transform \"expiration_date_year\" in 0.14s\n",
      "13:57:30 INFO << transform \"expiration_date_month\" in 0.11s\n",
      "13:57:30 INFO << transform \"1h_via\" in 0.07s\n",
      "13:57:30 INFO << transform \"play_count\" in 0.06s\n",
      "13:57:31 INFO << transform \"track_count\" in 0.07s\n",
      "13:57:31 INFO << transform \"cover_lang\" in 0.04s\n"
     ]
    }
   ],
   "source": [
    "fp.self_fit_transform()"
   ]
  },
  {
   "cell_type": "markdown",
   "metadata": {},
   "source": [
    "## CF natively"
   ]
  },
  {
   "cell_type": "code",
   "execution_count": 9,
   "metadata": {
    "ExecuteTime": {
     "end_time": "2017-12-13T05:59:09.776179Z",
     "start_time": "2017-12-13T05:57:31.052970Z"
    }
   },
   "outputs": [
    {
     "name": "stdout",
     "output_type": "stream",
     "text": [
      "(30755, 359966)\n"
     ]
    },
    {
     "name": "stderr",
     "output_type": "stream",
     "text": [
      "13:58:57 INFO << prepare in 86.00s\n"
     ]
    }
   ],
   "source": [
    "lp = LightFMProducer(root='./data', num_components=1) \n",
    "lp.prepare()\n",
    "train_df = pd.read_csv('data/train.csv')\n",
    "test_df = pd.read_csv('data/test.csv')"
   ]
  },
  {
   "cell_type": "code",
   "execution_count": 10,
   "metadata": {
    "ExecuteTime": {
     "end_time": "2017-12-13T05:59:27.548448Z",
     "start_time": "2017-12-13T05:59:09.778452Z"
    }
   },
   "outputs": [],
   "source": [
    "train_cf_df = lp.compute(True)\n",
    "test_cf_df = lp.compute(False)"
   ]
  },
  {
   "cell_type": "code",
   "execution_count": 11,
   "metadata": {
    "ExecuteTime": {
     "end_time": "2017-12-13T05:59:27.574471Z",
     "start_time": "2017-12-13T05:59:27.550186Z"
    },
    "collapsed": true
   },
   "outputs": [],
   "source": [
    "train_cf_df.drop(['msno', 'song_id', 'genre_ids', 'target'], axis=1, inplace=True)\n",
    "test_cf_df.drop(['msno', 'song_id', 'genre_ids'], axis=1, inplace=True)"
   ]
  },
  {
   "cell_type": "code",
   "execution_count": 12,
   "metadata": {
    "ExecuteTime": {
     "end_time": "2017-12-13T05:59:27.915438Z",
     "start_time": "2017-12-13T05:59:27.576192Z"
    },
    "collapsed": true
   },
   "outputs": [],
   "source": [
    "train_df = fp.train_df\n",
    "test_df = fp.test_df\n",
    "\n",
    "assert(train_df.shape[1] == test_df.shape[1])"
   ]
  },
  {
   "cell_type": "code",
   "execution_count": 13,
   "metadata": {
    "ExecuteTime": {
     "end_time": "2017-12-13T05:59:29.331072Z",
     "start_time": "2017-12-13T05:59:27.917140Z"
    },
    "collapsed": true
   },
   "outputs": [],
   "source": [
    "train_df = train_df.join(train_cf_df)\n",
    "test_df = test_df.join(test_cf_df)"
   ]
  },
  {
   "cell_type": "code",
   "execution_count": 14,
   "metadata": {
    "ExecuteTime": {
     "end_time": "2017-12-13T05:59:30.130120Z",
     "start_time": "2017-12-13T05:59:29.332751Z"
    }
   },
   "outputs": [
    {
     "name": "stdout",
     "output_type": "stream",
     "text": [
      "<class 'pandas.core.frame.DataFrame'>\n",
      "Int64Index: 7377418 entries, 0 to 7377417\n",
      "Data columns (total 38 columns):\n",
      "msno                       category\n",
      "song_id                    category\n",
      "source_system_tab          category\n",
      "source_screen_name         category\n",
      "source_type                category\n",
      "target                     int64\n",
      "1h_source                  bool\n",
      "1h_system_tab              bool\n",
      "1h_screen_name             bool\n",
      "1h_source_type             bool\n",
      "song_length                int32\n",
      "artist_name                category\n",
      "composer                   category\n",
      "lyricist                   category\n",
      "language                   category\n",
      "artist_count               int32\n",
      "genre_count                int32\n",
      "composer_count             int32\n",
      "lyricist_count             int32\n",
      "1h_lang                    bool\n",
      "1h_song_length             bool\n",
      "song_year                  int32\n",
      "1h_song_year               bool\n",
      "city                       category\n",
      "bd                         category\n",
      "gender                     category\n",
      "registered_via             category\n",
      "expiration_date            int32\n",
      "membership_days            int32\n",
      "registration_init_year     int32\n",
      "registration_init_month    int32\n",
      "expiration_date_year       int32\n",
      "expiration_date_month      int32\n",
      "1h_via                     bool\n",
      "play_count                 int32\n",
      "track_count                int32\n",
      "cover_lang                 int32\n",
      "item_fac_0                 float32\n",
      "dtypes: bool(8), category(13), float32(1), int32(15), int64(1)\n",
      "memory usage: 1.1 GB\n",
      "None\n",
      "<class 'pandas.core.frame.DataFrame'>\n",
      "Int64Index: 2556790 entries, 0 to 2556789\n",
      "Data columns (total 38 columns):\n",
      "id                         int64\n",
      "msno                       category\n",
      "song_id                    category\n",
      "source_system_tab          category\n",
      "source_screen_name         category\n",
      "source_type                category\n",
      "1h_source                  bool\n",
      "1h_system_tab              bool\n",
      "1h_screen_name             bool\n",
      "1h_source_type             bool\n",
      "song_length                int32\n",
      "artist_name                category\n",
      "composer                   category\n",
      "lyricist                   category\n",
      "language                   category\n",
      "artist_count               int32\n",
      "genre_count                int32\n",
      "composer_count             int32\n",
      "lyricist_count             int32\n",
      "1h_lang                    bool\n",
      "1h_song_length             bool\n",
      "song_year                  int32\n",
      "1h_song_year               bool\n",
      "city                       category\n",
      "bd                         category\n",
      "gender                     category\n",
      "registered_via             category\n",
      "expiration_date            int32\n",
      "membership_days            int32\n",
      "registration_init_year     int32\n",
      "registration_init_month    int32\n",
      "expiration_date_year       int32\n",
      "expiration_date_month      int32\n",
      "1h_via                     bool\n",
      "play_count                 int32\n",
      "track_count                int32\n",
      "cover_lang                 int32\n",
      "item_fac_0                 float32\n",
      "dtypes: bool(8), category(13), float32(1), int32(15), int64(1)\n",
      "memory usage: 365.9 MB\n",
      "None\n"
     ]
    }
   ],
   "source": [
    "train_df.drop(['genre_ids'], axis=1, inplace=True)\n",
    "test_df.drop(['genre_ids'], axis=1, inplace=True)\n",
    "\n",
    "print(train_df.info())\n",
    "print(test_df.info())"
   ]
  },
  {
   "cell_type": "markdown",
   "metadata": {},
   "source": [
    "# LGBM training"
   ]
  },
  {
   "cell_type": "markdown",
   "metadata": {},
   "source": [
    "## Correlation over all features (underconstruction...)"
   ]
  },
  {
   "cell_type": "markdown",
   "metadata": {},
   "source": [
    "For categorical feature, need to numerize them.\n",
    "Also, for all numeric features, it's necessary to be normalized."
   ]
  },
  {
   "cell_type": "code",
   "execution_count": 15,
   "metadata": {
    "ExecuteTime": {
     "end_time": "2017-12-13T05:59:30.134539Z",
     "start_time": "2017-12-13T05:59:30.131749Z"
    },
    "collapsed": true
   },
   "outputs": [],
   "source": [
    "# corr = train_df.corr()\n",
    "# \n",
    "# f, ax = plt.subplots(figsize=(10, 8))\n",
    "# sns.heatmap(corr, mask=np.zeros_like(corr, dtype=np.bool), cmap=sns.diverging_palette(220, 10, as_cmap=True),\n",
    "#             square=True, ax=ax)\n",
    "# plt.show()"
   ]
  },
  {
   "cell_type": "markdown",
   "metadata": {},
   "source": [
    "## Prepare"
   ]
  },
  {
   "cell_type": "code",
   "execution_count": 16,
   "metadata": {
    "ExecuteTime": {
     "end_time": "2017-12-13T05:59:30.919444Z",
     "start_time": "2017-12-13T05:59:30.136032Z"
    }
   },
   "outputs": [
    {
     "data": {
      "text/html": [
       "<div>\n",
       "<style>\n",
       "    .dataframe thead tr:only-child th {\n",
       "        text-align: right;\n",
       "    }\n",
       "\n",
       "    .dataframe thead th {\n",
       "        text-align: left;\n",
       "    }\n",
       "\n",
       "    .dataframe tbody tr th {\n",
       "        vertical-align: top;\n",
       "    }\n",
       "</style>\n",
       "<table border=\"1\" class=\"dataframe\">\n",
       "  <thead>\n",
       "    <tr style=\"text-align: right;\">\n",
       "      <th></th>\n",
       "      <th>msno</th>\n",
       "      <th>song_id</th>\n",
       "      <th>source_system_tab</th>\n",
       "      <th>source_screen_name</th>\n",
       "      <th>source_type</th>\n",
       "      <th>target</th>\n",
       "      <th>1h_source</th>\n",
       "      <th>1h_system_tab</th>\n",
       "      <th>1h_screen_name</th>\n",
       "      <th>1h_source_type</th>\n",
       "      <th>...</th>\n",
       "      <th>membership_days</th>\n",
       "      <th>registration_init_year</th>\n",
       "      <th>registration_init_month</th>\n",
       "      <th>expiration_date_year</th>\n",
       "      <th>expiration_date_month</th>\n",
       "      <th>1h_via</th>\n",
       "      <th>play_count</th>\n",
       "      <th>track_count</th>\n",
       "      <th>cover_lang</th>\n",
       "      <th>item_fac_0</th>\n",
       "    </tr>\n",
       "  </thead>\n",
       "  <tbody>\n",
       "    <tr>\n",
       "      <th>0</th>\n",
       "      <td>FGtllVqz18RPiwJj/edr2gV78zirAiY/9SmYvia+kCg=</td>\n",
       "      <td>BBzumQNXUHKdEBOB7mAJuzok+IJA1c2Ryg/yzTF6tik=</td>\n",
       "      <td>explore</td>\n",
       "      <td>Explore</td>\n",
       "      <td>online-playlist</td>\n",
       "      <td>1</td>\n",
       "      <td>False</td>\n",
       "      <td>False</td>\n",
       "      <td>False</td>\n",
       "      <td>False</td>\n",
       "      <td>...</td>\n",
       "      <td>2103</td>\n",
       "      <td>2012</td>\n",
       "      <td>1</td>\n",
       "      <td>2017</td>\n",
       "      <td>10</td>\n",
       "      <td>True</td>\n",
       "      <td>215</td>\n",
       "      <td>84</td>\n",
       "      <td>1</td>\n",
       "      <td>0.000696</td>\n",
       "    </tr>\n",
       "    <tr>\n",
       "      <th>1</th>\n",
       "      <td>Xumu+NIjS6QYVxDS4/t3SawvJ7viT9hPKXmf0RtLNx8=</td>\n",
       "      <td>bhp/MpSNoqoxOIB+/l8WPqu6jldth4DIpCm3ayXnJqM=</td>\n",
       "      <td>my library</td>\n",
       "      <td>Local playlist more</td>\n",
       "      <td>local-playlist</td>\n",
       "      <td>1</td>\n",
       "      <td>True</td>\n",
       "      <td>True</td>\n",
       "      <td>True</td>\n",
       "      <td>True</td>\n",
       "      <td>...</td>\n",
       "      <td>2301</td>\n",
       "      <td>2011</td>\n",
       "      <td>5</td>\n",
       "      <td>2017</td>\n",
       "      <td>9</td>\n",
       "      <td>True</td>\n",
       "      <td>1</td>\n",
       "      <td>17080</td>\n",
       "      <td>10</td>\n",
       "      <td>0.004867</td>\n",
       "    </tr>\n",
       "    <tr>\n",
       "      <th>2</th>\n",
       "      <td>Xumu+NIjS6QYVxDS4/t3SawvJ7viT9hPKXmf0RtLNx8=</td>\n",
       "      <td>JNWfrrC7zNN7BdMpsISKa4Mw+xVJYNnxXh3/Epw7QgY=</td>\n",
       "      <td>my library</td>\n",
       "      <td>Local playlist more</td>\n",
       "      <td>local-playlist</td>\n",
       "      <td>1</td>\n",
       "      <td>True</td>\n",
       "      <td>True</td>\n",
       "      <td>True</td>\n",
       "      <td>True</td>\n",
       "      <td>...</td>\n",
       "      <td>2301</td>\n",
       "      <td>2011</td>\n",
       "      <td>5</td>\n",
       "      <td>2017</td>\n",
       "      <td>9</td>\n",
       "      <td>True</td>\n",
       "      <td>4</td>\n",
       "      <td>61</td>\n",
       "      <td>2</td>\n",
       "      <td>0.004867</td>\n",
       "    </tr>\n",
       "    <tr>\n",
       "      <th>3</th>\n",
       "      <td>Xumu+NIjS6QYVxDS4/t3SawvJ7viT9hPKXmf0RtLNx8=</td>\n",
       "      <td>2A87tzfnJTSWqD7gIZHisolhe4DMdzkbd6LzO1KHjNs=</td>\n",
       "      <td>my library</td>\n",
       "      <td>Local playlist more</td>\n",
       "      <td>local-playlist</td>\n",
       "      <td>1</td>\n",
       "      <td>True</td>\n",
       "      <td>True</td>\n",
       "      <td>True</td>\n",
       "      <td>True</td>\n",
       "      <td>...</td>\n",
       "      <td>2301</td>\n",
       "      <td>2011</td>\n",
       "      <td>5</td>\n",
       "      <td>2017</td>\n",
       "      <td>9</td>\n",
       "      <td>True</td>\n",
       "      <td>1</td>\n",
       "      <td>1</td>\n",
       "      <td>1</td>\n",
       "      <td>0.091551</td>\n",
       "    </tr>\n",
       "    <tr>\n",
       "      <th>4</th>\n",
       "      <td>FGtllVqz18RPiwJj/edr2gV78zirAiY/9SmYvia+kCg=</td>\n",
       "      <td>3qm6XTZ6MOCU11x8FIVbAGH5l5uMkT3/ZalWG1oo2Gc=</td>\n",
       "      <td>explore</td>\n",
       "      <td>Explore</td>\n",
       "      <td>online-playlist</td>\n",
       "      <td>1</td>\n",
       "      <td>False</td>\n",
       "      <td>False</td>\n",
       "      <td>False</td>\n",
       "      <td>False</td>\n",
       "      <td>...</td>\n",
       "      <td>2103</td>\n",
       "      <td>2012</td>\n",
       "      <td>1</td>\n",
       "      <td>2017</td>\n",
       "      <td>10</td>\n",
       "      <td>True</td>\n",
       "      <td>412</td>\n",
       "      <td>6</td>\n",
       "      <td>1</td>\n",
       "      <td>0.193893</td>\n",
       "    </tr>\n",
       "    <tr>\n",
       "      <th>5</th>\n",
       "      <td>FGtllVqz18RPiwJj/edr2gV78zirAiY/9SmYvia+kCg=</td>\n",
       "      <td>3Hg5kugV1S0wzEVLAEfqjIV5UHzb7bCrdBRQlGygLvU=</td>\n",
       "      <td>explore</td>\n",
       "      <td>Explore</td>\n",
       "      <td>online-playlist</td>\n",
       "      <td>1</td>\n",
       "      <td>False</td>\n",
       "      <td>False</td>\n",
       "      <td>False</td>\n",
       "      <td>False</td>\n",
       "      <td>...</td>\n",
       "      <td>2103</td>\n",
       "      <td>2012</td>\n",
       "      <td>1</td>\n",
       "      <td>2017</td>\n",
       "      <td>10</td>\n",
       "      <td>True</td>\n",
       "      <td>1108</td>\n",
       "      <td>15</td>\n",
       "      <td>1</td>\n",
       "      <td>0.004867</td>\n",
       "    </tr>\n",
       "    <tr>\n",
       "      <th>6</th>\n",
       "      <td>Xumu+NIjS6QYVxDS4/t3SawvJ7viT9hPKXmf0RtLNx8=</td>\n",
       "      <td>VkILU0H1h3NMmk9MQrXouNudGk5n8Ls5cqRRuBxeTh4=</td>\n",
       "      <td>my library</td>\n",
       "      <td>Local playlist more</td>\n",
       "      <td>local-playlist</td>\n",
       "      <td>1</td>\n",
       "      <td>True</td>\n",
       "      <td>True</td>\n",
       "      <td>True</td>\n",
       "      <td>True</td>\n",
       "      <td>...</td>\n",
       "      <td>2301</td>\n",
       "      <td>2011</td>\n",
       "      <td>5</td>\n",
       "      <td>2017</td>\n",
       "      <td>9</td>\n",
       "      <td>True</td>\n",
       "      <td>3869</td>\n",
       "      <td>43</td>\n",
       "      <td>1</td>\n",
       "      <td>0.000194</td>\n",
       "    </tr>\n",
       "    <tr>\n",
       "      <th>7</th>\n",
       "      <td>FGtllVqz18RPiwJj/edr2gV78zirAiY/9SmYvia+kCg=</td>\n",
       "      <td>bPIvRTzfHxH5LgHrStll+tYwSQNVV8PySgA3M1PfTgc=</td>\n",
       "      <td>explore</td>\n",
       "      <td>Explore</td>\n",
       "      <td>online-playlist</td>\n",
       "      <td>1</td>\n",
       "      <td>False</td>\n",
       "      <td>False</td>\n",
       "      <td>False</td>\n",
       "      <td>False</td>\n",
       "      <td>...</td>\n",
       "      <td>2103</td>\n",
       "      <td>2012</td>\n",
       "      <td>1</td>\n",
       "      <td>2017</td>\n",
       "      <td>10</td>\n",
       "      <td>True</td>\n",
       "      <td>287</td>\n",
       "      <td>33</td>\n",
       "      <td>1</td>\n",
       "      <td>0.193893</td>\n",
       "    </tr>\n",
       "    <tr>\n",
       "      <th>8</th>\n",
       "      <td>uHqAtShXTRXju5GE8ri3ITsVFepPf8jUoCF7ffNOuqE=</td>\n",
       "      <td>/bU6IRSK+YNlNbaTkxo7bhsb2EDLPrnksdX3ggcZNhI=</td>\n",
       "      <td>my library</td>\n",
       "      <td>Local playlist more</td>\n",
       "      <td>local-library</td>\n",
       "      <td>1</td>\n",
       "      <td>True</td>\n",
       "      <td>True</td>\n",
       "      <td>True</td>\n",
       "      <td>True</td>\n",
       "      <td>...</td>\n",
       "      <td>2309</td>\n",
       "      <td>2011</td>\n",
       "      <td>11</td>\n",
       "      <td>2018</td>\n",
       "      <td>3</td>\n",
       "      <td>True</td>\n",
       "      <td>31</td>\n",
       "      <td>155</td>\n",
       "      <td>2</td>\n",
       "      <td>0.040193</td>\n",
       "    </tr>\n",
       "    <tr>\n",
       "      <th>9</th>\n",
       "      <td>uHqAtShXTRXju5GE8ri3ITsVFepPf8jUoCF7ffNOuqE=</td>\n",
       "      <td>EbI7xoNxI+3QSsiHxL13zBdgHIJOwa3srHd7cDcnJ0g=</td>\n",
       "      <td>my library</td>\n",
       "      <td>Local playlist more</td>\n",
       "      <td>local-library</td>\n",
       "      <td>1</td>\n",
       "      <td>True</td>\n",
       "      <td>True</td>\n",
       "      <td>True</td>\n",
       "      <td>True</td>\n",
       "      <td>...</td>\n",
       "      <td>2309</td>\n",
       "      <td>2011</td>\n",
       "      <td>11</td>\n",
       "      <td>2018</td>\n",
       "      <td>3</td>\n",
       "      <td>True</td>\n",
       "      <td>738</td>\n",
       "      <td>155</td>\n",
       "      <td>2</td>\n",
       "      <td>0.000194</td>\n",
       "    </tr>\n",
       "    <tr>\n",
       "      <th>10</th>\n",
       "      <td>uHqAtShXTRXju5GE8ri3ITsVFepPf8jUoCF7ffNOuqE=</td>\n",
       "      <td>t0aT90DlS1TGncgnKoL0SvfAWEr3Dl72QBVcokmKfLc=</td>\n",
       "      <td>my library</td>\n",
       "      <td>Local playlist more</td>\n",
       "      <td>local-library</td>\n",
       "      <td>1</td>\n",
       "      <td>True</td>\n",
       "      <td>True</td>\n",
       "      <td>True</td>\n",
       "      <td>True</td>\n",
       "      <td>...</td>\n",
       "      <td>2309</td>\n",
       "      <td>2011</td>\n",
       "      <td>11</td>\n",
       "      <td>2018</td>\n",
       "      <td>3</td>\n",
       "      <td>True</td>\n",
       "      <td>2</td>\n",
       "      <td>62</td>\n",
       "      <td>2</td>\n",
       "      <td>0.000194</td>\n",
       "    </tr>\n",
       "    <tr>\n",
       "      <th>11</th>\n",
       "      <td>uHqAtShXTRXju5GE8ri3ITsVFepPf8jUoCF7ffNOuqE=</td>\n",
       "      <td>8FGjC9W+7F8WjheGZPAwX9RH3+nWSO7DzjM6EB6naOI=</td>\n",
       "      <td>my library</td>\n",
       "      <td>Local playlist more</td>\n",
       "      <td>local-library</td>\n",
       "      <td>1</td>\n",
       "      <td>True</td>\n",
       "      <td>True</td>\n",
       "      <td>True</td>\n",
       "      <td>True</td>\n",
       "      <td>...</td>\n",
       "      <td>2309</td>\n",
       "      <td>2011</td>\n",
       "      <td>11</td>\n",
       "      <td>2018</td>\n",
       "      <td>3</td>\n",
       "      <td>True</td>\n",
       "      <td>875</td>\n",
       "      <td>88</td>\n",
       "      <td>1</td>\n",
       "      <td>0.000194</td>\n",
       "    </tr>\n",
       "    <tr>\n",
       "      <th>12</th>\n",
       "      <td>TJU0Gfvy7FB+r89bWovPKXTjuApTCiv3xg/tt5shR78=</td>\n",
       "      <td>u6/Pb7X4u7KU4gXrBgGqt8RlRrNNFLn03tLAHyxRxwA=</td>\n",
       "      <td>my library</td>\n",
       "      <td>others</td>\n",
       "      <td>top-hits-for-artist</td>\n",
       "      <td>0</td>\n",
       "      <td>False</td>\n",
       "      <td>True</td>\n",
       "      <td>False</td>\n",
       "      <td>False</td>\n",
       "      <td>...</td>\n",
       "      <td>786</td>\n",
       "      <td>2015</td>\n",
       "      <td>8</td>\n",
       "      <td>2017</td>\n",
       "      <td>9</td>\n",
       "      <td>True</td>\n",
       "      <td>5740</td>\n",
       "      <td>277</td>\n",
       "      <td>3</td>\n",
       "      <td>0.000194</td>\n",
       "    </tr>\n",
       "    <tr>\n",
       "      <th>13</th>\n",
       "      <td>3g0bC24RD7QUeALY1IF/e8L6X3fHG298ZFIsCEG9T9Y=</td>\n",
       "      <td>TYhx9eqWklddkLQlApQ5MS9jJCO4H3JHdpISZ3kZSRE=</td>\n",
       "      <td>my library</td>\n",
       "      <td>Local playlist more</td>\n",
       "      <td>local-library</td>\n",
       "      <td>1</td>\n",
       "      <td>True</td>\n",
       "      <td>True</td>\n",
       "      <td>True</td>\n",
       "      <td>True</td>\n",
       "      <td>...</td>\n",
       "      <td>2405</td>\n",
       "      <td>2011</td>\n",
       "      <td>2</td>\n",
       "      <td>2017</td>\n",
       "      <td>9</td>\n",
       "      <td>True</td>\n",
       "      <td>3251</td>\n",
       "      <td>341</td>\n",
       "      <td>1</td>\n",
       "      <td>0.540724</td>\n",
       "    </tr>\n",
       "    <tr>\n",
       "      <th>14</th>\n",
       "      <td>TJU0Gfvy7FB+r89bWovPKXTjuApTCiv3xg/tt5shR78=</td>\n",
       "      <td>IgMar/mVrJQ+ODFPytDf7jwQMmR09+slyZUdVylRFLc=</td>\n",
       "      <td>my library</td>\n",
       "      <td>Local playlist more</td>\n",
       "      <td>local-playlist</td>\n",
       "      <td>1</td>\n",
       "      <td>True</td>\n",
       "      <td>True</td>\n",
       "      <td>True</td>\n",
       "      <td>True</td>\n",
       "      <td>...</td>\n",
       "      <td>786</td>\n",
       "      <td>2015</td>\n",
       "      <td>8</td>\n",
       "      <td>2017</td>\n",
       "      <td>9</td>\n",
       "      <td>True</td>\n",
       "      <td>6830</td>\n",
       "      <td>277</td>\n",
       "      <td>3</td>\n",
       "      <td>0.540918</td>\n",
       "    </tr>\n",
       "  </tbody>\n",
       "</table>\n",
       "<p>15 rows × 38 columns</p>\n",
       "</div>"
      ],
      "text/plain": [
       "                                            msno  \\\n",
       "0   FGtllVqz18RPiwJj/edr2gV78zirAiY/9SmYvia+kCg=   \n",
       "1   Xumu+NIjS6QYVxDS4/t3SawvJ7viT9hPKXmf0RtLNx8=   \n",
       "2   Xumu+NIjS6QYVxDS4/t3SawvJ7viT9hPKXmf0RtLNx8=   \n",
       "3   Xumu+NIjS6QYVxDS4/t3SawvJ7viT9hPKXmf0RtLNx8=   \n",
       "4   FGtllVqz18RPiwJj/edr2gV78zirAiY/9SmYvia+kCg=   \n",
       "5   FGtllVqz18RPiwJj/edr2gV78zirAiY/9SmYvia+kCg=   \n",
       "6   Xumu+NIjS6QYVxDS4/t3SawvJ7viT9hPKXmf0RtLNx8=   \n",
       "7   FGtllVqz18RPiwJj/edr2gV78zirAiY/9SmYvia+kCg=   \n",
       "8   uHqAtShXTRXju5GE8ri3ITsVFepPf8jUoCF7ffNOuqE=   \n",
       "9   uHqAtShXTRXju5GE8ri3ITsVFepPf8jUoCF7ffNOuqE=   \n",
       "10  uHqAtShXTRXju5GE8ri3ITsVFepPf8jUoCF7ffNOuqE=   \n",
       "11  uHqAtShXTRXju5GE8ri3ITsVFepPf8jUoCF7ffNOuqE=   \n",
       "12  TJU0Gfvy7FB+r89bWovPKXTjuApTCiv3xg/tt5shR78=   \n",
       "13  3g0bC24RD7QUeALY1IF/e8L6X3fHG298ZFIsCEG9T9Y=   \n",
       "14  TJU0Gfvy7FB+r89bWovPKXTjuApTCiv3xg/tt5shR78=   \n",
       "\n",
       "                                         song_id source_system_tab  \\\n",
       "0   BBzumQNXUHKdEBOB7mAJuzok+IJA1c2Ryg/yzTF6tik=           explore   \n",
       "1   bhp/MpSNoqoxOIB+/l8WPqu6jldth4DIpCm3ayXnJqM=        my library   \n",
       "2   JNWfrrC7zNN7BdMpsISKa4Mw+xVJYNnxXh3/Epw7QgY=        my library   \n",
       "3   2A87tzfnJTSWqD7gIZHisolhe4DMdzkbd6LzO1KHjNs=        my library   \n",
       "4   3qm6XTZ6MOCU11x8FIVbAGH5l5uMkT3/ZalWG1oo2Gc=           explore   \n",
       "5   3Hg5kugV1S0wzEVLAEfqjIV5UHzb7bCrdBRQlGygLvU=           explore   \n",
       "6   VkILU0H1h3NMmk9MQrXouNudGk5n8Ls5cqRRuBxeTh4=        my library   \n",
       "7   bPIvRTzfHxH5LgHrStll+tYwSQNVV8PySgA3M1PfTgc=           explore   \n",
       "8   /bU6IRSK+YNlNbaTkxo7bhsb2EDLPrnksdX3ggcZNhI=        my library   \n",
       "9   EbI7xoNxI+3QSsiHxL13zBdgHIJOwa3srHd7cDcnJ0g=        my library   \n",
       "10  t0aT90DlS1TGncgnKoL0SvfAWEr3Dl72QBVcokmKfLc=        my library   \n",
       "11  8FGjC9W+7F8WjheGZPAwX9RH3+nWSO7DzjM6EB6naOI=        my library   \n",
       "12  u6/Pb7X4u7KU4gXrBgGqt8RlRrNNFLn03tLAHyxRxwA=        my library   \n",
       "13  TYhx9eqWklddkLQlApQ5MS9jJCO4H3JHdpISZ3kZSRE=        my library   \n",
       "14  IgMar/mVrJQ+ODFPytDf7jwQMmR09+slyZUdVylRFLc=        my library   \n",
       "\n",
       "     source_screen_name          source_type  target  1h_source  \\\n",
       "0               Explore      online-playlist       1      False   \n",
       "1   Local playlist more       local-playlist       1       True   \n",
       "2   Local playlist more       local-playlist       1       True   \n",
       "3   Local playlist more       local-playlist       1       True   \n",
       "4               Explore      online-playlist       1      False   \n",
       "5               Explore      online-playlist       1      False   \n",
       "6   Local playlist more       local-playlist       1       True   \n",
       "7               Explore      online-playlist       1      False   \n",
       "8   Local playlist more        local-library       1       True   \n",
       "9   Local playlist more        local-library       1       True   \n",
       "10  Local playlist more        local-library       1       True   \n",
       "11  Local playlist more        local-library       1       True   \n",
       "12               others  top-hits-for-artist       0      False   \n",
       "13  Local playlist more        local-library       1       True   \n",
       "14  Local playlist more       local-playlist       1       True   \n",
       "\n",
       "    1h_system_tab  1h_screen_name  1h_source_type     ...      \\\n",
       "0           False           False           False     ...       \n",
       "1            True            True            True     ...       \n",
       "2            True            True            True     ...       \n",
       "3            True            True            True     ...       \n",
       "4           False           False           False     ...       \n",
       "5           False           False           False     ...       \n",
       "6            True            True            True     ...       \n",
       "7           False           False           False     ...       \n",
       "8            True            True            True     ...       \n",
       "9            True            True            True     ...       \n",
       "10           True            True            True     ...       \n",
       "11           True            True            True     ...       \n",
       "12           True           False           False     ...       \n",
       "13           True            True            True     ...       \n",
       "14           True            True            True     ...       \n",
       "\n",
       "    membership_days registration_init_year registration_init_month  \\\n",
       "0              2103                   2012                       1   \n",
       "1              2301                   2011                       5   \n",
       "2              2301                   2011                       5   \n",
       "3              2301                   2011                       5   \n",
       "4              2103                   2012                       1   \n",
       "5              2103                   2012                       1   \n",
       "6              2301                   2011                       5   \n",
       "7              2103                   2012                       1   \n",
       "8              2309                   2011                      11   \n",
       "9              2309                   2011                      11   \n",
       "10             2309                   2011                      11   \n",
       "11             2309                   2011                      11   \n",
       "12              786                   2015                       8   \n",
       "13             2405                   2011                       2   \n",
       "14              786                   2015                       8   \n",
       "\n",
       "   expiration_date_year expiration_date_month  1h_via  play_count  \\\n",
       "0                  2017                    10    True         215   \n",
       "1                  2017                     9    True           1   \n",
       "2                  2017                     9    True           4   \n",
       "3                  2017                     9    True           1   \n",
       "4                  2017                    10    True         412   \n",
       "5                  2017                    10    True        1108   \n",
       "6                  2017                     9    True        3869   \n",
       "7                  2017                    10    True         287   \n",
       "8                  2018                     3    True          31   \n",
       "9                  2018                     3    True         738   \n",
       "10                 2018                     3    True           2   \n",
       "11                 2018                     3    True         875   \n",
       "12                 2017                     9    True        5740   \n",
       "13                 2017                     9    True        3251   \n",
       "14                 2017                     9    True        6830   \n",
       "\n",
       "    track_count  cover_lang  item_fac_0  \n",
       "0            84           1    0.000696  \n",
       "1         17080          10    0.004867  \n",
       "2            61           2    0.004867  \n",
       "3             1           1    0.091551  \n",
       "4             6           1    0.193893  \n",
       "5            15           1    0.004867  \n",
       "6            43           1    0.000194  \n",
       "7            33           1    0.193893  \n",
       "8           155           2    0.040193  \n",
       "9           155           2    0.000194  \n",
       "10           62           2    0.000194  \n",
       "11           88           1    0.000194  \n",
       "12          277           3    0.000194  \n",
       "13          341           1    0.540724  \n",
       "14          277           3    0.540918  \n",
       "\n",
       "[15 rows x 38 columns]"
      ]
     },
     "execution_count": 16,
     "metadata": {},
     "output_type": "execute_result"
    }
   ],
   "source": [
    "x = train_df.drop(['target'], axis=1)\n",
    "y = train_df['target']\n",
    "\n",
    "# take the last # rows of train_df as valid set where # means number of rows in test_df\n",
    "x_valid = train_df.drop(['target'], axis=1).tail(test_df.shape[0])\n",
    "y_valid = train_df['target'].tail(test_df.shape[0])\n",
    "\n",
    "x_test = test_df.drop(['id'], axis=1)\n",
    "test_ids = test_df['id']\n",
    "\n",
    "train_df.head(15)"
   ]
  },
  {
   "cell_type": "markdown",
   "metadata": {},
   "source": [
    "## Core"
   ]
  },
  {
   "cell_type": "code",
   "execution_count": 17,
   "metadata": {
    "ExecuteTime": {
     "end_time": "2017-12-13T06:07:29.277116Z",
     "start_time": "2017-12-13T05:59:30.921069Z"
    },
    "scrolled": false
   },
   "outputs": [
    {
     "name": "stdout",
     "output_type": "stream",
     "text": [
      "[5]\tvalid_0's auc: 0.655746\tvalid_1's auc: 0.671129\n",
      "[10]\tvalid_0's auc: 0.66401\tvalid_1's auc: 0.682411\n",
      "[15]\tvalid_0's auc: 0.671838\tvalid_1's auc: 0.692801\n",
      "[20]\tvalid_0's auc: 0.676103\tvalid_1's auc: 0.699543\n",
      "[25]\tvalid_0's auc: 0.678914\tvalid_1's auc: 0.703948\n",
      "[30]\tvalid_0's auc: 0.68057\tvalid_1's auc: 0.707015\n",
      "[35]\tvalid_0's auc: 0.682096\tvalid_1's auc: 0.709819\n",
      "[40]\tvalid_0's auc: 0.682623\tvalid_1's auc: 0.711513\n",
      "[45]\tvalid_0's auc: 0.683315\tvalid_1's auc: 0.713183\n",
      "[50]\tvalid_0's auc: 0.68392\tvalid_1's auc: 0.714768\n",
      "[55]\tvalid_0's auc: 0.684137\tvalid_1's auc: 0.715767\n",
      "[60]\tvalid_0's auc: 0.684326\tvalid_1's auc: 0.716723\n",
      "[65]\tvalid_0's auc: 0.684343\tvalid_1's auc: 0.717391\n",
      "[70]\tvalid_0's auc: 0.684582\tvalid_1's auc: 0.718333\n",
      "[75]\tvalid_0's auc: 0.684496\tvalid_1's auc: 0.71878\n",
      "[80]\tvalid_0's auc: 0.684511\tvalid_1's auc: 0.719413\n",
      "[85]\tvalid_0's auc: 0.684577\tvalid_1's auc: 0.720097\n",
      "[90]\tvalid_0's auc: 0.684614\tvalid_1's auc: 0.720742\n",
      "[95]\tvalid_0's auc: 0.684772\tvalid_1's auc: 0.721361\n",
      "[100]\tvalid_0's auc: 0.684732\tvalid_1's auc: 0.721763\n",
      "[105]\tvalid_0's auc: 0.684774\tvalid_1's auc: 0.722213\n",
      "[110]\tvalid_0's auc: 0.684768\tvalid_1's auc: 0.722685\n",
      "[115]\tvalid_0's auc: 0.684806\tvalid_1's auc: 0.723222\n",
      "[120]\tvalid_0's auc: 0.684768\tvalid_1's auc: 0.723692\n",
      "[125]\tvalid_0's auc: 0.684813\tvalid_1's auc: 0.724168\n",
      "[130]\tvalid_0's auc: 0.684801\tvalid_1's auc: 0.724612\n",
      "[135]\tvalid_0's auc: 0.684801\tvalid_1's auc: 0.724909\n",
      "[140]\tvalid_0's auc: 0.684859\tvalid_1's auc: 0.725331\n",
      "[145]\tvalid_0's auc: 0.684797\tvalid_1's auc: 0.72559\n",
      "[150]\tvalid_0's auc: 0.684822\tvalid_1's auc: 0.725952\n",
      "[155]\tvalid_0's auc: 0.684816\tvalid_1's auc: 0.726286\n",
      "[160]\tvalid_0's auc: 0.684652\tvalid_1's auc: 0.726505\n",
      "[165]\tvalid_0's auc: 0.68455\tvalid_1's auc: 0.726777\n",
      "[170]\tvalid_0's auc: 0.684446\tvalid_1's auc: 0.727114\n",
      "[175]\tvalid_0's auc: 0.684363\tvalid_1's auc: 0.727299\n",
      "[180]\tvalid_0's auc: 0.684265\tvalid_1's auc: 0.727547\n",
      "[185]\tvalid_0's auc: 0.684196\tvalid_1's auc: 0.727792\n",
      "[190]\tvalid_0's auc: 0.684122\tvalid_1's auc: 0.728033\n",
      "[195]\tvalid_0's auc: 0.684174\tvalid_1's auc: 0.728353\n",
      "[200]\tvalid_0's auc: 0.684142\tvalid_1's auc: 0.72857\n",
      "defaultdict(<class 'dict'>, {'valid_0': {'auc': 0.68414150605334556}, 'valid_1': {'auc': 0.72857002802614623}})\n",
      "[CV] [0.72857002802614623]{ auc score=0.728570028026 }\n",
      "0.728570028026\n",
      "[5]\tvalid_0's auc: 0.695396\n",
      "[10]\tvalid_0's auc: 0.713566\n",
      "[15]\tvalid_0's auc: 0.73033\n",
      "[20]\tvalid_0's auc: 0.743073\n",
      "[25]\tvalid_0's auc: 0.751869\n",
      "[30]\tvalid_0's auc: 0.759611\n",
      "[35]\tvalid_0's auc: 0.7649\n",
      "[40]\tvalid_0's auc: 0.769026\n",
      "[45]\tvalid_0's auc: 0.773416\n",
      "[50]\tvalid_0's auc: 0.776434\n",
      "[55]\tvalid_0's auc: 0.779128\n",
      "[60]\tvalid_0's auc: 0.781786\n",
      "[65]\tvalid_0's auc: 0.783977\n",
      "[70]\tvalid_0's auc: 0.786148\n",
      "[75]\tvalid_0's auc: 0.788535\n",
      "[80]\tvalid_0's auc: 0.790725\n",
      "[85]\tvalid_0's auc: 0.79257\n",
      "[90]\tvalid_0's auc: 0.794928\n",
      "[95]\tvalid_0's auc: 0.796985\n",
      "[100]\tvalid_0's auc: 0.798359\n",
      "[105]\tvalid_0's auc: 0.799495\n",
      "[110]\tvalid_0's auc: 0.800943\n",
      "[115]\tvalid_0's auc: 0.802583\n",
      "[120]\tvalid_0's auc: 0.804196\n",
      "[125]\tvalid_0's auc: 0.805686\n",
      "[130]\tvalid_0's auc: 0.807055\n",
      "[135]\tvalid_0's auc: 0.808396\n",
      "[140]\tvalid_0's auc: 0.80969\n",
      "[145]\tvalid_0's auc: 0.810918\n",
      "[150]\tvalid_0's auc: 0.811836\n",
      "[155]\tvalid_0's auc: 0.812962\n",
      "[160]\tvalid_0's auc: 0.813763\n",
      "[165]\tvalid_0's auc: 0.814702\n",
      "[170]\tvalid_0's auc: 0.815643\n",
      "[175]\tvalid_0's auc: 0.816855\n",
      "[180]\tvalid_0's auc: 0.818495\n",
      "[185]\tvalid_0's auc: 0.819532\n",
      "[190]\tvalid_0's auc: 0.820423\n",
      "[195]\tvalid_0's auc: 0.821322\n",
      "[200]\tvalid_0's auc: 0.82227\n"
     ]
    }
   ],
   "source": [
    "train_set = lgb.Dataset(x, y)\n",
    "valid_set = lgb.Dataset(x_valid, y_valid, free_raw_data=False)\n",
    "watchlist = [valid_set]\n",
    "\n",
    "params = dict({\n",
    "    'learning_rate': 0.2,\n",
    "    'application': 'binary',\n",
    "    'min_data_in_leaf': 10,\n",
    "#    'max_depth': 10,\n",
    "    'num_leaves': 2 ** 7,\n",
    "    'max_bin': 255,\n",
    "    'verbosity': 0,\n",
    "    'metric': 'auc'\n",
    "})\n",
    "\n",
    "grid_params = {\n",
    "    'learning_rate': [0.1, 0.2],\n",
    "    'max_depth': [8, 10],\n",
    "}\n",
    "\n",
    "# best_grid_params = custom_grid_search(params, grid_params, train_set, hold_out_set, num_boost_round=20)\n",
    "# for key, val in best_grid_params.items():\n",
    "#     params[key] = best_grid_params[key]\n",
    "\n",
    "cv_score = custom_cv(params, train_set, valid_set, k_fold=4, num_boost_round=200)\n",
    "print(cv_score)\n",
    "\n",
    "model = lgb.train(params, train_set=train_set, valid_sets=watchlist, num_boost_round=200, verbose_eval=5)\n",
    "y_test = model.predict(x_test)\n",
    "\n",
    "# When CV, valid_0 means the front 75% training, the last 25% validating\n",
    "#          valid_1 means the front 75% training, the last \"len(test set)\" validating\n",
    "#\n",
    "# When LGBM running, valid_0 means 100% training, the last \"len(test set)\" validating.\n",
    "#\n",
    "# Use CV valid_0 auc score to predict result!"
   ]
  },
  {
   "cell_type": "markdown",
   "metadata": {},
   "source": [
    "## Feature importances"
   ]
  },
  {
   "cell_type": "code",
   "execution_count": 18,
   "metadata": {
    "ExecuteTime": {
     "end_time": "2017-12-13T06:07:29.755163Z",
     "start_time": "2017-12-13T06:07:29.278794Z"
    },
    "scrolled": false
   },
   "outputs": [
    {
     "data": {
      "image/png": "[encoded data removed]",
      "text/plain": [
       "<matplotlib.figure.Figure at 0x7f9c0408f898>"
      ]
     },
     "metadata": {},
     "output_type": "display_data"
    }
   ],
   "source": [
    "plot_df = pd.DataFrame({'features': train_df.columns[train_df.columns != 'target'],\n",
    "                        'importances': model.feature_importance()})\n",
    "plot_df = plot_df.sort_values('importances', ascending=False)\n",
    "\n",
    "plt.figure(figsize=(8, 15))\n",
    "sns.barplot(x = plot_df.importances, y = plot_df.features)\n",
    "plt.show()"
   ]
  },
  {
   "cell_type": "markdown",
   "metadata": {},
   "source": [
    "## Output"
   ]
  },
  {
   "cell_type": "code",
   "execution_count": 19,
   "metadata": {
    "ExecuteTime": {
     "end_time": "2017-12-13T06:07:48.997015Z",
     "start_time": "2017-12-13T06:07:29.756861Z"
    }
   },
   "outputs": [
    {
     "name": "stdout",
     "output_type": "stream",
     "text": [
      "<class 'pandas.core.frame.DataFrame'>\n",
      "Int64Index: 2556790 entries, 0 to 2556789\n",
      "Data columns (total 2 columns):\n",
      "id        int64\n",
      "target    float64\n",
      "dtypes: float64(1), int64(1)\n",
      "memory usage: 58.5 MB\n"
     ]
    }
   ],
   "source": [
    "submission_df = pd.DataFrame()\n",
    "submission_df['id'] = test_ids\n",
    "submission_df['target'] = y_test\n",
    "# string file compression reduces file size\n",
    "submission_df.to_csv('data/submission.csv.gz', compression = 'gzip', index=False, float_format = '%.5f')\n",
    "submission_df.info()"
   ]
  },
  {
   "cell_type": "code",
   "execution_count": null,
   "metadata": {
    "collapsed": true
   },
   "outputs": [],
   "source": []
  }
 ],
 "metadata": {
  "kernelspec": {
   "display_name": "Python 3",
   "language": "python",
   "name": "python3"
  },
  "language_info": {
   "codemirror_mode": {
    "name": "ipython",
    "version": 3
   },
   "file_extension": ".py",
   "mimetype": "text/x-python",
   "name": "python",
   "nbconvert_exporter": "python",
   "pygments_lexer": "ipython3",
   "version": "3.6.3"
  },
  "toc": {
   "nav_menu": {},
   "number_sections": true,
   "sideBar": true,
   "skip_h1_title": false,
   "toc_cell": false,
   "toc_position": {
    "height": "978px",
    "left": "0px",
    "right": "1122px",
    "top": "107px",
    "width": "294px"
   },
   "toc_section_display": "block",
   "toc_window_display": true
  },
  "varInspector": {
   "cols": {
    "lenName": 16,
    "lenType": 16,
    "lenVar": 40
   },
   "kernels_config": {
    "python": {
     "delete_cmd_postfix": "",
     "delete_cmd_prefix": "del ",
     "library": "var_list.py",
     "varRefreshCmd": "print(var_dic_list())"
    },
    "r": {
     "delete_cmd_postfix": ") ",
     "delete_cmd_prefix": "rm(",
     "library": "var_list.r",
     "varRefreshCmd": "cat(var_dic_list()) "
    }
   },
   "oldHeight": 122,
   "position": {
    "height": "40px",
    "left": "1064px",
    "right": "20px",
    "top": "120px",
    "width": "250px"
   },
   "types_to_exclude": [
    "module",
    "function",
    "builtin_function_or_method",
    "instance",
    "_Feature"
   ],
   "varInspector_section_display": "none",
   "window_display": false
  }
 },
 "nbformat": 4,
 "nbformat_minor": 2
}
