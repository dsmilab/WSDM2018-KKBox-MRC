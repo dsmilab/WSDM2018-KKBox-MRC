   },
{
 "cells": [
  {
   "cell_type": "markdown",
   "metadata": {},
   "source": [
    "# Pre-process"
   ]
  },
  {
   "cell_type": "markdown",
   "metadata": {
    "collapsed": true
   },
   "source": [
    "## Load library and define some functions needed"
   ]
  },
  {
   "cell_type": "code",
   "execution_count": 1,
   "metadata": {
    "ExecuteTime": {
     "end_time": "2017-12-09T06:54:42.686593Z",
     "start_time": "2017-12-09T06:54:41.806440Z"
    },
    "collapsed": true
   },
   "outputs": [],
   "source": [
    "import seaborn as sns\n",
    "import pandas as pd\n",
    "import numpy as np\n",
    "import lightgbm as lgb\n",
    "import matplotlib.pyplot as plt\n",
    "import datetime as dt\n",
    "import random\n",
    "\n",
    "import json\n",
    "import os.path\n",
    "import gc\n",
    "\n",
    "from script.lib.FeatureProducer import FeatureProducer \n",
    "MODEL_FILE_NAME = 'model.txt'"
   ]
  },
  {
   "cell_type": "code",
   "execution_count": 2,
   "metadata": {
    "ExecuteTime": {
     "end_time": "2017-12-09T06:54:42.766514Z",
     "start_time": "2017-12-09T06:54:42.688330Z"
    },
    "collapsed": true
   },
   "outputs": [],
   "source": [
    "def custom_cv(params, train_set, hold_out_set=None, k_fold=5, num_boost_round=20):\n",
    "    x_train = train_set.data\n",
    "    y_train = train_set.label\n",
    "    n = x_train.shape[0]\n",
    "    unit = n // k_fold\n",
    "\n",
    "    cv_scores = []\n",
    "    for k in range(k_fold):\n",
    "        ##### !!!!!!!!!!!!!!!!!!!!!!!!!!!!!!!!!!!!!!!!!!!!!!!!!!!!!!!!!!!!!!!!!!!!!\n",
    "        if k < k_fold - 1:\n",
    "            continue\n",
    "        ##### !!!!!!!!!!!!!!!!!!!!!!!!!!!!!!!!!!!!!!!!!!!!!!!!!!!!!!!!!!!!!!!!!!!!!\n",
    "        x_cv_valid = None\n",
    "        y_cv_valid = None\n",
    "        if k == k_fold - 1:\n",
    "            x_cv_valid = x_train[unit * k:]\n",
    "            y_cv_valid = y_train[unit * k:]\n",
    "        else:\n",
    "            x_cv_valid = x_train[unit * k: unit * (k + 1)]\n",
    "            y_cv_valid = y_train[unit * k: unit * (k + 1)]\n",
    "\n",
    "        x_cv_train = None\n",
    "        y_cv_train = None\n",
    "        if k == 0:\n",
    "            x_cv_train = x_train[unit * (k + 1):]\n",
    "            y_cv_train = y_train[unit * (k + 1):]\n",
    "        elif k == k_fold - 1:\n",
    "            x_cv_train = x_train[:unit * k]\n",
    "            y_cv_train = y_train[:unit * k]\n",
    "        else:\n",
    "            x_cv_train = x_train[:unit * k].append(x_train[unit * (k + 1):])\n",
    "            y_cv_train = y_train[:unit * k].append(y_train[unit * (k + 1):])\n",
    "\n",
    "        cv_train_set = lgb.Dataset(x_cv_train, y_cv_train)\n",
    "        cv_valid_set = lgb.Dataset(x_cv_valid, y_cv_valid)\n",
    "        watchlist = [cv_valid_set]\n",
    "\n",
    "        # not tested yet\n",
    "        if hold_out_set is not None:\n",
    "            watchlist.append(hold_out_set)\n",
    "        model = lgb.train(params, train_set=cv_train_set, valid_sets=watchlist,\n",
    "                          num_boost_round=num_boost_round, verbose_eval=5)\n",
    "        print(model.best_score)\n",
    "        cv_scores.append(model.best_score['valid_1']['auc'])\n",
    "\n",
    "    tip_txt = '[CV]'\n",
    "    tip_txt += ' ' + str(cv_scores)\n",
    "    mean_cv_score = np.mean(cv_scores)\n",
    "    tip_txt += '{ auc score=' + str(mean_cv_score) + ' }'\n",
    "    print(tip_txt)\n",
    "\n",
    "    return mean_cv_score"
   ]
  },
  {
   "cell_type": "code",
   "execution_count": 3,
   "metadata": {
    "ExecuteTime": {
     "end_time": "2017-12-09T06:54:42.866068Z",
     "start_time": "2017-12-09T06:54:42.767860Z"
    },
    "collapsed": true
   },
   "outputs": [],
   "source": [
    "def custom_grid_search(params, own_grid_params, train_set, valid_set, num_boost_round=20):\n",
    "    keys = []\n",
    "    values = [list()]\n",
    "    for key, value in own_grid_params.items():\n",
    "        keys.append(key)\n",
    "        new_values = []\n",
    "        for item in values:\n",
    "            for val in value:\n",
    "                new_values.append(item + [val])\n",
    "        values = new_values\n",
    "\n",
    "    watchlist = [valid_set]\n",
    "    grid_best_params = None\n",
    "    grid_best_score = None\n",
    "\n",
    "    for comb in values:\n",
    "        own_params = {}\n",
    "        for idx in range(len(keys)):\n",
    "            own_params[keys[idx]] = comb[idx]\n",
    "            params[keys[idx]] = comb[idx]\n",
    "\n",
    "        cv_score = custom_cv(params, train_set, valid_set, k_fold=4, num_boost_round=num_boost_round)\n",
    "\n",
    "        tip_txt = '[GridSearch]'\n",
    "        for idx in range(len(keys)):\n",
    "            tip_txt += ' ' + str(keys[idx]) + '=' + str(comb[idx])\n",
    "        tip_txt += ' { best_score: ' + str(cv_score) + ' }'\n",
    "        print(tip_txt)\n",
    "\n",
    "        if grid_best_score is None or cv_score > grid_best_score:\n",
    "            grid_best_params, grid_best_score = own_params, cv_score\n",
    "\n",
    "    tip_txt = '[GS Best Result]'\n",
    "    for key, val in grid_best_params.items():\n",
    "        tip_txt += ' ' + str(key) + '=' + str(val)\n",
    "    tip_txt += ' { best_score: ' + str(grid_best_score) + ' }'\n",
    "    print(tip_txt)\n",
    "    \n",
    "    return grid_best_params"
   ]
  },
  {
   "cell_type": "markdown",
   "metadata": {},
   "source": [
    "## init"
   ]
  },
  {
   "cell_type": "code",
   "execution_count": 4,
   "metadata": {
    "ExecuteTime": {
     "end_time": "2017-12-09T06:54:42.920907Z",
     "start_time": "2017-12-09T06:54:42.867558Z"
    },
    "collapsed": true
   },
   "outputs": [],
   "source": [
    "fp = FeatureProducer(root='./data')"
   ]
  },
  {
   "cell_type": "markdown",
   "metadata": {},
   "source": [
    "## load"
   ]
  },
  {
   "cell_type": "code",
   "execution_count": 5,
   "metadata": {
    "ExecuteTime": {
     "end_time": "2017-12-09T06:55:03.189703Z",
     "start_time": "2017-12-09T06:54:42.922239Z"
    }
   },
   "outputs": [
    {
     "name": "stderr",
     "output_type": "stream",
     "text": [
      "14:55:03 INFO << load raw data in 20.07s\n"
     ]
    }
   ],
   "source": [
    "fp.load_raw()"
   ]
  },
  {
   "cell_type": "markdown",
   "metadata": {},
   "source": [
    "## preprocess"
   ]
  },
  {
   "cell_type": "code",
   "execution_count": 6,
   "metadata": {
    "ExecuteTime": {
     "end_time": "2017-12-09T06:56:39.525756Z",
     "start_time": "2017-12-09T06:55:03.191329Z"
    }
   },
   "outputs": [
    {
     "name": "stderr",
     "output_type": "stream",
     "text": [
      "14:55:33 INFO << parse train_df in 30.38s\n",
      "14:55:50 INFO << parse test_df in 16.38s\n",
      "14:55:51 INFO << parse members_df in 0.93s\n",
      "14:56:07 INFO << parse songs_df in 16.66s\n",
      "14:56:10 INFO << parse song_extra_info_df in 3.06s\n"
     ]
    }
   ],
   "source": [
    "fp.pre_process()"
   ]
  },
  {
   "cell_type": "markdown",
   "metadata": {},
   "source": [
    "## feature engineering"
   ]
  },
  {
   "cell_type": "code",
   "execution_count": 7,
   "metadata": {
    "ExecuteTime": {
     "end_time": "2017-12-09T06:57:29.021528Z",
     "start_time": "2017-12-09T06:56:39.527420Z"
    }
   },
   "outputs": [
    {
     "name": "stderr",
     "output_type": "stream",
     "text": [
      "14:57:06 INFO << parse engineering_df in 27.16s\n",
      "14:57:28 INFO << parse engineering_df in 22.20s\n"
     ]
    }
   ],
   "source": [
    "fp.feature_engineering()"
   ]
  },
  {
   "cell_type": "markdown",
   "metadata": {},
   "source": [
    "## type to category"
   ]
  },
  {
   "cell_type": "code",
   "execution_count": 8,
   "metadata": {
    "ExecuteTime": {
     "end_time": "2017-12-09T06:58:03.885975Z",
     "start_time": "2017-12-09T06:57:29.023275Z"
    },
    "scrolled": false
   },
   "outputs": [
    {
     "name": "stderr",
     "output_type": "stream",
     "text": [
      "14:57:42 INFO << transform \"msno\" in 2.35s\n",
      "14:57:46 INFO << transform \"song_id\" in 4.19s\n",
      "14:57:47 INFO << transform \"source_system_tab\" in 1.32s\n",
      "14:57:49 INFO << transform \"source_screen_name\" in 1.39s\n",
      "14:57:50 INFO << transform \"source_type\" in 1.30s\n",
      "14:57:51 INFO << transform \"1h_source\" in 0.42s\n",
      "14:57:51 INFO << transform \"1h_system_tab\" in 0.39s\n",
      "14:57:51 INFO << transform \"1h_screen_name\" in 0.36s\n",
      "14:57:52 INFO << transform \"1h_source_type\" in 0.33s\n",
      "14:57:52 INFO << transform \"song_length\" in 0.33s\n",
      "14:57:53 INFO << transform \"genre_ids\" in 1.33s\n",
      "14:57:55 INFO << transform \"artist_name\" in 1.78s\n",
      "14:57:57 INFO << transform \"composer\" in 1.62s\n",
      "14:57:58 INFO << transform \"lyricist\" in 1.11s\n",
      "14:57:59 INFO << transform \"language\" in 1.09s\n",
      "14:57:59 INFO << transform \"artist_count\" in 0.29s\n",
      "14:57:59 INFO << transform \"genre_count\" in 0.27s\n",
      "14:58:00 INFO << transform \"composer_count\" in 0.24s\n",
      "14:58:00 INFO << transform \"lyricist_count\" in 0.21s\n",
      "14:58:00 INFO << transform \"1h_lang\" in 0.16s\n",
      "14:58:00 INFO << transform \"1h_song_length\" in 0.13s\n",
      "14:58:00 INFO << transform \"song_year\" in 0.13s\n",
      "14:58:00 INFO << transform \"1h_song_year\" in 0.08s\n",
      "14:58:01 INFO << transform \"city\" in 0.42s\n",
      "14:58:01 INFO << transform \"bd\" in 0.42s\n",
      "14:58:02 INFO << transform \"gender\" in 0.36s\n",
      "14:58:02 INFO << transform \"registered_via\" in 0.40s\n",
      "14:58:02 INFO << transform \"expiration_date\" in 0.25s\n",
      "14:58:02 INFO << transform \"membership_days\" in 0.23s\n",
      "14:58:03 INFO << transform \"registration_init_year\" in 0.20s\n",
      "14:58:03 INFO << transform \"registration_init_month\" in 0.17s\n",
      "14:58:03 INFO << transform \"expiration_date_year\" in 0.15s\n",
      "14:58:03 INFO << transform \"expiration_date_month\" in 0.11s\n",
      "14:58:03 INFO << transform \"1h_via\" in 0.08s\n",
      "14:58:03 INFO << transform \"play_count\" in 0.06s\n",
      "14:58:03 INFO << transform \"track_count\" in 0.07s\n",
      "14:58:03 INFO << transform \"cover_lang\" in 0.04s\n"
     ]
    }
   ],
   "source": [
    "fp.self_fit_transform()"
   ]
  },
  {
   "cell_type": "code",
   "execution_count": 9,
   "metadata": {
    "ExecuteTime": {
     "end_time": "2017-12-09T06:58:04.373963Z",
     "start_time": "2017-12-09T06:58:03.887556Z"
    }
   },
   "outputs": [
    {
     "name": "stdout",
     "output_type": "stream",
     "text": [
      "<class 'pandas.core.frame.DataFrame'>\n",
      "Int64Index: 7377418 entries, 0 to 7377417\n",
      "Data columns (total 38 columns):\n",
      "msno                       category\n",
      "song_id                    category\n",
      "source_system_tab          category\n",
      "source_screen_name         category\n",
      "source_type                category\n",
      "target                     int64\n",
      "1h_source                  bool\n",
      "1h_system_tab              bool\n",
      "1h_screen_name             bool\n",
      "1h_source_type             bool\n",
      "song_length                int32\n",
      "genre_ids                  category\n",
      "artist_name                category\n",
      "composer                   category\n",
      "lyricist                   category\n",
      "language                   category\n",
      "artist_count               int32\n",
      "genre_count                int32\n",
      "composer_count             int32\n",
      "lyricist_count             int32\n",
      "1h_lang                    bool\n",
      "1h_song_length             bool\n",
      "song_year                  int32\n",
      "1h_song_year               bool\n",
      "city                       category\n",
      "bd                         category\n",
      "gender                     category\n",
      "registered_via             category\n",
      "expiration_date            int32\n",
      "membership_days            int32\n",
      "registration_init_year     int32\n",
      "registration_init_month    int32\n",
      "expiration_date_year       int32\n",
      "expiration_date_month      int32\n",
      "1h_via                     bool\n",
      "play_count                 int32\n",
      "track_count                int32\n",
      "cover_lang                 int32\n",
      "dtypes: bool(8), category(14), int32(15), int64(1)\n",
      "memory usage: 808.4 MB\n",
      "<class 'pandas.core.frame.DataFrame'>\n",
      "Int64Index: 2556790 entries, 0 to 2556789\n",
      "Data columns (total 38 columns):\n",
      "id                         int64\n",
      "msno                       category\n",
      "song_id                    category\n",
      "source_system_tab          category\n",
      "source_screen_name         category\n",
      "source_type                category\n",
      "1h_source                  bool\n",
      "1h_system_tab              bool\n",
      "1h_screen_name             bool\n",
      "1h_source_type             bool\n",
      "song_length                int32\n",
      "genre_ids                  category\n",
      "artist_name                category\n",
      "composer                   category\n",
      "lyricist                   category\n",
      "language                   category\n",
      "artist_count               int32\n",
      "genre_count                int32\n",
      "composer_count             int32\n",
      "lyricist_count             int32\n",
      "1h_lang                    bool\n",
      "1h_song_length             bool\n",
      "song_year                  int32\n",
      "1h_song_year               bool\n",
      "city                       category\n",
      "bd                         category\n",
      "gender                     category\n",
      "registered_via             category\n",
      "expiration_date            int32\n",
      "membership_days            int32\n",
      "registration_init_year     int32\n",
      "registration_init_month    int32\n",
      "expiration_date_year       int32\n",
      "expiration_date_month      int32\n",
      "1h_via                     bool\n",
      "play_count                 int32\n",
      "track_count                int32\n",
      "cover_lang                 int32\n",
      "dtypes: bool(8), category(14), int32(15), int64(1)\n",
      "memory usage: 281.1 MB\n"
     ]
    }
   ],
   "source": [
    "train_df = fp.train_df\n",
    "test_df = fp.test_df\n",
    "\n",
    "assert(train_df.shape[1] == test_df.shape[1])\n",
    "train_df.info()\n",
    "test_df.info()"
   ]
  },
  {
   "cell_type": "markdown",
   "metadata": {},
   "source": [
    "# LGBM training"
   ]
  },
  {
   "cell_type": "markdown",
   "metadata": {},
   "source": [
    "## Correlation over all features (underconstruction...)"
   ]
  },
  {
   "cell_type": "markdown",
   "metadata": {},
   "source": [
    "For categorical feature, need to numerize them.\n",
    "Also, for all numeric features, it's necessary to be normalized."
   ]
  },
  {
   "cell_type": "code",
   "execution_count": 10,
   "metadata": {
    "ExecuteTime": {
     "end_time": "2017-12-09T06:58:24.222848Z",
     "start_time": "2017-12-09T06:58:04.375898Z"
    }
   },
   "outputs": [
    {
     "data": {
      "image/png": "[encoded data removed]",
      "text/plain": [
       "<matplotlib.figure.Figure at 0x7f4883c2d908>"
      ]
     },
     "metadata": {},
     "output_type": "display_data"
    }
   ],
   "source": [
    "corr = train_df.corr()\n",
    "\n",
    "f, ax = plt.subplots(figsize=(10, 8))\n",
    "sns.heatmap(corr, mask=np.zeros_like(corr, dtype=np.bool), cmap=sns.diverging_palette(220, 10, as_cmap=True),\n",
    "            square=True, ax=ax)\n",
    "plt.show()"
   ]
  },
  {
   "cell_type": "markdown",
   "metadata": {},
   "source": [
    "## Prepare"
   ]
  },
  {
   "cell_type": "code",
   "execution_count": 11,
   "metadata": {
    "ExecuteTime": {
     "end_time": "2017-12-09T06:58:24.940406Z",
     "start_time": "2017-12-09T06:58:24.224453Z"
    }
   },
   "outputs": [
    {
     "data": {
      "text/html": [
       "<div>\n",
       "<style>\n",
       "    .dataframe thead tr:only-child th {\n",
       "        text-align: right;\n",
       "    }\n",
       "\n",
       "    .dataframe thead th {\n",
       "        text-align: left;\n",
       "    }\n",
       "\n",
       "    .dataframe tbody tr th {\n",
       "        vertical-align: top;\n",
       "    }\n",
       "</style>\n",
       "<table border=\"1\" class=\"dataframe\">\n",
       "  <thead>\n",
       "    <tr style=\"text-align: right;\">\n",
       "      <th></th>\n",
       "      <th>msno</th>\n",
       "      <th>song_id</th>\n",
       "      <th>source_system_tab</th>\n",
       "      <th>source_screen_name</th>\n",
       "      <th>source_type</th>\n",
       "      <th>target</th>\n",
       "      <th>1h_source</th>\n",
       "      <th>1h_system_tab</th>\n",
       "      <th>1h_screen_name</th>\n",
       "      <th>1h_source_type</th>\n",
       "      <th>...</th>\n",
       "      <th>expiration_date</th>\n",
       "      <th>membership_days</th>\n",
       "      <th>registration_init_year</th>\n",
       "      <th>registration_init_month</th>\n",
       "      <th>expiration_date_year</th>\n",
       "      <th>expiration_date_month</th>\n",
       "      <th>1h_via</th>\n",
       "      <th>play_count</th>\n",
       "      <th>track_count</th>\n",
       "      <th>cover_lang</th>\n",
       "    </tr>\n",
       "  </thead>\n",
       "  <tbody>\n",
       "    <tr>\n",
       "      <th>0</th>\n",
       "      <td>FGtllVqz18RPiwJj/edr2gV78zirAiY/9SmYvia+kCg=</td>\n",
       "      <td>BBzumQNXUHKdEBOB7mAJuzok+IJA1c2Ryg/yzTF6tik=</td>\n",
       "      <td>explore</td>\n",
       "      <td>Explore</td>\n",
       "      <td>online-playlist</td>\n",
       "      <td>1</td>\n",
       "      <td>False</td>\n",
       "      <td>False</td>\n",
       "      <td>False</td>\n",
       "      <td>False</td>\n",
       "      <td>...</td>\n",
       "      <td>20171005</td>\n",
       "      <td>2103</td>\n",
       "      <td>2012</td>\n",
       "      <td>1</td>\n",
       "      <td>2017</td>\n",
       "      <td>10</td>\n",
       "      <td>True</td>\n",
       "      <td>215</td>\n",
       "      <td>84</td>\n",
       "      <td>1</td>\n",
       "    </tr>\n",
       "    <tr>\n",
       "      <th>1</th>\n",
       "      <td>Xumu+NIjS6QYVxDS4/t3SawvJ7viT9hPKXmf0RtLNx8=</td>\n",
       "      <td>bhp/MpSNoqoxOIB+/l8WPqu6jldth4DIpCm3ayXnJqM=</td>\n",
       "      <td>my library</td>\n",
       "      <td>Local playlist more</td>\n",
       "      <td>local-playlist</td>\n",
       "      <td>1</td>\n",
       "      <td>True</td>\n",
       "      <td>True</td>\n",
       "      <td>True</td>\n",
       "      <td>True</td>\n",
       "      <td>...</td>\n",
       "      <td>20170911</td>\n",
       "      <td>2301</td>\n",
       "      <td>2011</td>\n",
       "      <td>5</td>\n",
       "      <td>2017</td>\n",
       "      <td>9</td>\n",
       "      <td>True</td>\n",
       "      <td>1</td>\n",
       "      <td>17080</td>\n",
       "      <td>10</td>\n",
       "    </tr>\n",
       "    <tr>\n",
       "      <th>2</th>\n",
       "      <td>Xumu+NIjS6QYVxDS4/t3SawvJ7viT9hPKXmf0RtLNx8=</td>\n",
       "      <td>JNWfrrC7zNN7BdMpsISKa4Mw+xVJYNnxXh3/Epw7QgY=</td>\n",
       "      <td>my library</td>\n",
       "      <td>Local playlist more</td>\n",
       "      <td>local-playlist</td>\n",
       "      <td>1</td>\n",
       "      <td>True</td>\n",
       "      <td>True</td>\n",
       "      <td>True</td>\n",
       "      <td>True</td>\n",
       "      <td>...</td>\n",
       "      <td>20170911</td>\n",
       "      <td>2301</td>\n",
       "      <td>2011</td>\n",
       "      <td>5</td>\n",
       "      <td>2017</td>\n",
       "      <td>9</td>\n",
       "      <td>True</td>\n",
       "      <td>4</td>\n",
       "      <td>61</td>\n",
       "      <td>2</td>\n",
       "    </tr>\n",
       "    <tr>\n",
       "      <th>3</th>\n",
       "      <td>Xumu+NIjS6QYVxDS4/t3SawvJ7viT9hPKXmf0RtLNx8=</td>\n",
       "      <td>2A87tzfnJTSWqD7gIZHisolhe4DMdzkbd6LzO1KHjNs=</td>\n",
       "      <td>my library</td>\n",
       "      <td>Local playlist more</td>\n",
       "      <td>local-playlist</td>\n",
       "      <td>1</td>\n",
       "      <td>True</td>\n",
       "      <td>True</td>\n",
       "      <td>True</td>\n",
       "      <td>True</td>\n",
       "      <td>...</td>\n",
       "      <td>20170911</td>\n",
       "      <td>2301</td>\n",
       "      <td>2011</td>\n",
       "      <td>5</td>\n",
       "      <td>2017</td>\n",
       "      <td>9</td>\n",
       "      <td>True</td>\n",
       "      <td>1</td>\n",
       "      <td>1</td>\n",
       "      <td>1</td>\n",
       "    </tr>\n",
       "    <tr>\n",
       "      <th>4</th>\n",
       "      <td>FGtllVqz18RPiwJj/edr2gV78zirAiY/9SmYvia+kCg=</td>\n",
       "      <td>3qm6XTZ6MOCU11x8FIVbAGH5l5uMkT3/ZalWG1oo2Gc=</td>\n",
       "      <td>explore</td>\n",
       "      <td>Explore</td>\n",
       "      <td>online-playlist</td>\n",
       "      <td>1</td>\n",
       "      <td>False</td>\n",
       "      <td>False</td>\n",
       "      <td>False</td>\n",
       "      <td>False</td>\n",
       "      <td>...</td>\n",
       "      <td>20171005</td>\n",
       "      <td>2103</td>\n",
       "      <td>2012</td>\n",
       "      <td>1</td>\n",
       "      <td>2017</td>\n",
       "      <td>10</td>\n",
       "      <td>True</td>\n",
       "      <td>412</td>\n",
       "      <td>6</td>\n",
       "      <td>1</td>\n",
       "    </tr>\n",
       "    <tr>\n",
       "      <th>5</th>\n",
       "      <td>FGtllVqz18RPiwJj/edr2gV78zirAiY/9SmYvia+kCg=</td>\n",
       "      <td>3Hg5kugV1S0wzEVLAEfqjIV5UHzb7bCrdBRQlGygLvU=</td>\n",
       "      <td>explore</td>\n",
       "      <td>Explore</td>\n",
       "      <td>online-playlist</td>\n",
       "      <td>1</td>\n",
       "      <td>False</td>\n",
       "      <td>False</td>\n",
       "      <td>False</td>\n",
       "      <td>False</td>\n",
       "      <td>...</td>\n",
       "      <td>20171005</td>\n",
       "      <td>2103</td>\n",
       "      <td>2012</td>\n",
       "      <td>1</td>\n",
       "      <td>2017</td>\n",
       "      <td>10</td>\n",
       "      <td>True</td>\n",
       "      <td>1108</td>\n",
       "      <td>15</td>\n",
       "      <td>1</td>\n",
       "    </tr>\n",
       "    <tr>\n",
       "      <th>6</th>\n",
       "      <td>Xumu+NIjS6QYVxDS4/t3SawvJ7viT9hPKXmf0RtLNx8=</td>\n",
       "      <td>VkILU0H1h3NMmk9MQrXouNudGk5n8Ls5cqRRuBxeTh4=</td>\n",
       "      <td>my library</td>\n",
       "      <td>Local playlist more</td>\n",
       "      <td>local-playlist</td>\n",
       "      <td>1</td>\n",
       "      <td>True</td>\n",
       "      <td>True</td>\n",
       "      <td>True</td>\n",
       "      <td>True</td>\n",
       "      <td>...</td>\n",
       "      <td>20170911</td>\n",
       "      <td>2301</td>\n",
       "      <td>2011</td>\n",
       "      <td>5</td>\n",
       "      <td>2017</td>\n",
       "      <td>9</td>\n",
       "      <td>True</td>\n",
       "      <td>3869</td>\n",
       "      <td>43</td>\n",
       "      <td>1</td>\n",
       "    </tr>\n",
       "    <tr>\n",
       "      <th>7</th>\n",
       "      <td>FGtllVqz18RPiwJj/edr2gV78zirAiY/9SmYvia+kCg=</td>\n",
       "      <td>bPIvRTzfHxH5LgHrStll+tYwSQNVV8PySgA3M1PfTgc=</td>\n",
       "      <td>explore</td>\n",
       "      <td>Explore</td>\n",
       "      <td>online-playlist</td>\n",
       "      <td>1</td>\n",
       "      <td>False</td>\n",
       "      <td>False</td>\n",
       "      <td>False</td>\n",
       "      <td>False</td>\n",
       "      <td>...</td>\n",
       "      <td>20171005</td>\n",
       "      <td>2103</td>\n",
       "      <td>2012</td>\n",
       "      <td>1</td>\n",
       "      <td>2017</td>\n",
       "      <td>10</td>\n",
       "      <td>True</td>\n",
       "      <td>287</td>\n",
       "      <td>33</td>\n",
       "      <td>1</td>\n",
       "    </tr>\n",
       "    <tr>\n",
       "      <th>8</th>\n",
       "      <td>uHqAtShXTRXju5GE8ri3ITsVFepPf8jUoCF7ffNOuqE=</td>\n",
       "      <td>/bU6IRSK+YNlNbaTkxo7bhsb2EDLPrnksdX3ggcZNhI=</td>\n",
       "      <td>my library</td>\n",
       "      <td>Local playlist more</td>\n",
       "      <td>local-library</td>\n",
       "      <td>1</td>\n",
       "      <td>True</td>\n",
       "      <td>True</td>\n",
       "      <td>True</td>\n",
       "      <td>True</td>\n",
       "      <td>...</td>\n",
       "      <td>20180304</td>\n",
       "      <td>2309</td>\n",
       "      <td>2011</td>\n",
       "      <td>11</td>\n",
       "      <td>2018</td>\n",
       "      <td>3</td>\n",
       "      <td>True</td>\n",
       "      <td>31</td>\n",
       "      <td>155</td>\n",
       "      <td>2</td>\n",
       "    </tr>\n",
       "    <tr>\n",
       "      <th>9</th>\n",
       "      <td>uHqAtShXTRXju5GE8ri3ITsVFepPf8jUoCF7ffNOuqE=</td>\n",
       "      <td>EbI7xoNxI+3QSsiHxL13zBdgHIJOwa3srHd7cDcnJ0g=</td>\n",
       "      <td>my library</td>\n",
       "      <td>Local playlist more</td>\n",
       "      <td>local-library</td>\n",
       "      <td>1</td>\n",
       "      <td>True</td>\n",
       "      <td>True</td>\n",
       "      <td>True</td>\n",
       "      <td>True</td>\n",
       "      <td>...</td>\n",
       "      <td>20180304</td>\n",
       "      <td>2309</td>\n",
       "      <td>2011</td>\n",
       "      <td>11</td>\n",
       "      <td>2018</td>\n",
       "      <td>3</td>\n",
       "      <td>True</td>\n",
       "      <td>738</td>\n",
       "      <td>155</td>\n",
       "      <td>2</td>\n",
       "    </tr>\n",
       "    <tr>\n",
       "      <th>10</th>\n",
       "      <td>uHqAtShXTRXju5GE8ri3ITsVFepPf8jUoCF7ffNOuqE=</td>\n",
       "      <td>t0aT90DlS1TGncgnKoL0SvfAWEr3Dl72QBVcokmKfLc=</td>\n",
       "      <td>my library</td>\n",
       "      <td>Local playlist more</td>\n",
       "      <td>local-library</td>\n",
       "      <td>1</td>\n",
       "      <td>True</td>\n",
       "      <td>True</td>\n",
       "      <td>True</td>\n",
       "      <td>True</td>\n",
       "      <td>...</td>\n",
       "      <td>20180304</td>\n",
       "      <td>2309</td>\n",
       "      <td>2011</td>\n",
       "      <td>11</td>\n",
       "      <td>2018</td>\n",
       "      <td>3</td>\n",
       "      <td>True</td>\n",
       "      <td>2</td>\n",
       "      <td>62</td>\n",
       "      <td>2</td>\n",
       "    </tr>\n",
       "    <tr>\n",
       "      <th>11</th>\n",
       "      <td>uHqAtShXTRXju5GE8ri3ITsVFepPf8jUoCF7ffNOuqE=</td>\n",
       "      <td>8FGjC9W+7F8WjheGZPAwX9RH3+nWSO7DzjM6EB6naOI=</td>\n",
       "      <td>my library</td>\n",
       "      <td>Local playlist more</td>\n",
       "      <td>local-library</td>\n",
       "      <td>1</td>\n",
       "      <td>True</td>\n",
       "      <td>True</td>\n",
       "      <td>True</td>\n",
       "      <td>True</td>\n",
       "      <td>...</td>\n",
       "      <td>20180304</td>\n",
       "      <td>2309</td>\n",
       "      <td>2011</td>\n",
       "      <td>11</td>\n",
       "      <td>2018</td>\n",
       "      <td>3</td>\n",
       "      <td>True</td>\n",
       "      <td>875</td>\n",
       "      <td>88</td>\n",
       "      <td>1</td>\n",
       "    </tr>\n",
       "    <tr>\n",
       "      <th>12</th>\n",
       "      <td>TJU0Gfvy7FB+r89bWovPKXTjuApTCiv3xg/tt5shR78=</td>\n",
       "      <td>u6/Pb7X4u7KU4gXrBgGqt8RlRrNNFLn03tLAHyxRxwA=</td>\n",
       "      <td>my library</td>\n",
       "      <td>others</td>\n",
       "      <td>top-hits-for-artist</td>\n",
       "      <td>0</td>\n",
       "      <td>False</td>\n",
       "      <td>True</td>\n",
       "      <td>False</td>\n",
       "      <td>False</td>\n",
       "      <td>...</td>\n",
       "      <td>20170930</td>\n",
       "      <td>786</td>\n",
       "      <td>2015</td>\n",
       "      <td>8</td>\n",
       "      <td>2017</td>\n",
       "      <td>9</td>\n",
       "      <td>True</td>\n",
       "      <td>5740</td>\n",
       "      <td>277</td>\n",
       "      <td>3</td>\n",
       "    </tr>\n",
       "    <tr>\n",
       "      <th>13</th>\n",
       "      <td>3g0bC24RD7QUeALY1IF/e8L6X3fHG298ZFIsCEG9T9Y=</td>\n",
       "      <td>TYhx9eqWklddkLQlApQ5MS9jJCO4H3JHdpISZ3kZSRE=</td>\n",
       "      <td>my library</td>\n",
       "      <td>Local playlist more</td>\n",
       "      <td>local-library</td>\n",
       "      <td>1</td>\n",
       "      <td>True</td>\n",
       "      <td>True</td>\n",
       "      <td>True</td>\n",
       "      <td>True</td>\n",
       "      <td>...</td>\n",
       "      <td>20170922</td>\n",
       "      <td>2405</td>\n",
       "      <td>2011</td>\n",
       "      <td>2</td>\n",
       "      <td>2017</td>\n",
       "      <td>9</td>\n",
       "      <td>True</td>\n",
       "      <td>3251</td>\n",
       "      <td>341</td>\n",
       "      <td>1</td>\n",
       "    </tr>\n",
       "    <tr>\n",
       "      <th>14</th>\n",
       "      <td>TJU0Gfvy7FB+r89bWovPKXTjuApTCiv3xg/tt5shR78=</td>\n",
       "      <td>IgMar/mVrJQ+ODFPytDf7jwQMmR09+slyZUdVylRFLc=</td>\n",
       "      <td>my library</td>\n",
       "      <td>Local playlist more</td>\n",
       "      <td>local-playlist</td>\n",
       "      <td>1</td>\n",
       "      <td>True</td>\n",
       "      <td>True</td>\n",
       "      <td>True</td>\n",
       "      <td>True</td>\n",
       "      <td>...</td>\n",
       "      <td>20170930</td>\n",
       "      <td>786</td>\n",
       "      <td>2015</td>\n",
       "      <td>8</td>\n",
       "      <td>2017</td>\n",
       "      <td>9</td>\n",
       "      <td>True</td>\n",
       "      <td>6830</td>\n",
       "      <td>277</td>\n",
       "      <td>3</td>\n",
       "    </tr>\n",
       "  </tbody>\n",
       "</table>\n",
       "<p>15 rows × 38 columns</p>\n",
       "</div>"
      ],
      "text/plain": [
       "                                            msno  \\\n",
       "0   FGtllVqz18RPiwJj/edr2gV78zirAiY/9SmYvia+kCg=   \n",
       "1   Xumu+NIjS6QYVxDS4/t3SawvJ7viT9hPKXmf0RtLNx8=   \n",
       "2   Xumu+NIjS6QYVxDS4/t3SawvJ7viT9hPKXmf0RtLNx8=   \n",
       "3   Xumu+NIjS6QYVxDS4/t3SawvJ7viT9hPKXmf0RtLNx8=   \n",
       "4   FGtllVqz18RPiwJj/edr2gV78zirAiY/9SmYvia+kCg=   \n",
       "5   FGtllVqz18RPiwJj/edr2gV78zirAiY/9SmYvia+kCg=   \n",
       "6   Xumu+NIjS6QYVxDS4/t3SawvJ7viT9hPKXmf0RtLNx8=   \n",
       "7   FGtllVqz18RPiwJj/edr2gV78zirAiY/9SmYvia+kCg=   \n",
       "8   uHqAtShXTRXju5GE8ri3ITsVFepPf8jUoCF7ffNOuqE=   \n",
       "9   uHqAtShXTRXju5GE8ri3ITsVFepPf8jUoCF7ffNOuqE=   \n",
       "10  uHqAtShXTRXju5GE8ri3ITsVFepPf8jUoCF7ffNOuqE=   \n",
       "11  uHqAtShXTRXju5GE8ri3ITsVFepPf8jUoCF7ffNOuqE=   \n",
       "12  TJU0Gfvy7FB+r89bWovPKXTjuApTCiv3xg/tt5shR78=   \n",
       "13  3g0bC24RD7QUeALY1IF/e8L6X3fHG298ZFIsCEG9T9Y=   \n",
       "14  TJU0Gfvy7FB+r89bWovPKXTjuApTCiv3xg/tt5shR78=   \n",
       "\n",
       "                                         song_id source_system_tab  \\\n",
       "0   BBzumQNXUHKdEBOB7mAJuzok+IJA1c2Ryg/yzTF6tik=           explore   \n",
       "1   bhp/MpSNoqoxOIB+/l8WPqu6jldth4DIpCm3ayXnJqM=        my library   \n",
       "2   JNWfrrC7zNN7BdMpsISKa4Mw+xVJYNnxXh3/Epw7QgY=        my library   \n",
       "3   2A87tzfnJTSWqD7gIZHisolhe4DMdzkbd6LzO1KHjNs=        my library   \n",
       "4   3qm6XTZ6MOCU11x8FIVbAGH5l5uMkT3/ZalWG1oo2Gc=           explore   \n",
       "5   3Hg5kugV1S0wzEVLAEfqjIV5UHzb7bCrdBRQlGygLvU=           explore   \n",
       "6   VkILU0H1h3NMmk9MQrXouNudGk5n8Ls5cqRRuBxeTh4=        my library   \n",
       "7   bPIvRTzfHxH5LgHrStll+tYwSQNVV8PySgA3M1PfTgc=           explore   \n",
       "8   /bU6IRSK+YNlNbaTkxo7bhsb2EDLPrnksdX3ggcZNhI=        my library   \n",
       "9   EbI7xoNxI+3QSsiHxL13zBdgHIJOwa3srHd7cDcnJ0g=        my library   \n",
       "10  t0aT90DlS1TGncgnKoL0SvfAWEr3Dl72QBVcokmKfLc=        my library   \n",
       "11  8FGjC9W+7F8WjheGZPAwX9RH3+nWSO7DzjM6EB6naOI=        my library   \n",
       "12  u6/Pb7X4u7KU4gXrBgGqt8RlRrNNFLn03tLAHyxRxwA=        my library   \n",
       "13  TYhx9eqWklddkLQlApQ5MS9jJCO4H3JHdpISZ3kZSRE=        my library   \n",
       "14  IgMar/mVrJQ+ODFPytDf7jwQMmR09+slyZUdVylRFLc=        my library   \n",
       "\n",
       "     source_screen_name          source_type  target  1h_source  \\\n",
       "0               Explore      online-playlist       1      False   \n",
       "1   Local playlist more       local-playlist       1       True   \n",
       "2   Local playlist more       local-playlist       1       True   \n",
       "3   Local playlist more       local-playlist       1       True   \n",
       "4               Explore      online-playlist       1      False   \n",
       "5               Explore      online-playlist       1      False   \n",
       "6   Local playlist more       local-playlist       1       True   \n",
       "7               Explore      online-playlist       1      False   \n",
       "8   Local playlist more        local-library       1       True   \n",
       "9   Local playlist more        local-library       1       True   \n",
       "10  Local playlist more        local-library       1       True   \n",
       "11  Local playlist more        local-library       1       True   \n",
       "12               others  top-hits-for-artist       0      False   \n",
       "13  Local playlist more        local-library       1       True   \n",
       "14  Local playlist more       local-playlist       1       True   \n",
       "\n",
       "    1h_system_tab  1h_screen_name  1h_source_type     ...      \\\n",
       "0           False           False           False     ...       \n",
       "1            True            True            True     ...       \n",
       "2            True            True            True     ...       \n",
       "3            True            True            True     ...       \n",
       "4           False           False           False     ...       \n",
       "5           False           False           False     ...       \n",
       "6            True            True            True     ...       \n",
       "7           False           False           False     ...       \n",
       "8            True            True            True     ...       \n",
       "9            True            True            True     ...       \n",
       "10           True            True            True     ...       \n",
       "11           True            True            True     ...       \n",
       "12           True           False           False     ...       \n",
       "13           True            True            True     ...       \n",
       "14           True            True            True     ...       \n",
       "\n",
       "    expiration_date membership_days registration_init_year  \\\n",
       "0          20171005            2103                   2012   \n",
       "1          20170911            2301                   2011   \n",
       "2          20170911            2301                   2011   \n",
       "3          20170911            2301                   2011   \n",
       "4          20171005            2103                   2012   \n",
       "5          20171005            2103                   2012   \n",
       "6          20170911            2301                   2011   \n",
       "7          20171005            2103                   2012   \n",
       "8          20180304            2309                   2011   \n",
       "9          20180304            2309                   2011   \n",
       "10         20180304            2309                   2011   \n",
       "11         20180304            2309                   2011   \n",
       "12         20170930             786                   2015   \n",
       "13         20170922            2405                   2011   \n",
       "14         20170930             786                   2015   \n",
       "\n",
       "   registration_init_month expiration_date_year expiration_date_month  1h_via  \\\n",
       "0                        1                 2017                    10    True   \n",
       "1                        5                 2017                     9    True   \n",
       "2                        5                 2017                     9    True   \n",
       "3                        5                 2017                     9    True   \n",
       "4                        1                 2017                    10    True   \n",
       "5                        1                 2017                    10    True   \n",
       "6                        5                 2017                     9    True   \n",
       "7                        1                 2017                    10    True   \n",
       "8                       11                 2018                     3    True   \n",
       "9                       11                 2018                     3    True   \n",
       "10                      11                 2018                     3    True   \n",
       "11                      11                 2018                     3    True   \n",
       "12                       8                 2017                     9    True   \n",
       "13                       2                 2017                     9    True   \n",
       "14                       8                 2017                     9    True   \n",
       "\n",
       "    play_count  track_count  cover_lang  \n",
       "0          215           84           1  \n",
       "1            1        17080          10  \n",
       "2            4           61           2  \n",
       "3            1            1           1  \n",
       "4          412            6           1  \n",
       "5         1108           15           1  \n",
       "6         3869           43           1  \n",
       "7          287           33           1  \n",
       "8           31          155           2  \n",
       "9          738          155           2  \n",
       "10           2           62           2  \n",
       "11         875           88           1  \n",
       "12        5740          277           3  \n",
       "13        3251          341           1  \n",
       "14        6830          277           3  \n",
       "\n",
       "[15 rows x 38 columns]"
      ]
     },
     "execution_count": 11,
     "metadata": {},
     "output_type": "execute_result"
    }
   ],
   "source": [
    "x = train_df.drop(['target'], axis=1)\n",
    "y = train_df['target']\n",
    "\n",
    "# take the last # rows of train_df as valid set where # means number of rows in test_df\n",
    "x_valid = train_df.drop(['target'], axis=1).tail(test_df.shape[0])\n",
    "y_valid = train_df['target'].tail(test_df.shape[0])\n",
    "\n",
    "x_test = test_df.drop(['id'], axis=1)\n",
    "test_ids = test_df['id']\n",
    "\n",
    "train_df.head(15)"
   ]
  },
  {
   "cell_type": "markdown",
   "metadata": {},
   "source": [
    "## Core"
   ]
  },
  {
   "cell_type": "code",
   "execution_count": 12,
   "metadata": {
    "ExecuteTime": {
     "end_time": "2017-12-09T07:03:15.371780Z",
     "start_time": "2017-12-09T06:58:24.942033Z"
    },
    "scrolled": false
   },
   "outputs": [
    {
     "name": "stdout",
     "output_type": "stream",
     "text": [
      "[5]\tvalid_0's auc: 0.655746\tvalid_1's auc: 0.671129\n",
      "[10]\tvalid_0's auc: 0.663996\tvalid_1's auc: 0.682432\n",
      "[15]\tvalid_0's auc: 0.671678\tvalid_1's auc: 0.692873\n",
      "[20]\tvalid_0's auc: 0.675905\tvalid_1's auc: 0.699276\n",
      "[25]\tvalid_0's auc: 0.67894\tvalid_1's auc: 0.704082\n",
      "[30]\tvalid_0's auc: 0.681002\tvalid_1's auc: 0.707681\n",
      "[35]\tvalid_0's auc: 0.682257\tvalid_1's auc: 0.710232\n",
      "[40]\tvalid_0's auc: 0.683154\tvalid_1's auc: 0.712217\n",
      "[45]\tvalid_0's auc: 0.683856\tvalid_1's auc: 0.713822\n",
      "[50]\tvalid_0's auc: 0.684232\tvalid_1's auc: 0.715179\n",
      "[55]\tvalid_0's auc: 0.684462\tvalid_1's auc: 0.716102\n",
      "[60]\tvalid_0's auc: 0.684524\tvalid_1's auc: 0.717052\n",
      "[65]\tvalid_0's auc: 0.684856\tvalid_1's auc: 0.718065\n",
      "[70]\tvalid_0's auc: 0.685062\tvalid_1's auc: 0.719021\n",
      "[75]\tvalid_0's auc: 0.685027\tvalid_1's auc: 0.71952\n",
      "[80]\tvalid_0's auc: 0.685266\tvalid_1's auc: 0.720404\n",
      "[85]\tvalid_0's auc: 0.685486\tvalid_1's auc: 0.721074\n",
      "[90]\tvalid_0's auc: 0.685436\tvalid_1's auc: 0.721814\n",
      "[95]\tvalid_0's auc: 0.685471\tvalid_1's auc: 0.722347\n",
      "[100]\tvalid_0's auc: 0.685418\tvalid_1's auc: 0.722775\n",
      "defaultdict(<class 'dict'>, {'valid_0': {'auc': 0.68541809136406262}, 'valid_1': {'auc': 0.72277454653640583}})\n",
      "[CV] [0.72277454653640583]{ auc score=0.722774546536 }\n",
      "0.722774546536\n",
      "[5]\tvalid_0's auc: 0.695396\n",
      "[10]\tvalid_0's auc: 0.713885\n",
      "[15]\tvalid_0's auc: 0.730587\n",
      "[20]\tvalid_0's auc: 0.743135\n",
      "[25]\tvalid_0's auc: 0.752505\n",
      "[30]\tvalid_0's auc: 0.759204\n",
      "[35]\tvalid_0's auc: 0.764595\n",
      "[40]\tvalid_0's auc: 0.769545\n",
      "[45]\tvalid_0's auc: 0.774349\n",
      "[50]\tvalid_0's auc: 0.778072\n",
      "[55]\tvalid_0's auc: 0.78087\n",
      "[60]\tvalid_0's auc: 0.783699\n",
      "[65]\tvalid_0's auc: 0.785956\n",
      "[70]\tvalid_0's auc: 0.78834\n",
      "[75]\tvalid_0's auc: 0.790714\n",
      "[80]\tvalid_0's auc: 0.792613\n",
      "[85]\tvalid_0's auc: 0.79445\n",
      "[90]\tvalid_0's auc: 0.79594\n",
      "[95]\tvalid_0's auc: 0.797689\n",
      "[100]\tvalid_0's auc: 0.799697\n"
     ]
    }
   ],
   "source": [
    "train_set = lgb.Dataset(x, y)\n",
    "valid_set = lgb.Dataset(x_valid, y_valid, free_raw_data=False)\n",
    "watchlist = [valid_set]\n",
    "\n",
    "params = dict({\n",
    "    'learning_rate': 0.2,\n",
    "    'application': 'binary',\n",
    "    'min_data_in_leaf': 10,\n",
    "#    'max_depth': 10,\n",
    "    'num_leaves': 2 ** 7,\n",
    "    'max_bin': 255,\n",
    "    'verbosity': 0,\n",
    "    'metric': 'auc'\n",
    "})\n",
    "\n",
    "grid_params = {\n",
    "    'learning_rate': [0.1, 0.2],\n",
    "    'max_depth': [8, 10],\n",
    "}\n",
    "\n",
    "# best_grid_params = custom_grid_search(params, grid_params, train_set, hold_out_set, num_boost_round=20)\n",
    "# for key, val in best_grid_params.items():\n",
    "#     params[key] = best_grid_params[key]\n",
    "\n",
    "cv_score = custom_cv(params, train_set, valid_set, k_fold=4, num_boost_round=100)\n",
    "print(cv_score)\n",
    "\n",
    "model = lgb.train(params, train_set=train_set, valid_sets=watchlist, num_boost_round=100, verbose_eval=5)\n",
    "y_test = model.predict(x_test)\n",
    "\n",
    "# When CV, valid_0 means the front 75% training, the last 25% validating\n",
    "#          valid_1 means the front 75% training, the last \"len(test set)\" validating\n",
    "#\n",
    "# When LGBM running, valid_0 means 100% training, the last \"len(test set)\" validating.\n",
    "#\n",
    "# Use CV valid_0 auc score to predict result!"
   ]
  },
  {
   "cell_type": "markdown",
   "metadata": {},
   "source": [
    "## Feature importances"
   ]
  },
  {
   "cell_type": "code",
   "execution_count": 13,
   "metadata": {
    "ExecuteTime": {
     "end_time": "2017-12-09T07:03:15.834392Z",
     "start_time": "2017-12-09T07:03:15.377043Z"
    }
   },
   "outputs": [
    {
     "data": {
      "image/png": "[encoded data removed]",
      "text/plain": [
       "<matplotlib.figure.Figure at 0x7f4883c2d5c0>"
      ]
     },
     "metadata": {},
     "output_type": "display_data"
    }
   ],
   "source": [
    "plot_df = pd.DataFrame({'features': train_df.columns[train_df.columns != 'target'],\n",
    "                        'importances': model.feature_importance()})\n",
    "plot_df = plot_df.sort_values('importances', ascending=False)\n",
    "\n",
    "plt.figure(figsize=(8, 15))\n",
    "sns.barplot(x = plot_df.importances, y = plot_df.features)\n",
    "plt.show()"
   ]
  },
  {
   "cell_type": "markdown",
   "metadata": {},
   "source": [
    "## Output"
   ]
  },
  {
   "cell_type": "code",
   "execution_count": 14,
   "metadata": {
    "ExecuteTime": {
     "end_time": "2017-12-09T07:03:35.408237Z",
     "start_time": "2017-12-09T07:03:15.835940Z"
    }
   },
   "outputs": [
    {
     "name": "stdout",
     "output_type": "stream",
     "text": [
      "<class 'pandas.core.frame.DataFrame'>\n",
      "Int64Index: 2556790 entries, 0 to 2556789\n",
      "Data columns (total 2 columns):\n",
      "id        int64\n",
      "target    float64\n",
      "dtypes: float64(1), int64(1)\n",
      "memory usage: 58.5 MB\n"
     ]
    }
   ],
   "source": [
    "submission_df = pd.DataFrame()\n",
    "submission_df['id'] = test_ids\n",
    "submission_df['target'] = y_test\n",
    "# string file compression reduces file size\n",
    "submission_df.to_csv('data/submission.csv.gz', compression = 'gzip', index=False, float_format = '%.5f')\n",
    "submission_df.info()"
   ]
  },
  {
   "cell_type": "code",
   "execution_count": null,
   "metadata": {
    "collapsed": true
   },
   "outputs": [],
   "source": []
  }
 ],
 "metadata": {
  "kernelspec": {
   "display_name": "Python 3",
   "language": "python",
   "name": "python3"
  },
  "language_info": {
   "codemirror_mode": {
    "name": "ipython",
    "version": 3
   },
   "file_extension": ".py",
   "mimetype": "text/x-python",
   "name": "python",
   "nbconvert_exporter": "python",
   "pygments_lexer": "ipython3",
   "version": "3.6.3"
  },
  "toc": {
   "nav_menu": {},
   "number_sections": true,
   "sideBar": true,
   "skip_h1_title": false,
   "toc_cell": false,
   "toc_position": {
    "height": "929px",
    "left": "0px",
    "right": "1122px",
    "top": "107px",
    "width": "294px"
   },
   "toc_section_display": "block",
   "toc_window_display": true
  },
  "varInspector": {
   "cols": {
    "lenName": 16,
    "lenType": 16,
    "lenVar": 40
   },
   "kernels_config": {
    "python": {
     "delete_cmd_postfix": "",
     "delete_cmd_prefix": "del ",
     "library": "var_list.py",
     "varRefreshCmd": "print(var_dic_list())"
    },
    "r": {
     "delete_cmd_postfix": ") ",
     "delete_cmd_prefix": "rm(",
     "library": "var_list.r",
     "varRefreshCmd": "cat(var_dic_list()) "
    }
   },
   "oldHeight": 122,
   "position": {
    "height": "40px",
    "left": "1064px",
    "right": "20px",
    "top": "120px",
    "width": "250px"
   },
   "types_to_exclude": [
    "module",
    "function",
    "builtin_function_or_method",
    "instance",
    "_Feature"
   ],
   "varInspector_section_display": "none",
   "window_display": false
  }
 },
 "nbformat": 4,
 "nbformat_minor": 2
}
