{
 "cells": [
  {
   "cell_type": "code",
   "execution_count": 1,
   "metadata": {
    "ExecuteTime": {
     "end_time": "2017-12-09T06:10:49.206924Z",
     "start_time": "2017-12-09T06:10:48.596106Z"
    },
    "collapsed": true,
    "slideshow": {
     "slide_type": "notes"
    }
   },
   "outputs": [],
   "source": [
    "import seaborn as sns\n",
    "import pandas as pd\n",
    "import numpy as np\n",
    "import matplotlib.pyplot as plt\n",
    "\n",
    "DATA_DIRECTORY_PATH = '../data/'"
   ]
  },
  {
   "cell_type": "markdown",
   "metadata": {
    "toc": true
   },
   "source": [
    "<h1>Table of Contents<span class=\"tocSkip\"></span></h1>\n",
    "<div class=\"toc\" style=\"margin-top: 1em;\"><ul class=\"toc-item\"><li><span><a href=\"#Preface\" data-toc-modified-id=\"Preface-1\"><span class=\"toc-item-num\">1&nbsp;&nbsp;</span>Preface</a></span></li><li><span><a href=\"#Train-&amp;-Test\" data-toc-modified-id=\"Train-&amp;-Test-2\"><span class=\"toc-item-num\">2&nbsp;&nbsp;</span>Train &amp; Test</a></span><ul class=\"toc-item\"><li><span><a href=\"#msno-(users)\" data-toc-modified-id=\"msno-(users)-2.1\"><span class=\"toc-item-num\">2.1&nbsp;&nbsp;</span>msno (users)</a></span></li><li><span><a href=\"#song\" data-toc-modified-id=\"song-2.2\"><span class=\"toc-item-num\">2.2&nbsp;&nbsp;</span>song</a></span></li><li><span><a href=\"#song-contained-in-train,-test\" data-toc-modified-id=\"song-contained-in-train,-test-2.3\"><span class=\"toc-item-num\">2.3&nbsp;&nbsp;</span>song contained in train, test</a></span></li><li><span><a href=\"#msno-contained-in-train,-test\" data-toc-modified-id=\"msno-contained-in-train,-test-2.4\"><span class=\"toc-item-num\">2.4&nbsp;&nbsp;</span>msno contained in train, test</a></span></li><li><span><a href=\"#sources-(system_tab,-screen_name,-source_type)\" data-toc-modified-id=\"sources-(system_tab,-screen_name,-source_type)-2.5\"><span class=\"toc-item-num\">2.5&nbsp;&nbsp;</span>sources (system_tab, screen_name, source_type)</a></span></li><li><span><a href=\"#conclusion\" data-toc-modified-id=\"conclusion-2.6\"><span class=\"toc-item-num\">2.6&nbsp;&nbsp;</span>conclusion</a></span></li></ul></li></ul></div>"
   ]
  },
  {
   "cell_type": "markdown",
   "metadata": {},
   "source": [
    "<a id='chapter_preface'></a>\n",
    "# Preface"
   ]
  },
  {
   "cell_type": "code",
   "execution_count": 2,
   "metadata": {
    "ExecuteTime": {
     "end_time": "2017-12-09T06:11:26.985625Z",
     "start_time": "2017-12-09T06:10:49.208346Z"
    }
   },
   "outputs": [],
   "source": [
    "train_df = pd.read_csv(DATA_DIRECTORY_PATH + 'train.csv')\n",
    "test_df = pd.read_csv(DATA_DIRECTORY_PATH + 'test.csv')\n",
    "comb_df = train_df.append(test_df)\n",
    "members_df = pd.read_csv(DATA_DIRECTORY_PATH + 'members.csv')\n",
    "songs_df = pd.read_csv(DATA_DIRECTORY_PATH + 'songs.csv')\n",
    "song_extra_info_df = pd.read_csv(DATA_DIRECTORY_PATH + 'song_extra_info.csv')\n",
    "\n",
    "songs_df = songs_df.merge(song_extra_info_df, on='song_id', how='left')\n",
    "\n",
    "train_df = train_df.merge(songs_df, on='song_id', how='left')\n",
    "test_df = test_df.merge(songs_df, on='song_id', how='left')\n",
    "\n",
    "train_df = train_df.merge(members_df, on='msno', how='left')\n",
    "test_df = test_df.merge(members_df, on='msno', how='left')\n",
    "\n",
    "# fill missing data to visualize\n",
    "train_df.fillna('nan', inplace=True)\n",
    "test_df.fillna('nan', inplace=True)"
   ]
  },
  {
   "cell_type": "code",
   "execution_count": 3,
   "metadata": {
    "ExecuteTime": {
     "end_time": "2017-12-09T06:11:27.150481Z",
     "start_time": "2017-12-09T06:11:26.987013Z"
    }
   },
   "outputs": [
    {
     "data": {
      "image/png": "[encoded data removed]",
      "text/plain": [
       "<matplotlib.figure.Figure at 0x7fab6c9cde80>"
      ]
     },
     "metadata": {},
     "output_type": "display_data"
    },
    {
     "data": {
      "text/html": [
       "<div>\n",
       "<style>\n",
       "    .dataframe thead tr:only-child th {\n",
       "        text-align: right;\n",
       "    }\n",
       "\n",
       "    .dataframe thead th {\n",
       "        text-align: left;\n",
       "    }\n",
       "\n",
       "    .dataframe tbody tr th {\n",
       "        vertical-align: top;\n",
       "    }\n",
       "</style>\n",
       "<table border=\"1\" class=\"dataframe\">\n",
       "  <thead>\n",
       "    <tr style=\"text-align: right;\">\n",
       "      <th></th>\n",
       "      <th>count</th>\n",
       "      <th>source</th>\n",
       "      <th>type</th>\n",
       "    </tr>\n",
       "  </thead>\n",
       "  <tbody>\n",
       "    <tr>\n",
       "      <th>0</th>\n",
       "      <td>7377418</td>\n",
       "      <td>train</td>\n",
       "      <td>total</td>\n",
       "    </tr>\n",
       "    <tr>\n",
       "      <th>1</th>\n",
       "      <td>2556790</td>\n",
       "      <td>test</td>\n",
       "      <td>total</td>\n",
       "    </tr>\n",
       "    <tr>\n",
       "      <th>2</th>\n",
       "      <td>9934208</td>\n",
       "      <td>train + test</td>\n",
       "      <td>total</td>\n",
       "    </tr>\n",
       "  </tbody>\n",
       "</table>\n",
       "</div>"
      ],
      "text/plain": [
       "     count        source   type\n",
       "0  7377418         train  total\n",
       "1  2556790          test  total\n",
       "2  9934208  train + test  total"
      ]
     },
     "execution_count": 3,
     "metadata": {},
     "output_type": "execute_result"
    }
   ],
   "source": [
    "total_row_df = pd.DataFrame(data={\n",
    "    'source': ['train', 'test', 'train + test'],\n",
    "    'type': ['total', 'total', 'total'],\n",
    "    'count': [train_df.shape[0],\n",
    "              test_df.shape[0],\n",
    "              comb_df.shape[0]]\n",
    "})\n",
    "sns.barplot(x='count', y='source', hue='type', data=total_row_df)\n",
    "plt.show()\n",
    "\n",
    "total_row_df"
   ]
  },
  {
   "cell_type": "markdown",
   "metadata": {},
   "source": [
    "- **train set** has **7377418 rows**.\n",
    "- **test set** has **2556790 rows**.\n",
    "- **(train + test) set** has **9934208 rows**."
   ]
  },
  {
   "cell_type": "markdown",
   "metadata": {},
   "source": [
    "<a id='chapter_train_test'></a>\n",
    "# Train & Test"
   ]
  },
  {
   "cell_type": "markdown",
   "metadata": {},
   "source": [
    "At first, we focus on the basic data; i.e., train set and test set."
   ]
  },
  {
   "cell_type": "markdown",
   "metadata": {},
   "source": [
    "<a id=\"section_msno\"></a>\n",
    "## msno (users)"
   ]
  },
  {
   "cell_type": "code",
   "execution_count": 4,
   "metadata": {
    "ExecuteTime": {
     "end_time": "2017-12-09T06:11:28.830777Z",
     "start_time": "2017-12-09T06:11:27.152014Z"
    }
   },
   "outputs": [
    {
     "data": {
      "image/png": "[encoded data removed]",
      "text/plain": [
       "<matplotlib.figure.Figure at 0x7fab336052e8>"
      ]
     },
     "metadata": {},
     "output_type": "display_data"
    },
    {
     "name": "stdout",
     "output_type": "stream",
     "text": [
      "0.42% unique users are contained in train set\n",
      "0.98% unique users are contained in test set\n",
      "0.35% unique users are contained in (train + test) set\n"
     ]
    },
    {
     "data": {
      "text/html": [
       "<div>\n",
       "<style>\n",
       "    .dataframe thead tr:only-child th {\n",
       "        text-align: right;\n",
       "    }\n",
       "\n",
       "    .dataframe thead th {\n",
       "        text-align: left;\n",
       "    }\n",
       "\n",
       "    .dataframe tbody tr th {\n",
       "        vertical-align: top;\n",
       "    }\n",
       "</style>\n",
       "<table border=\"1\" class=\"dataframe\">\n",
       "  <thead>\n",
       "    <tr style=\"text-align: right;\">\n",
       "      <th></th>\n",
       "      <th>count</th>\n",
       "      <th>source</th>\n",
       "      <th>type</th>\n",
       "    </tr>\n",
       "  </thead>\n",
       "  <tbody>\n",
       "    <tr>\n",
       "      <th>0</th>\n",
       "      <td>30755</td>\n",
       "      <td>train</td>\n",
       "      <td>unique</td>\n",
       "    </tr>\n",
       "    <tr>\n",
       "      <th>1</th>\n",
       "      <td>25131</td>\n",
       "      <td>test</td>\n",
       "      <td>unique</td>\n",
       "    </tr>\n",
       "    <tr>\n",
       "      <th>2</th>\n",
       "      <td>34403</td>\n",
       "      <td>train + test</td>\n",
       "      <td>unique</td>\n",
       "    </tr>\n",
       "  </tbody>\n",
       "</table>\n",
       "</div>"
      ],
      "text/plain": [
       "   count        source    type\n",
       "0  30755         train  unique\n",
       "1  25131          test  unique\n",
       "2  34403  train + test  unique"
      ]
     },
     "execution_count": 4,
     "metadata": {},
     "output_type": "execute_result"
    }
   ],
   "source": [
    "train_unique_msno_series = train_df['msno'].drop_duplicates()\n",
    "test_unique_msno_series = test_df['msno'].drop_duplicates()\n",
    "comb_unique_msno_series = comb_df['msno'].drop_duplicates()\n",
    "\n",
    "msno_unique_df = pd.DataFrame(data={\n",
    "    'source': ['train', 'test', 'train + test'],\n",
    "    'type': ['unique', 'unique', 'unique'],\n",
    "    'count': [len(train_unique_msno_series),\n",
    "              len(test_unique_msno_series),\n",
    "              len(comb_unique_msno_series)]\n",
    "})\n",
    "sns.barplot(x='count', y='source', hue='type', data=msno_unique_df)\n",
    "plt.show()\n",
    "\n",
    "print('%.2f%% unique users are contained in train set' % (len(train_unique_msno_series) / train_df.shape[0] * 100))\n",
    "print('%.2f%% unique users are contained in test set' % (len(test_unique_msno_series) / test_df.shape[0] * 100))\n",
    "print('%.2f%% unique users are contained in (train + test) set' % (len(comb_unique_msno_series) / comb_df.shape[0] * 100))\n",
    "msno_unique_df"
   ]
  },
  {
   "cell_type": "markdown",
   "metadata": {},
   "source": [
    "- **train set** has **7377418 rows** and has only **30755 unique** users. Each user contributes **238 rows in average**.\n",
    "- **test set** has **2556790 rows** and has only **25131 unique** users. Each user contributes **102 rows in average**.\n",
    "- **(train + test) set** has **9934208 rows** and has only **34403 unique** users.\n",
    "- **9272 unique** users are contained in **(train \\ test) set**.\n",
    "- **3648 unique** users are contained in **(test \\ train) set**.\n",
    "\n",
    "3648 / 25131 = **14.5% of users** in test set which not shown in train set."
   ]
  },
  {
   "cell_type": "code",
   "execution_count": 5,
   "metadata": {
    "ExecuteTime": {
     "end_time": "2017-12-09T06:11:39.438599Z",
     "start_time": "2017-12-09T06:11:28.831886Z"
    },
    "scrolled": true
   },
   "outputs": [
    {
     "name": "stdout",
     "output_type": "stream",
     "text": [
      "431857 rows are contained in train set but not contained in test set\n",
      "184018 rows are contained in test set but not contained in train set\n"
     ]
    }
   ],
   "source": [
    "train_minus_test_by_msno_df = train_df[~train_df['msno'].isin(test_unique_msno_series)]\n",
    "test_minus_train_by_msno_df = test_df[~test_df['msno'].isin(train_unique_msno_series)]\n",
    "\n",
    "print('%d rows are contained in train set but not contained in test set' % len(train_minus_test_by_msno_df))\n",
    "print('%d rows are contained in test set but not contained in train set' % len(test_minus_train_by_msno_df))"
   ]
  },
  {
   "cell_type": "markdown",
   "metadata": {},
   "source": [
    "184018 / 2556790 = **7.2% of msno rows** in test set which not shown in train set."
   ]
  },
  {
   "cell_type": "markdown",
   "metadata": {},
   "source": [
    "<a id='section_song'></a>\n",
    "## song"
   ]
  },
  {
   "cell_type": "code",
   "execution_count": 6,
   "metadata": {
    "ExecuteTime": {
     "end_time": "2017-12-09T06:11:41.350816Z",
     "start_time": "2017-12-09T06:11:39.439749Z"
    }
   },
   "outputs": [
    {
     "data": {
      "image/png": "[encoded data removed]",
      "text/plain": [
       "<matplotlib.figure.Figure at 0x7fab004fcb38>"
      ]
     },
     "metadata": {},
     "output_type": "display_data"
    },
    {
     "name": "stdout",
     "output_type": "stream",
     "text": [
      "4.88% unique songs are contained in train set\n",
      "8.79% unique songs are contained in test set\n",
      "4.23% unique songs are contained in (train + test) set\n"
     ]
    },
    {
     "data": {
      "text/html": [
       "<div>\n",
       "<style>\n",
       "    .dataframe thead tr:only-child th {\n",
       "        text-align: right;\n",
       "    }\n",
       "\n",
       "    .dataframe thead th {\n",
       "        text-align: left;\n",
       "    }\n",
       "\n",
       "    .dataframe tbody tr th {\n",
       "        vertical-align: top;\n",
       "    }\n",
       "</style>\n",
       "<table border=\"1\" class=\"dataframe\">\n",
       "  <thead>\n",
       "    <tr style=\"text-align: right;\">\n",
       "      <th></th>\n",
       "      <th>count</th>\n",
       "      <th>source</th>\n",
       "      <th>type</th>\n",
       "    </tr>\n",
       "  </thead>\n",
       "  <tbody>\n",
       "    <tr>\n",
       "      <th>0</th>\n",
       "      <td>359966</td>\n",
       "      <td>train</td>\n",
       "      <td>unique</td>\n",
       "    </tr>\n",
       "    <tr>\n",
       "      <th>1</th>\n",
       "      <td>224753</td>\n",
       "      <td>test</td>\n",
       "      <td>unique</td>\n",
       "    </tr>\n",
       "    <tr>\n",
       "      <th>2</th>\n",
       "      <td>419839</td>\n",
       "      <td>train + test</td>\n",
       "      <td>unique</td>\n",
       "    </tr>\n",
       "  </tbody>\n",
       "</table>\n",
       "</div>"
      ],
      "text/plain": [
       "    count        source    type\n",
       "0  359966         train  unique\n",
       "1  224753          test  unique\n",
       "2  419839  train + test  unique"
      ]
     },
     "execution_count": 6,
     "metadata": {},
     "output_type": "execute_result"
    }
   ],
   "source": [
    "train_unique_song_series = train_df['song_id'].drop_duplicates()\n",
    "test_unique_song_series = test_df['song_id'].drop_duplicates()\n",
    "comb_unique_song_series = comb_df['song_id'].drop_duplicates()\n",
    "\n",
    "song_unique_df = pd.DataFrame(data={\n",
    "    'source': ['train', 'test', 'train + test'],\n",
    "    'type': ['unique', 'unique', 'unique'],\n",
    "    'count': [len(train_unique_song_series),\n",
    "              len(test_unique_song_series),\n",
    "              len(comb_unique_song_series)]\n",
    "})\n",
    "sns.barplot(x='count', y='source', hue='type', data=song_unique_df)\n",
    "plt.show()\n",
    "\n",
    "print('%.2f%% unique songs are contained in train set' % (len(train_unique_song_series) / train_df.shape[0] * 100))\n",
    "print('%.2f%% unique songs are contained in test set' % (len(test_unique_song_series) / test_df.shape[0] * 100))\n",
    "print('%.2f%% unique songs are contained in (train + test) set' % (len(comb_unique_song_series) / comb_df.shape[0] * 100))\n",
    "song_unique_df"
   ]
  },
  {
   "cell_type": "markdown",
   "metadata": {},
   "source": [
    "- **train set** has **7377418 rows** and has only **359966 unique** songs. Each song contributes **20 rows in average**.\n",
    "- **test set** has **2556790 rows** and has only **224753 unique** songs. Each song contributes **11 rows in average**.\n",
    "- **(train + test) set** has **9934208 rows** and has only **419839 unique** songs.\n",
    "- **195086 unique** songs are contained in **(train \\ test) set**.\n",
    "- **59873 unique** songs are contained in **(test \\ train) set**.\n",
    "\n",
    "59873 / 224753 = **26.6% of songs** in test set which not shown in train set."
   ]
  },
  {
   "cell_type": "code",
   "execution_count": 7,
   "metadata": {
    "ExecuteTime": {
     "end_time": "2017-12-09T06:11:58.751415Z",
     "start_time": "2017-12-09T06:11:41.351938Z"
    }
   },
   "outputs": [
    {
     "name": "stdout",
     "output_type": "stream",
     "text": [
      "342793 rows are contained in train set but not contained in test set\n",
      "320125 rows are contained in test set but not contained in train set\n"
     ]
    }
   ],
   "source": [
    "train_minus_test_by_song_df = train_df[~train_df['song_id'].isin(test_unique_song_series)]\n",
    "test_minus_train_by_song_df = test_df[~test_df['song_id'].isin(train_unique_song_series)]\n",
    "\n",
    "print('%d rows are contained in train set but not contained in test set' % len(train_minus_test_by_song_df))\n",
    "print('%d rows are contained in test set but not contained in train set' % len(test_minus_train_by_song_df))"
   ]
  },
  {
   "cell_type": "markdown",
   "metadata": {},
   "source": [
    "320125  / 2556790 = **12.5% of song rows** in test set which not shown in train set."
   ]
  },
  {
   "cell_type": "markdown",
   "metadata": {
    "ExecuteTime": {
     "end_time": "2017-12-09T06:05:58.332752Z",
     "start_time": "2017-12-09T06:05:58.329297Z"
    }
   },
   "source": [
    "## song contained in train, test"
   ]
  },
  {
   "cell_type": "code",
   "execution_count": 8,
   "metadata": {
    "ExecuteTime": {
     "end_time": "2017-12-09T06:12:00.822402Z",
     "start_time": "2017-12-09T06:11:58.752780Z"
    }
   },
   "outputs": [
    {
     "name": "stdout",
     "output_type": "stream",
     "text": [
      "52\n",
      "14\n",
      "0.014445808770828357\n",
      "0.006229060346246769\n"
     ]
    }
   ],
   "source": [
    "train_unique_set = set(train_df['song_id'].unique())\n",
    "test_unique_set = set(test_df['song_id'].unique())\n",
    "song_unique_set = set(songs_df['song_id'].unique())\n",
    "\n",
    "print(len(train_unique_set - song_unique_set))\n",
    "print(len(test_unique_set - song_unique_set))\n",
    "\n",
    "print(len(train_unique_set - song_unique_set) / len(train_unique_set) * 100)\n",
    "print(len(test_unique_set - song_unique_set) / len(test_unique_set) * 100)"
   ]
  },
  {
   "cell_type": "markdown",
   "metadata": {},
   "source": [
    "## msno contained in train, test"
   ]
  },
  {
   "cell_type": "code",
   "execution_count": 15,
   "metadata": {
    "ExecuteTime": {
     "end_time": "2017-12-09T06:12:25.579700Z",
     "start_time": "2017-12-09T06:12:24.719011Z"
    }
   },
   "outputs": [
    {
     "name": "stdout",
     "output_type": "stream",
     "text": [
      "0\n",
      "0\n",
      "0.0\n",
      "0.0\n"
     ]
    }
   ],
   "source": [
    "train_unique_set = set(train_df['msno'].unique())\n",
    "test_unique_set = set(test_df['msno'].unique())\n",
    "msno_unique_set = set(members_df['msno'].unique())\n",
    "\n",
    "print(len(train_unique_set - msno_unique_set))\n",
    "print(len(test_unique_set - msno_unique_set))\n",
    "\n",
    "print(len(train_unique_set - msno_unique_set) / len(train_unique_set) * 100)\n",
    "print(len(test_unique_set - msno_unique_set) / len(test_unique_set) * 100)"
   ]
  },
  {
   "cell_type": "markdown",
   "metadata": {},
   "source": [
    "<a id='section_sources'></a>\n",
    "## sources (system_tab, screen_name, source_type)"
   ]
  },
  {
   "cell_type": "code",
   "execution_count": 9,
   "metadata": {
    "ExecuteTime": {
     "end_time": "2017-12-09T06:12:00.829436Z",
     "start_time": "2017-12-09T06:12:00.823748Z"
    },
    "collapsed": true
   },
   "outputs": [],
   "source": [
    "def target_count_plot(column):\n",
    "    print(sorted(list(train_df[column].unique())))\n",
    "    print(len(list(train_df[column].unique())))\n",
    "    print(sorted(list(test_df[column].unique())))\n",
    "    print(len(list(test_df[column].unique())))\n",
    "    sns.countplot(y=column, hue='target', data=train_df, order=train_df[column].value_counts().index)\n",
    "    plt.show()"
   ]
  },
  {
   "cell_type": "code",
   "execution_count": 10,
   "metadata": {
    "ExecuteTime": {
     "end_time": "2017-12-09T06:12:03.572216Z",
     "start_time": "2017-12-09T06:12:00.830597Z"
    }
   },
   "outputs": [
    {
     "name": "stdout",
     "output_type": "stream",
     "text": [
      "['discover', 'explore', 'listen with', 'my library', 'nan', 'notification', 'null', 'radio', 'search', 'settings']\n",
      "10\n",
      "['discover', 'explore', 'listen with', 'my library', 'nan', 'notification', 'null', 'radio', 'search', 'settings']\n",
      "10\n"
     ]
    },
    {
     "data": {
      "image/png": "[encoded data removed]",
      "text/plain": [
       "<matplotlib.figure.Figure at 0x7fab335cbe48>"
      ]
     },
     "metadata": {},
     "output_type": "display_data"
    }
   ],
   "source": [
    "target_count_plot('source_system_tab')"
   ]
  },
  {
   "cell_type": "markdown",
   "metadata": {},
   "source": [
    "A user at **'my library' tab** seems to be more chance to listen a song again.\n",
    "\n",
    "There are **'null'** and **nan** value. Are they could be considered as the same tab? \n",
    "Here, their distribuion are similar with each other, and the occurances are low. So we treat them as the same tab."
   ]
  },
  {
   "cell_type": "code",
   "execution_count": 11,
   "metadata": {
    "ExecuteTime": {
     "end_time": "2017-12-09T06:12:06.426133Z",
     "start_time": "2017-12-09T06:12:03.575147Z"
    }
   },
   "outputs": [
    {
     "name": "stdout",
     "output_type": "stream",
     "text": [
      "['Album more', 'Artist more', 'Concert', 'Discover Chart', 'Discover Feature', 'Discover Genre', 'Discover New', 'Explore', 'Local playlist more', 'My library', 'My library_Search', 'Online playlist more', 'Others profile more', 'Payment', 'Radio', 'Search', 'Search Home', 'Search Trends', 'Self profile more', 'Unknown', 'nan']\n",
      "21\n",
      "['Album more', 'Artist more', 'Concert', 'Discover Chart', 'Discover Feature', 'Discover Genre', 'Discover New', 'Explore', 'Local playlist more', 'My library', 'My library_Search', 'Online playlist more', 'Others profile more', 'Payment', 'People global', 'People local', 'Radio', 'Search', 'Search Home', 'Search Trends', 'Self profile more', 'Unknown', 'nan']\n",
      "23\n"
     ]
    },
    {
     "data": {
      "image/png": "[encoded data removed]",
      "text/plain": [
       "<matplotlib.figure.Figure at 0x7fab004bca20>"
      ]
     },
     "metadata": {},
     "output_type": "display_data"
    }
   ],
   "source": [
    "target_count_plot('source_screen_name')"
   ]
  },
  {
   "cell_type": "markdown",
   "metadata": {},
   "source": [
    "A user at **'Local playlist more'** and **'My library'** seem to be more chance to listen a song again.\n",
    "\n",
    "There are **nan** and **Unknown** value. Are they could be considered as the same screen name?\n",
    "It seems that <font color='red'>missing data occur often</font>; however, target distribution is also almost the same.\n",
    "\n",
    "**test set** has **'People global', 'People local'** screen names which are not shown in **train set**."
   ]
  },
  {
   "cell_type": "code",
   "execution_count": 12,
   "metadata": {
    "ExecuteTime": {
     "end_time": "2017-12-09T06:12:09.075243Z",
     "start_time": "2017-12-09T06:12:06.427424Z"
    }
   },
   "outputs": [
    {
     "name": "stdout",
     "output_type": "stream",
     "text": [
      "['album', 'artist', 'listen-with', 'local-library', 'local-playlist', 'my-daily-playlist', 'nan', 'online-playlist', 'radio', 'song', 'song-based-playlist', 'top-hits-for-artist', 'topic-article-playlist']\n",
      "13\n",
      "['album', 'artist', 'listen-with', 'local-library', 'local-playlist', 'my-daily-playlist', 'nan', 'online-playlist', 'radio', 'song', 'song-based-playlist', 'top-hits-for-artist', 'topic-article-playlist']\n",
      "13\n"
     ]
    },
    {
     "data": {
      "image/png": "[encoded data removed]",
      "text/plain": [
       "<matplotlib.figure.Figure at 0x7faafefadfd0>"
      ]
     },
     "metadata": {},
     "output_type": "display_data"
    }
   ],
   "source": [
    "target_count_plot('source_type')"
   ]
  },
  {
   "cell_type": "markdown",
   "metadata": {},
   "source": [
    "A user at **'local-library'** seems to be more chance to listen a song again.\n",
    "\n",
    "The top 3 occurances are **local-library**, **online-playlist**, **local-playlist**.\n",
    "\n",
    "There are **nan** value. It appears really small almost the same as **artist**, **topic-article-playlist**, **my-daily-playlist**."
   ]
  },
  {
   "cell_type": "code",
   "execution_count": 13,
   "metadata": {
    "ExecuteTime": {
     "end_time": "2017-12-09T06:12:17.087576Z",
     "start_time": "2017-12-09T06:12:09.076620Z"
    }
   },
   "outputs": [
    {
     "data": {
      "image/png": "[encoded data removed]",
      "text/plain": [
       "<matplotlib.figure.Figure at 0x7faafeeabe48>"
      ]
     },
     "metadata": {},
     "output_type": "display_data"
    }
   ],
   "source": [
    "train_df['source_merged'] = train_df['source_system_tab'].map(str) + ' | ' + train_df['source_screen_name'].map(str) + ' | ' + train_df['source_type'].map(str) \n",
    "sns.countplot(y='source_merged', hue='target', data=train_df, order=train_df['source_merged'].value_counts().iloc[:20].index)\n",
    "plt.show()"
   ]
  },
  {
   "cell_type": "code",
   "execution_count": 14,
   "metadata": {
    "ExecuteTime": {
     "end_time": "2017-12-09T06:12:19.538848Z",
     "start_time": "2017-12-09T06:12:17.088625Z"
    }
   },
   "outputs": [
    {
     "data": {
      "text/html": [
       "<div>\n",
       "<style>\n",
       "    .dataframe thead tr:only-child th {\n",
       "        text-align: right;\n",
       "    }\n",
       "\n",
       "    .dataframe thead th {\n",
       "        text-align: left;\n",
       "    }\n",
       "\n",
       "    .dataframe tbody tr th {\n",
       "        vertical-align: top;\n",
       "    }\n",
       "</style>\n",
       "<table border=\"1\" class=\"dataframe\">\n",
       "  <thead>\n",
       "    <tr style=\"text-align: right;\">\n",
       "      <th></th>\n",
       "      <th>source_merged</th>\n",
       "      <th>source_replay_pb</th>\n",
       "      <th>source_replay_count</th>\n",
       "    </tr>\n",
       "  </thead>\n",
       "  <tbody>\n",
       "    <tr>\n",
       "      <th>373</th>\n",
       "      <td>null | Discover Chart | local-library</td>\n",
       "      <td>1.0</td>\n",
       "      <td>4</td>\n",
       "    </tr>\n",
       "    <tr>\n",
       "      <th>176</th>\n",
       "      <td>listen with | Artist more | album</td>\n",
       "      <td>1.0</td>\n",
       "      <td>2</td>\n",
       "    </tr>\n",
       "    <tr>\n",
       "      <th>385</th>\n",
       "      <td>null | Explore | top-hits-for-artist</td>\n",
       "      <td>1.0</td>\n",
       "      <td>8</td>\n",
       "    </tr>\n",
       "    <tr>\n",
       "      <th>448</th>\n",
       "      <td>radio | Search | local-playlist</td>\n",
       "      <td>1.0</td>\n",
       "      <td>1</td>\n",
       "    </tr>\n",
       "    <tr>\n",
       "      <th>210</th>\n",
       "      <td>listen with | Search | local-library</td>\n",
       "      <td>1.0</td>\n",
       "      <td>2</td>\n",
       "    </tr>\n",
       "    <tr>\n",
       "      <th>342</th>\n",
       "      <td>notification | Discover New | online-playlist</td>\n",
       "      <td>1.0</td>\n",
       "      <td>1</td>\n",
       "    </tr>\n",
       "    <tr>\n",
       "      <th>198</th>\n",
       "      <td>listen with | Online playlist more | local-pla...</td>\n",
       "      <td>1.0</td>\n",
       "      <td>2</td>\n",
       "    </tr>\n",
       "    <tr>\n",
       "      <th>383</th>\n",
       "      <td>null | Discover Genre | local-library</td>\n",
       "      <td>1.0</td>\n",
       "      <td>1</td>\n",
       "    </tr>\n",
       "    <tr>\n",
       "      <th>290</th>\n",
       "      <td>my library | Payment | local-library</td>\n",
       "      <td>1.0</td>\n",
       "      <td>3</td>\n",
       "    </tr>\n",
       "    <tr>\n",
       "      <th>370</th>\n",
       "      <td>notification | nan | song-based-playlist</td>\n",
       "      <td>1.0</td>\n",
       "      <td>1</td>\n",
       "    </tr>\n",
       "    <tr>\n",
       "      <th>30</th>\n",
       "      <td>discover | Discover Genre | local-playlist</td>\n",
       "      <td>1.0</td>\n",
       "      <td>2</td>\n",
       "    </tr>\n",
       "    <tr>\n",
       "      <th>455</th>\n",
       "      <td>radio | nan | local-library</td>\n",
       "      <td>1.0</td>\n",
       "      <td>2</td>\n",
       "    </tr>\n",
       "    <tr>\n",
       "      <th>330</th>\n",
       "      <td>nan | Artist more | top-hits-for-artist</td>\n",
       "      <td>1.0</td>\n",
       "      <td>2</td>\n",
       "    </tr>\n",
       "    <tr>\n",
       "      <th>165</th>\n",
       "      <td>explore | nan | local-playlist</td>\n",
       "      <td>1.0</td>\n",
       "      <td>67</td>\n",
       "    </tr>\n",
       "    <tr>\n",
       "      <th>469</th>\n",
       "      <td>search | Discover Feature | song-based-playlist</td>\n",
       "      <td>1.0</td>\n",
       "      <td>1</td>\n",
       "    </tr>\n",
       "    <tr>\n",
       "      <th>36</th>\n",
       "      <td>discover | Discover New | local-playlist</td>\n",
       "      <td>1.0</td>\n",
       "      <td>8</td>\n",
       "    </tr>\n",
       "    <tr>\n",
       "      <th>426</th>\n",
       "      <td>radio | Local playlist more | artist</td>\n",
       "      <td>1.0</td>\n",
       "      <td>2</td>\n",
       "    </tr>\n",
       "    <tr>\n",
       "      <th>218</th>\n",
       "      <td>listen with | nan | album</td>\n",
       "      <td>1.0</td>\n",
       "      <td>1</td>\n",
       "    </tr>\n",
       "    <tr>\n",
       "      <th>177</th>\n",
       "      <td>listen with | Artist more | song</td>\n",
       "      <td>1.0</td>\n",
       "      <td>1</td>\n",
       "    </tr>\n",
       "    <tr>\n",
       "      <th>500</th>\n",
       "      <td>settings | Discover Genre | album</td>\n",
       "      <td>1.0</td>\n",
       "      <td>2</td>\n",
       "    </tr>\n",
       "    <tr>\n",
       "      <th>512</th>\n",
       "      <td>settings | Payment | local-playlist</td>\n",
       "      <td>1.0</td>\n",
       "      <td>1</td>\n",
       "    </tr>\n",
       "    <tr>\n",
       "      <th>56</th>\n",
       "      <td>discover | My library | local-playlist</td>\n",
       "      <td>1.0</td>\n",
       "      <td>4</td>\n",
       "    </tr>\n",
       "    <tr>\n",
       "      <th>242</th>\n",
       "      <td>my library | Concert | online-playlist</td>\n",
       "      <td>1.0</td>\n",
       "      <td>4</td>\n",
       "    </tr>\n",
       "    <tr>\n",
       "      <th>355</th>\n",
       "      <td>notification | Others profile more | radio</td>\n",
       "      <td>1.0</td>\n",
       "      <td>1</td>\n",
       "    </tr>\n",
       "    <tr>\n",
       "      <th>119</th>\n",
       "      <td>explore | Artist more | local-library</td>\n",
       "      <td>1.0</td>\n",
       "      <td>1</td>\n",
       "    </tr>\n",
       "    <tr>\n",
       "      <th>87</th>\n",
       "      <td>discover | Search | my-daily-playlist</td>\n",
       "      <td>1.0</td>\n",
       "      <td>1</td>\n",
       "    </tr>\n",
       "    <tr>\n",
       "      <th>236</th>\n",
       "      <td>my library | Artist more | local-library</td>\n",
       "      <td>1.0</td>\n",
       "      <td>1</td>\n",
       "    </tr>\n",
       "    <tr>\n",
       "      <th>149</th>\n",
       "      <td>explore | Others profile more | online-playlist</td>\n",
       "      <td>1.0</td>\n",
       "      <td>2</td>\n",
       "    </tr>\n",
       "    <tr>\n",
       "      <th>349</th>\n",
       "      <td>notification | Online playlist more | local-li...</td>\n",
       "      <td>1.0</td>\n",
       "      <td>2</td>\n",
       "    </tr>\n",
       "    <tr>\n",
       "      <th>510</th>\n",
       "      <td>settings | Others profile more | online-playlist</td>\n",
       "      <td>1.0</td>\n",
       "      <td>2</td>\n",
       "    </tr>\n",
       "    <tr>\n",
       "      <th>...</th>\n",
       "      <td>...</td>\n",
       "      <td>...</td>\n",
       "      <td>...</td>\n",
       "    </tr>\n",
       "    <tr>\n",
       "      <th>394</th>\n",
       "      <td>null | Online playlist more | local-library</td>\n",
       "      <td>0.0</td>\n",
       "      <td>50</td>\n",
       "    </tr>\n",
       "    <tr>\n",
       "      <th>396</th>\n",
       "      <td>null | Radio | radio</td>\n",
       "      <td>0.0</td>\n",
       "      <td>15</td>\n",
       "    </tr>\n",
       "    <tr>\n",
       "      <th>363</th>\n",
       "      <td>notification | nan | album</td>\n",
       "      <td>0.0</td>\n",
       "      <td>2</td>\n",
       "    </tr>\n",
       "    <tr>\n",
       "      <th>152</th>\n",
       "      <td>explore | Search Trends | local-library</td>\n",
       "      <td>0.0</td>\n",
       "      <td>1</td>\n",
       "    </tr>\n",
       "    <tr>\n",
       "      <th>157</th>\n",
       "      <td>explore | Search | radio</td>\n",
       "      <td>0.0</td>\n",
       "      <td>7</td>\n",
       "    </tr>\n",
       "    <tr>\n",
       "      <th>75</th>\n",
       "      <td>discover | Search Home | online-playlist</td>\n",
       "      <td>0.0</td>\n",
       "      <td>1</td>\n",
       "    </tr>\n",
       "    <tr>\n",
       "      <th>366</th>\n",
       "      <td>notification | nan | local-playlist</td>\n",
       "      <td>0.0</td>\n",
       "      <td>1</td>\n",
       "    </tr>\n",
       "    <tr>\n",
       "      <th>41</th>\n",
       "      <td>discover | Explore | listen-with</td>\n",
       "      <td>0.0</td>\n",
       "      <td>2</td>\n",
       "    </tr>\n",
       "    <tr>\n",
       "      <th>112</th>\n",
       "      <td>explore | Album more | listen-with</td>\n",
       "      <td>0.0</td>\n",
       "      <td>1</td>\n",
       "    </tr>\n",
       "    <tr>\n",
       "      <th>348</th>\n",
       "      <td>notification | Local playlist more | online-pl...</td>\n",
       "      <td>0.0</td>\n",
       "      <td>5</td>\n",
       "    </tr>\n",
       "    <tr>\n",
       "      <th>251</th>\n",
       "      <td>my library | Discover New | album</td>\n",
       "      <td>0.0</td>\n",
       "      <td>1</td>\n",
       "    </tr>\n",
       "    <tr>\n",
       "      <th>463</th>\n",
       "      <td>search | Album more | song</td>\n",
       "      <td>0.0</td>\n",
       "      <td>1</td>\n",
       "    </tr>\n",
       "    <tr>\n",
       "      <th>462</th>\n",
       "      <td>search | Album more | radio</td>\n",
       "      <td>0.0</td>\n",
       "      <td>3</td>\n",
       "    </tr>\n",
       "    <tr>\n",
       "      <th>399</th>\n",
       "      <td>null | Search Trends | song</td>\n",
       "      <td>0.0</td>\n",
       "      <td>1</td>\n",
       "    </tr>\n",
       "    <tr>\n",
       "      <th>145</th>\n",
       "      <td>explore | Online playlist more | radio</td>\n",
       "      <td>0.0</td>\n",
       "      <td>45</td>\n",
       "    </tr>\n",
       "    <tr>\n",
       "      <th>456</th>\n",
       "      <td>radio | nan | nan</td>\n",
       "      <td>0.0</td>\n",
       "      <td>2</td>\n",
       "    </tr>\n",
       "    <tr>\n",
       "      <th>454</th>\n",
       "      <td>radio | nan | album</td>\n",
       "      <td>0.0</td>\n",
       "      <td>1</td>\n",
       "    </tr>\n",
       "    <tr>\n",
       "      <th>351</th>\n",
       "      <td>notification | Online playlist more | radio</td>\n",
       "      <td>0.0</td>\n",
       "      <td>1</td>\n",
       "    </tr>\n",
       "    <tr>\n",
       "      <th>352</th>\n",
       "      <td>notification | Others profile more | album</td>\n",
       "      <td>0.0</td>\n",
       "      <td>1</td>\n",
       "    </tr>\n",
       "    <tr>\n",
       "      <th>450</th>\n",
       "      <td>radio | Search | radio</td>\n",
       "      <td>0.0</td>\n",
       "      <td>1</td>\n",
       "    </tr>\n",
       "    <tr>\n",
       "      <th>229</th>\n",
       "      <td>my library | Album more | listen-with</td>\n",
       "      <td>0.0</td>\n",
       "      <td>1</td>\n",
       "    </tr>\n",
       "    <tr>\n",
       "      <th>124</th>\n",
       "      <td>explore | Discover Feature | online-playlist</td>\n",
       "      <td>0.0</td>\n",
       "      <td>8</td>\n",
       "    </tr>\n",
       "    <tr>\n",
       "      <th>446</th>\n",
       "      <td>radio | Search Trends | radio</td>\n",
       "      <td>0.0</td>\n",
       "      <td>2</td>\n",
       "    </tr>\n",
       "    <tr>\n",
       "      <th>445</th>\n",
       "      <td>radio | Radio | topic-article-playlist</td>\n",
       "      <td>0.0</td>\n",
       "      <td>1</td>\n",
       "    </tr>\n",
       "    <tr>\n",
       "      <th>444</th>\n",
       "      <td>radio | Radio | song</td>\n",
       "      <td>0.0</td>\n",
       "      <td>1</td>\n",
       "    </tr>\n",
       "    <tr>\n",
       "      <th>212</th>\n",
       "      <td>listen with | Search | radio</td>\n",
       "      <td>0.0</td>\n",
       "      <td>3</td>\n",
       "    </tr>\n",
       "    <tr>\n",
       "      <th>441</th>\n",
       "      <td>radio | Radio | local-playlist</td>\n",
       "      <td>0.0</td>\n",
       "      <td>1</td>\n",
       "    </tr>\n",
       "    <tr>\n",
       "      <th>439</th>\n",
       "      <td>radio | Radio | listen-with</td>\n",
       "      <td>0.0</td>\n",
       "      <td>6</td>\n",
       "    </tr>\n",
       "    <tr>\n",
       "      <th>438</th>\n",
       "      <td>radio | Radio | album</td>\n",
       "      <td>0.0</td>\n",
       "      <td>1</td>\n",
       "    </tr>\n",
       "    <tr>\n",
       "      <th>197</th>\n",
       "      <td>listen with | Online playlist more | local-lib...</td>\n",
       "      <td>0.0</td>\n",
       "      <td>1</td>\n",
       "    </tr>\n",
       "  </tbody>\n",
       "</table>\n",
       "<p>525 rows × 3 columns</p>\n",
       "</div>"
      ],
      "text/plain": [
       "                                         source_merged  source_replay_pb  \\\n",
       "373              null | Discover Chart | local-library               1.0   \n",
       "176                  listen with | Artist more | album               1.0   \n",
       "385               null | Explore | top-hits-for-artist               1.0   \n",
       "448                    radio | Search | local-playlist               1.0   \n",
       "210               listen with | Search | local-library               1.0   \n",
       "342      notification | Discover New | online-playlist               1.0   \n",
       "198  listen with | Online playlist more | local-pla...               1.0   \n",
       "383              null | Discover Genre | local-library               1.0   \n",
       "290               my library | Payment | local-library               1.0   \n",
       "370           notification | nan | song-based-playlist               1.0   \n",
       "30          discover | Discover Genre | local-playlist               1.0   \n",
       "455                        radio | nan | local-library               1.0   \n",
       "330            nan | Artist more | top-hits-for-artist               1.0   \n",
       "165                     explore | nan | local-playlist               1.0   \n",
       "469    search | Discover Feature | song-based-playlist               1.0   \n",
       "36            discover | Discover New | local-playlist               1.0   \n",
       "426               radio | Local playlist more | artist               1.0   \n",
       "218                          listen with | nan | album               1.0   \n",
       "177                   listen with | Artist more | song               1.0   \n",
       "500                  settings | Discover Genre | album               1.0   \n",
       "512                settings | Payment | local-playlist               1.0   \n",
       "56              discover | My library | local-playlist               1.0   \n",
       "242             my library | Concert | online-playlist               1.0   \n",
       "355         notification | Others profile more | radio               1.0   \n",
       "119              explore | Artist more | local-library               1.0   \n",
       "87               discover | Search | my-daily-playlist               1.0   \n",
       "236           my library | Artist more | local-library               1.0   \n",
       "149    explore | Others profile more | online-playlist               1.0   \n",
       "349  notification | Online playlist more | local-li...               1.0   \n",
       "510   settings | Others profile more | online-playlist               1.0   \n",
       "..                                                 ...               ...   \n",
       "394        null | Online playlist more | local-library               0.0   \n",
       "396                               null | Radio | radio               0.0   \n",
       "363                         notification | nan | album               0.0   \n",
       "152            explore | Search Trends | local-library               0.0   \n",
       "157                           explore | Search | radio               0.0   \n",
       "75            discover | Search Home | online-playlist               0.0   \n",
       "366                notification | nan | local-playlist               0.0   \n",
       "41                    discover | Explore | listen-with               0.0   \n",
       "112                 explore | Album more | listen-with               0.0   \n",
       "348  notification | Local playlist more | online-pl...               0.0   \n",
       "251                  my library | Discover New | album               0.0   \n",
       "463                         search | Album more | song               0.0   \n",
       "462                        search | Album more | radio               0.0   \n",
       "399                        null | Search Trends | song               0.0   \n",
       "145             explore | Online playlist more | radio               0.0   \n",
       "456                                  radio | nan | nan               0.0   \n",
       "454                                radio | nan | album               0.0   \n",
       "351        notification | Online playlist more | radio               0.0   \n",
       "352         notification | Others profile more | album               0.0   \n",
       "450                             radio | Search | radio               0.0   \n",
       "229              my library | Album more | listen-with               0.0   \n",
       "124       explore | Discover Feature | online-playlist               0.0   \n",
       "446                      radio | Search Trends | radio               0.0   \n",
       "445             radio | Radio | topic-article-playlist               0.0   \n",
       "444                               radio | Radio | song               0.0   \n",
       "212                       listen with | Search | radio               0.0   \n",
       "441                     radio | Radio | local-playlist               0.0   \n",
       "439                        radio | Radio | listen-with               0.0   \n",
       "438                              radio | Radio | album               0.0   \n",
       "197  listen with | Online playlist more | local-lib...               0.0   \n",
       "\n",
       "     source_replay_count  \n",
       "373                    4  \n",
       "176                    2  \n",
       "385                    8  \n",
       "448                    1  \n",
       "210                    2  \n",
       "342                    1  \n",
       "198                    2  \n",
       "383                    1  \n",
       "290                    3  \n",
       "370                    1  \n",
       "30                     2  \n",
       "455                    2  \n",
       "330                    2  \n",
       "165                   67  \n",
       "469                    1  \n",
       "36                     8  \n",
       "426                    2  \n",
       "218                    1  \n",
       "177                    1  \n",
       "500                    2  \n",
       "512                    1  \n",
       "56                     4  \n",
       "242                    4  \n",
       "355                    1  \n",
       "119                    1  \n",
       "87                     1  \n",
       "236                    1  \n",
       "149                    2  \n",
       "349                    2  \n",
       "510                    2  \n",
       "..                   ...  \n",
       "394                   50  \n",
       "396                   15  \n",
       "363                    2  \n",
       "152                    1  \n",
       "157                    7  \n",
       "75                     1  \n",
       "366                    1  \n",
       "41                     2  \n",
       "112                    1  \n",
       "348                    5  \n",
       "251                    1  \n",
       "463                    1  \n",
       "462                    3  \n",
       "399                    1  \n",
       "145                   45  \n",
       "456                    2  \n",
       "454                    1  \n",
       "351                    1  \n",
       "352                    1  \n",
       "450                    1  \n",
       "229                    1  \n",
       "124                    8  \n",
       "446                    2  \n",
       "445                    1  \n",
       "444                    1  \n",
       "212                    3  \n",
       "441                    1  \n",
       "439                    6  \n",
       "438                    1  \n",
       "197                    1  \n",
       "\n",
       "[525 rows x 3 columns]"
      ]
     },
     "execution_count": 14,
     "metadata": {},
     "output_type": "execute_result"
    }
   ],
   "source": [
    "count_df = train_df[['source_merged', 'target']].groupby('source_merged').agg(['mean', 'count'])\n",
    "count_df.reset_index(inplace=True)\n",
    "count_df.columns = ['source_merged', 'source_replay_pb', 'source_replay_count']\n",
    "count_df = count_df.sort_values(by='source_replay_pb', ascending=False)\n",
    "count_df"
   ]
  },
  {
   "cell_type": "markdown",
   "metadata": {},
   "source": [
    "<a id='section_conclusion2'></a>\n",
    "## conclusion"
   ]
  },
  {
   "cell_type": "markdown",
   "metadata": {},
   "source": [
    "1. There are rows appears in **test set** but not in **train set**.\n",
    "2. Users adopt to their own personal library or playlist very often."
   ]
  }
 ],
 "metadata": {
  "celltoolbar": "Raw Cell Format",
  "kernelspec": {
   "display_name": "Python 3",
   "language": "python",
   "name": "python3"
  },
  "language_info": {
   "codemirror_mode": {
    "name": "ipython",
    "version": 3
   },
   "file_extension": ".py",
   "mimetype": "text/x-python",
   "name": "python",
   "nbconvert_exporter": "python",
   "pygments_lexer": "ipython3",
   "version": "3.6.3"
  },
  "toc": {
   "nav_menu": {},
   "number_sections": true,
   "sideBar": true,
   "skip_h1_title": false,
   "toc_cell": true,
   "toc_position": {},
   "toc_section_display": "block",
   "toc_window_display": true
  },
  "varInspector": {
   "cols": {
    "lenName": 16,
    "lenType": 16,
    "lenVar": 40
   },
   "kernels_config": {
    "python": {
     "delete_cmd_postfix": "",
     "delete_cmd_prefix": "del ",
     "library": "var_list.py",
     "varRefreshCmd": "print(var_dic_list())"
    },
    "r": {
     "delete_cmd_postfix": ") ",
     "delete_cmd_prefix": "rm(",
     "library": "var_list.r",
     "varRefreshCmd": "cat(var_dic_list()) "
    }
   },
   "types_to_exclude": [
    "module",
    "function",
    "builtin_function_or_method",
    "instance",
    "_Feature"
   ],
   "window_display": false
  },
  "widgets": {
   "application/vnd.jupyter.widget-state+json": {
    "state": {},
    "version_major": 1,
    "version_minor": 0
   }
  }
 },
 "nbformat": 4,
 "nbformat_minor": 2
}
