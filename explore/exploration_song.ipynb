{
 "cells": [
  {
   "cell_type": "code",
   "execution_count": 1,
   "metadata": {
    "collapsed": true
   },
   "outputs": [],
   "source": [
    "import seaborn as sns\n",
    "import matplotlib.pyplot as plt\n",
    "import pandas as pd\n",
    "import numpy as np"
   ]
  },
  {
   "cell_type": "markdown",
   "metadata": {
    "toc": true
   },
   "source": [
    "<h1>Table of Contents<span class=\"tocSkip\"></span></h1>\n",
    "<div class=\"toc\" style=\"margin-top: 1em;\"><ul class=\"toc-item\"><li><span><a href=\"#Songs\" data-toc-modified-id=\"Songs-1\"><span class=\"toc-item-num\">1&nbsp;&nbsp;</span>Songs</a></span><ul class=\"toc-item\"><li><span><a href=\"#song_length\" data-toc-modified-id=\"song_length-1.1\"><span class=\"toc-item-num\">1.1&nbsp;&nbsp;</span>song_length</a></span><ul class=\"toc-item\"><li><span><a href=\"#more-on-song_length\" data-toc-modified-id=\"more-on-song_length-1.1.1\"><span class=\"toc-item-num\">1.1.1&nbsp;&nbsp;</span>more on song_length</a></span></li></ul></li><li><span><a href=\"#genre_ids\" data-toc-modified-id=\"genre_ids-1.2\"><span class=\"toc-item-num\">1.2&nbsp;&nbsp;</span>genre_ids</a></span></li><li><span><a href=\"#artist_name\" data-toc-modified-id=\"artist_name-1.3\"><span class=\"toc-item-num\">1.3&nbsp;&nbsp;</span>artist_name</a></span></li><li><span><a href=\"#composer\" data-toc-modified-id=\"composer-1.4\"><span class=\"toc-item-num\">1.4&nbsp;&nbsp;</span>composer</a></span></li><li><span><a href=\"#lyricist\" data-toc-modified-id=\"lyricist-1.5\"><span class=\"toc-item-num\">1.5&nbsp;&nbsp;</span>lyricist</a></span></li><li><span><a href=\"#language\" data-toc-modified-id=\"language-1.6\"><span class=\"toc-item-num\">1.6&nbsp;&nbsp;</span>language</a></span></li></ul></li><li><span><a href=\"#songs_extra\" data-toc-modified-id=\"songs_extra-2\"><span class=\"toc-item-num\">2&nbsp;&nbsp;</span>songs_extra</a></span><ul class=\"toc-item\"><li><span><a href=\"#missing-ratio\" data-toc-modified-id=\"missing-ratio-2.1\"><span class=\"toc-item-num\">2.1&nbsp;&nbsp;</span>missing ratio</a></span></li><li><span><a href=\"#ISRC\" data-toc-modified-id=\"ISRC-2.2\"><span class=\"toc-item-num\">2.2&nbsp;&nbsp;</span>ISRC</a></span><ul class=\"toc-item\"><li><span><a href=\"#song-year\" data-toc-modified-id=\"song-year-2.2.1\"><span class=\"toc-item-num\">2.2.1&nbsp;&nbsp;</span>song year</a></span></li><li><span><a href=\"#song-country\" data-toc-modified-id=\"song-country-2.2.2\"><span class=\"toc-item-num\">2.2.2&nbsp;&nbsp;</span>song country</a></span></li></ul></li></ul></li><li><span><a href=\"#composite-analysis\" data-toc-modified-id=\"composite-analysis-3\"><span class=\"toc-item-num\">3&nbsp;&nbsp;</span>composite analysis</a></span><ul class=\"toc-item\"><li><span><a href=\"##-of-songs-played-v.s.-replay_pb\" data-toc-modified-id=\"#-of-songs-played-v.s.-replay_pb-3.1\"><span class=\"toc-item-num\">3.1&nbsp;&nbsp;</span># of songs played v.s. replay_pb</a></span></li></ul></li></ul></div>"
   ]
  },
  {
   "cell_type": "code",
   "execution_count": 2,
   "metadata": {
    "collapsed": true
   },
   "outputs": [],
   "source": [
    "# https://en.wikipedia.org/wiki/International_Standard_Recording_Code\n",
    "def transform_isrc_to_year(isrc):\n",
    "    if type(isrc) != str:\n",
    "        return np.nan\n",
    "    # this year 2017\n",
    "    suffix = int(isrc[5:7])\n",
    "\n",
    "    return 1900 + suffix if suffix > 17 else 2000 + suffix\n",
    "\n",
    "\n",
    "def transform_isrc_to_country(isrc):\n",
    "    if type(isrc) != str:\n",
    "        return np.nan\n",
    "    country = isrc[:2]\n",
    "\n",
    "    return country"
   ]
  },
  {
   "cell_type": "code",
   "execution_count": 3,
   "metadata": {},
   "outputs": [
    {
     "ename": "FileNotFoundError",
     "evalue": "File b'data/train.csv' does not exist",
     "output_type": "error",
     "traceback": [
      "\u001b[0;31m---------------------------------------------------------------------------\u001b[0m",
      "\u001b[0;31mFileNotFoundError\u001b[0m                         Traceback (most recent call last)",
      "\u001b[0;32m<ipython-input-3-5d1122e9fa88>\u001b[0m in \u001b[0;36m<module>\u001b[0;34m()\u001b[0m\n\u001b[0;32m----> 1\u001b[0;31m \u001b[0mtrain_df\u001b[0m \u001b[0;34m=\u001b[0m \u001b[0mpd\u001b[0m\u001b[0;34m.\u001b[0m\u001b[0mread_csv\u001b[0m\u001b[0;34m(\u001b[0m\u001b[0;34m'data/train.csv'\u001b[0m\u001b[0;34m)\u001b[0m\u001b[0;34m\u001b[0m\u001b[0m\n\u001b[0m\u001b[1;32m      2\u001b[0m \u001b[0mtest_df\u001b[0m \u001b[0;34m=\u001b[0m \u001b[0mpd\u001b[0m\u001b[0;34m.\u001b[0m\u001b[0mread_csv\u001b[0m\u001b[0;34m(\u001b[0m\u001b[0;34m'data/test.csv'\u001b[0m\u001b[0;34m)\u001b[0m\u001b[0;34m\u001b[0m\u001b[0m\n\u001b[1;32m      3\u001b[0m \u001b[0mcomb_df\u001b[0m \u001b[0;34m=\u001b[0m \u001b[0mtrain_df\u001b[0m\u001b[0;34m.\u001b[0m\u001b[0mappend\u001b[0m\u001b[0;34m(\u001b[0m\u001b[0mtest_df\u001b[0m\u001b[0;34m)\u001b[0m\u001b[0;34m\u001b[0m\u001b[0m\n\u001b[1;32m      4\u001b[0m \u001b[0mmembers_df\u001b[0m \u001b[0;34m=\u001b[0m \u001b[0mpd\u001b[0m\u001b[0;34m.\u001b[0m\u001b[0mread_csv\u001b[0m\u001b[0;34m(\u001b[0m\u001b[0;34m'data/members.csv'\u001b[0m\u001b[0;34m)\u001b[0m\u001b[0;34m\u001b[0m\u001b[0m\n\u001b[1;32m      5\u001b[0m \u001b[0msongs_df\u001b[0m \u001b[0;34m=\u001b[0m \u001b[0mpd\u001b[0m\u001b[0;34m.\u001b[0m\u001b[0mread_csv\u001b[0m\u001b[0;34m(\u001b[0m\u001b[0;34m'data/songs.csv'\u001b[0m\u001b[0;34m)\u001b[0m\u001b[0;34m\u001b[0m\u001b[0m\n",
      "\u001b[0;32m/usr/bin/anaconda3/lib/python3.6/site-packages/pandas/io/parsers.py\u001b[0m in \u001b[0;36mparser_f\u001b[0;34m(filepath_or_buffer, sep, delimiter, header, names, index_col, usecols, squeeze, prefix, mangle_dupe_cols, dtype, engine, converters, true_values, false_values, skipinitialspace, skiprows, nrows, na_values, keep_default_na, na_filter, verbose, skip_blank_lines, parse_dates, infer_datetime_format, keep_date_col, date_parser, dayfirst, iterator, chunksize, compression, thousands, decimal, lineterminator, quotechar, quoting, escapechar, comment, encoding, dialect, tupleize_cols, error_bad_lines, warn_bad_lines, skipfooter, skip_footer, doublequote, delim_whitespace, as_recarray, compact_ints, use_unsigned, low_memory, buffer_lines, memory_map, float_precision)\u001b[0m\n\u001b[1;32m    653\u001b[0m                     skip_blank_lines=skip_blank_lines)\n\u001b[1;32m    654\u001b[0m \u001b[0;34m\u001b[0m\u001b[0m\n\u001b[0;32m--> 655\u001b[0;31m         \u001b[0;32mreturn\u001b[0m \u001b[0m_read\u001b[0m\u001b[0;34m(\u001b[0m\u001b[0mfilepath_or_buffer\u001b[0m\u001b[0;34m,\u001b[0m \u001b[0mkwds\u001b[0m\u001b[0;34m)\u001b[0m\u001b[0;34m\u001b[0m\u001b[0m\n\u001b[0m\u001b[1;32m    656\u001b[0m \u001b[0;34m\u001b[0m\u001b[0m\n\u001b[1;32m    657\u001b[0m     \u001b[0mparser_f\u001b[0m\u001b[0;34m.\u001b[0m\u001b[0m__name__\u001b[0m \u001b[0;34m=\u001b[0m \u001b[0mname\u001b[0m\u001b[0;34m\u001b[0m\u001b[0m\n",
      "\u001b[0;32m/usr/bin/anaconda3/lib/python3.6/site-packages/pandas/io/parsers.py\u001b[0m in \u001b[0;36m_read\u001b[0;34m(filepath_or_buffer, kwds)\u001b[0m\n\u001b[1;32m    403\u001b[0m \u001b[0;34m\u001b[0m\u001b[0m\n\u001b[1;32m    404\u001b[0m     \u001b[0;31m# Create the parser.\u001b[0m\u001b[0;34m\u001b[0m\u001b[0;34m\u001b[0m\u001b[0m\n\u001b[0;32m--> 405\u001b[0;31m     \u001b[0mparser\u001b[0m \u001b[0;34m=\u001b[0m \u001b[0mTextFileReader\u001b[0m\u001b[0;34m(\u001b[0m\u001b[0mfilepath_or_buffer\u001b[0m\u001b[0;34m,\u001b[0m \u001b[0;34m**\u001b[0m\u001b[0mkwds\u001b[0m\u001b[0;34m)\u001b[0m\u001b[0;34m\u001b[0m\u001b[0m\n\u001b[0m\u001b[1;32m    406\u001b[0m \u001b[0;34m\u001b[0m\u001b[0m\n\u001b[1;32m    407\u001b[0m     \u001b[0;32mif\u001b[0m \u001b[0mchunksize\u001b[0m \u001b[0;32mor\u001b[0m \u001b[0miterator\u001b[0m\u001b[0;34m:\u001b[0m\u001b[0;34m\u001b[0m\u001b[0m\n",
      "\u001b[0;32m/usr/bin/anaconda3/lib/python3.6/site-packages/pandas/io/parsers.py\u001b[0m in \u001b[0;36m__init__\u001b[0;34m(self, f, engine, **kwds)\u001b[0m\n\u001b[1;32m    762\u001b[0m             \u001b[0mself\u001b[0m\u001b[0;34m.\u001b[0m\u001b[0moptions\u001b[0m\u001b[0;34m[\u001b[0m\u001b[0;34m'has_index_names'\u001b[0m\u001b[0;34m]\u001b[0m \u001b[0;34m=\u001b[0m \u001b[0mkwds\u001b[0m\u001b[0;34m[\u001b[0m\u001b[0;34m'has_index_names'\u001b[0m\u001b[0;34m]\u001b[0m\u001b[0;34m\u001b[0m\u001b[0m\n\u001b[1;32m    763\u001b[0m \u001b[0;34m\u001b[0m\u001b[0m\n\u001b[0;32m--> 764\u001b[0;31m         \u001b[0mself\u001b[0m\u001b[0;34m.\u001b[0m\u001b[0m_make_engine\u001b[0m\u001b[0;34m(\u001b[0m\u001b[0mself\u001b[0m\u001b[0;34m.\u001b[0m\u001b[0mengine\u001b[0m\u001b[0;34m)\u001b[0m\u001b[0;34m\u001b[0m\u001b[0m\n\u001b[0m\u001b[1;32m    765\u001b[0m \u001b[0;34m\u001b[0m\u001b[0m\n\u001b[1;32m    766\u001b[0m     \u001b[0;32mdef\u001b[0m \u001b[0mclose\u001b[0m\u001b[0;34m(\u001b[0m\u001b[0mself\u001b[0m\u001b[0;34m)\u001b[0m\u001b[0;34m:\u001b[0m\u001b[0;34m\u001b[0m\u001b[0m\n",
      "\u001b[0;32m/usr/bin/anaconda3/lib/python3.6/site-packages/pandas/io/parsers.py\u001b[0m in \u001b[0;36m_make_engine\u001b[0;34m(self, engine)\u001b[0m\n\u001b[1;32m    983\u001b[0m     \u001b[0;32mdef\u001b[0m \u001b[0m_make_engine\u001b[0m\u001b[0;34m(\u001b[0m\u001b[0mself\u001b[0m\u001b[0;34m,\u001b[0m \u001b[0mengine\u001b[0m\u001b[0;34m=\u001b[0m\u001b[0;34m'c'\u001b[0m\u001b[0;34m)\u001b[0m\u001b[0;34m:\u001b[0m\u001b[0;34m\u001b[0m\u001b[0m\n\u001b[1;32m    984\u001b[0m         \u001b[0;32mif\u001b[0m \u001b[0mengine\u001b[0m \u001b[0;34m==\u001b[0m \u001b[0;34m'c'\u001b[0m\u001b[0;34m:\u001b[0m\u001b[0;34m\u001b[0m\u001b[0m\n\u001b[0;32m--> 985\u001b[0;31m             \u001b[0mself\u001b[0m\u001b[0;34m.\u001b[0m\u001b[0m_engine\u001b[0m \u001b[0;34m=\u001b[0m \u001b[0mCParserWrapper\u001b[0m\u001b[0;34m(\u001b[0m\u001b[0mself\u001b[0m\u001b[0;34m.\u001b[0m\u001b[0mf\u001b[0m\u001b[0;34m,\u001b[0m \u001b[0;34m**\u001b[0m\u001b[0mself\u001b[0m\u001b[0;34m.\u001b[0m\u001b[0moptions\u001b[0m\u001b[0;34m)\u001b[0m\u001b[0;34m\u001b[0m\u001b[0m\n\u001b[0m\u001b[1;32m    986\u001b[0m         \u001b[0;32melse\u001b[0m\u001b[0;34m:\u001b[0m\u001b[0;34m\u001b[0m\u001b[0m\n\u001b[1;32m    987\u001b[0m             \u001b[0;32mif\u001b[0m \u001b[0mengine\u001b[0m \u001b[0;34m==\u001b[0m \u001b[0;34m'python'\u001b[0m\u001b[0;34m:\u001b[0m\u001b[0;34m\u001b[0m\u001b[0m\n",
      "\u001b[0;32m/usr/bin/anaconda3/lib/python3.6/site-packages/pandas/io/parsers.py\u001b[0m in \u001b[0;36m__init__\u001b[0;34m(self, src, **kwds)\u001b[0m\n\u001b[1;32m   1603\u001b[0m         \u001b[0mkwds\u001b[0m\u001b[0;34m[\u001b[0m\u001b[0;34m'allow_leading_cols'\u001b[0m\u001b[0;34m]\u001b[0m \u001b[0;34m=\u001b[0m \u001b[0mself\u001b[0m\u001b[0;34m.\u001b[0m\u001b[0mindex_col\u001b[0m \u001b[0;32mis\u001b[0m \u001b[0;32mnot\u001b[0m \u001b[0;32mFalse\u001b[0m\u001b[0;34m\u001b[0m\u001b[0m\n\u001b[1;32m   1604\u001b[0m \u001b[0;34m\u001b[0m\u001b[0m\n\u001b[0;32m-> 1605\u001b[0;31m         \u001b[0mself\u001b[0m\u001b[0;34m.\u001b[0m\u001b[0m_reader\u001b[0m \u001b[0;34m=\u001b[0m \u001b[0mparsers\u001b[0m\u001b[0;34m.\u001b[0m\u001b[0mTextReader\u001b[0m\u001b[0;34m(\u001b[0m\u001b[0msrc\u001b[0m\u001b[0;34m,\u001b[0m \u001b[0;34m**\u001b[0m\u001b[0mkwds\u001b[0m\u001b[0;34m)\u001b[0m\u001b[0;34m\u001b[0m\u001b[0m\n\u001b[0m\u001b[1;32m   1606\u001b[0m \u001b[0;34m\u001b[0m\u001b[0m\n\u001b[1;32m   1607\u001b[0m         \u001b[0;31m# XXX\u001b[0m\u001b[0;34m\u001b[0m\u001b[0;34m\u001b[0m\u001b[0m\n",
      "\u001b[0;32mpandas/_libs/parsers.pyx\u001b[0m in \u001b[0;36mpandas._libs.parsers.TextReader.__cinit__ (pandas/_libs/parsers.c:4209)\u001b[0;34m()\u001b[0m\n",
      "\u001b[0;32mpandas/_libs/parsers.pyx\u001b[0m in \u001b[0;36mpandas._libs.parsers.TextReader._setup_parser_source (pandas/_libs/parsers.c:8873)\u001b[0;34m()\u001b[0m\n",
      "\u001b[0;31mFileNotFoundError\u001b[0m: File b'data/train.csv' does not exist"
     ]
    }
   ],
   "source": [
    "train_df = pd.read_csv('data/train.csv')\n",
    "test_df = pd.read_csv('data/test.csv')\n",
    "comb_df = train_df.append(test_df)\n",
    "members_df = pd.read_csv('data/members.csv')\n",
    "songs_df = pd.read_csv('data/songs.csv')\n",
    "song_extra_info_df = pd.read_csv('data/song_extra_info.csv')\n",
    "\n",
    "songs_df = songs_df.merge(song_extra_info_df, on='song_id', how='left')\n",
    "songs_df['song_year'] = songs_df['isrc'].apply(transform_isrc_to_year)\n",
    "songs_df['song_country'] = songs_df['isrc'].apply(transform_isrc_to_country)\n",
    "\n",
    "train_df = train_df.merge(songs_df, on='song_id', how='left')\n",
    "test_df = test_df.merge(songs_df, on='song_id', how='left')\n",
    "\n",
    "train_df = train_df.merge(members_df, on='msno', how='left')\n",
    "test_df = test_df.merge(members_df, on='msno', how='left')\n",
    "\n",
    "# fill missing data to visualize\n",
    "train_df.fillna('nan', inplace=True)\n",
    "test_df.fillna('nan', inplace=True)"
   ]
  },
  {
   "cell_type": "markdown",
   "metadata": {},
   "source": [
    "<a id='chapter_song'></a>\n",
    "# Songs"
   ]
  },
  {
   "cell_type": "code",
   "execution_count": null,
   "metadata": {},
   "outputs": [],
   "source": [
    "def parse_splitted_category_to_number(x):\n",
    "    if x is np.nan:\n",
    "        return 0\n",
    "    \n",
    "    x = str(x)\n",
    "    x.replace('/', '|')\n",
    "    x.replace(';', '|')\n",
    "    x.replace('\\\\', '|')\n",
    "    x.replace('&', '|')\n",
    "    x.replace(' and ', '|')\n",
    "    x.replace('+', '|')\n",
    "    return x.count('|') + 1\n",
    "\n",
    "train_df['genre_count'] = train_df['genre_ids'].apply(parse_splitted_category_to_number)\n",
    "train_df['artist_count'] = train_df['artist_name'].apply(parse_splitted_category_to_number)\n",
    "train_df['composer_count'] = train_df['composer'].apply(parse_splitted_category_to_number)\n",
    "train_df['lyricist_count'] = train_df['lyricist'].apply(parse_splitted_category_to_number)\n",
    "\n",
    "count_df = train_df[['song_id', 'genre_ids', 'genre_count', 'artist_name', 'artist_count', 'composer', 'composer_count', 'lyricist', 'lyricist_count', 'target']]\n",
    "\n",
    "count_df.head(10)"
   ]
  },
  {
   "cell_type": "markdown",
   "metadata": {},
   "source": [
    "## song_length"
   ]
  },
  {
   "cell_type": "code",
   "execution_count": null,
   "metadata": {},
   "outputs": [],
   "source": [
    "song_length_unique_df = train_df[['song_id', 'song_length']].drop_duplicates('song_id')\n",
    "\n",
    "song_length_unique_series = song_length_unique_df['song_length'].astype(np.float64)\n",
    "\n",
    "# assert(song_length_unique_series.duplicates())\n",
    "# print(song_length_unique_df)\n",
    "sns.boxplot(x=song_length_unique_series)\n",
    "plt.show()\n",
    "\n",
    "song_length_unique_series.describe().astype(np.int64)"
   ]
  },
  {
   "cell_type": "markdown",
   "metadata": {},
   "source": [
    "It seems that there exists outliers.\n",
    "Now we treat them as outliers and so drop them."
   ]
  },
  {
   "cell_type": "code",
   "execution_count": null,
   "metadata": {},
   "outputs": [],
   "source": [
    "song_length_unique_series = song_length_unique_series[np.abs(song_length_unique_series-song_length_unique_series.mean()) <= (3 * song_length_unique_series.std())]\n",
    "song_length_unique_series.describe().astype(np.int64)"
   ]
  },
  {
   "cell_type": "markdown",
   "metadata": {},
   "source": [
    "Notice that there exists very long song were played by users."
   ]
  },
  {
   "cell_type": "code",
   "execution_count": null,
   "metadata": {},
   "outputs": [],
   "source": [
    "sns.boxplot(song_length_unique_series)\n",
    "plt.show()\n",
    "\n",
    "sns.distplot(song_length_unique_series)\n",
    "plt.show()"
   ]
  },
  {
   "cell_type": "markdown",
   "metadata": {},
   "source": [
    "It seems the distribution is almost normal after removing outliers."
   ]
  },
  {
   "cell_type": "markdown",
   "metadata": {},
   "source": [
    "### more on song_length"
   ]
  },
  {
   "cell_type": "code",
   "execution_count": null,
   "metadata": {},
   "outputs": [],
   "source": [
    "count_df = train_df[['song_length', 'target']]\n",
    "count_df = count_df[count_df['target'] == 1]\n",
    "\n",
    "\n",
    "# transform scale unit into \"log10\"\n",
    "count_df['song_length'] = count_df['song_length'].astype(np.float64)\n",
    "print(count_df['song_length'].min(), count_df['song_length'].max(), count_df['song_length'].mean())\n",
    "length_bins = np.logspace(np.log10(count_df['song_length'].min()), np.log10(count_df['song_length'].max()), 100)\n",
    "\n",
    "# ignore missing data\n",
    "count_df['song_length'].fillna(0.0, inplace=True)\n",
    "\n",
    "count_df['cut_song_length'] = pd.cut(count_df['song_length'], bins=length_bins)\n",
    "count_df.head(10)\n",
    "\n",
    "plt.figure(figsize=(30, 15)) \n",
    "plt.xticks(rotation=90)\n",
    "g = sns.countplot(x='cut_song_length', data=count_df)\n",
    "g.set_yscale('log', nonposy='clip')\n",
    "plt.show()"
   ]
  },
  {
   "cell_type": "code",
   "execution_count": null,
   "metadata": {
    "scrolled": true
   },
   "outputs": [],
   "source": [
    "count_df = train_df[['song_length', 'target']].groupby('song_length').agg('mean')\n",
    "count_df.reset_index(inplace=True)\n",
    "count_df.columns = ['song_length', 'replay_pb']\n",
    "\n",
    "# transform scale unit into \"log10\"\n",
    "count_df['song_length'] = count_df['song_length'].astype(np.float64)\n",
    "length_bins = np.logspace(np.log10(count_df['song_length'].min()), np.log10(count_df['song_length'].max()), 100)\n",
    "count_df['song_length'].fillna(0.0, inplace=True)\n",
    "\n",
    "count_df['cut_song_length'] = pd.cut(count_df['song_length'], bins=length_bins)\n",
    "\n",
    "\n",
    "count_df = count_df[['cut_song_length', 'replay_pb']].groupby('cut_song_length').agg('mean')\n",
    "count_df.reset_index(inplace=True)\n",
    "count_df.head(10)\n",
    "\n",
    "plt.figure(figsize=(30, 15)) \n",
    "plt.xticks(rotation=90)\n",
    "sns.barplot(y='replay_pb', x='cut_song_length', data=count_df)\n",
    "plt.show()"
   ]
  },
  {
   "cell_type": "markdown",
   "metadata": {},
   "source": [
    "The songs whose song length larger than average one (248419 ms) have larger chance for replaying.\n",
    "Maybe the longer songs are played from small users; but these users really like them.\n",
    "也就是說，冷門的歌曲更會被其歌迷追蹤。"
   ]
  },
  {
   "cell_type": "markdown",
   "metadata": {},
   "source": [
    "## genre_ids"
   ]
  },
  {
   "cell_type": "code",
   "execution_count": null,
   "metadata": {},
   "outputs": [],
   "source": [
    "count_df = train_df[['genre_count', 'target']].groupby('genre_count').agg(['mean', 'count'])\n",
    "count_df.reset_index(inplace=True)\n",
    "count_df.columns = ['genre_count', 'replay_pb', 'play_count']\n",
    "\n",
    "count_df['replay_count'] = (count_df['replay_pb'] * count_df['play_count']).astype(np.int32)\n",
    "\n",
    "sns.barplot(x='genre_count', y='replay_pb', data=count_df)\n",
    "plt.show()\n",
    "\n",
    "g = sns.barplot(x='genre_count', y='replay_count', data=count_df)\n",
    "g.set_yscale('log', nonposy='clip')\n",
    "plt.show()\n",
    "count_df"
   ]
  },
  {
   "cell_type": "markdown",
   "metadata": {
    "collapsed": true
   },
   "source": [
    "**genre_ids** having 1 or 2 category is more chance to replay than more than 2 categories.\n",
    "Replayed songs labeled single genre are more than others."
   ]
  },
  {
   "cell_type": "code",
   "execution_count": null,
   "metadata": {},
   "outputs": [],
   "source": [
    "count_df = train_df[['genre_ids', 'target']].groupby('genre_ids').agg(['mean', 'count'])\n",
    "count_df.reset_index(inplace=True)\n",
    "count_df.columns = ['genre_ids', 'replay_pb', 'play_count']\n",
    "print(len(count_df))\n",
    "\n",
    "count_df['replay_count'] = (count_df['replay_pb'] * count_df['play_count']).astype(np.int32)\n",
    "count_df = count_df.sort_values(by=['replay_count'], ascending=False)\n",
    "\n",
    "plt.figure(figsize=(15, 80))\n",
    "g = sns.barplot(y='genre_ids', x='replay_count', data=count_df)\n",
    "g.set_xscale('log', nonposx='clip')\n",
    "plt.show()"
   ]
  },
  {
   "cell_type": "markdown",
   "metadata": {},
   "source": [
    "There are total **573** combinations in *genre_ids*.\n",
    "Notice that *genre 465* is the most popular; however, there is *genre 1568|465* which is the most unpopular where they both contain *genre 465*.\n",
    "Hence, we can not decompose composite genres into several separate genres for consideration."
   ]
  },
  {
   "cell_type": "markdown",
   "metadata": {
    "collapsed": true
   },
   "source": [
    "## artist_name"
   ]
  },
  {
   "cell_type": "code",
   "execution_count": null,
   "metadata": {
    "scrolled": true
   },
   "outputs": [],
   "source": [
    "count_df = train_df[['artist_count', 'target']].groupby('artist_count').agg(['mean', 'count'])\n",
    "count_df.reset_index(inplace=True)\n",
    "count_df.columns = ['artist_count', 'replay_pb', 'play_count']\n",
    "\n",
    "count_df['replay_count'] = (count_df['replay_pb'] * count_df['play_count']).astype(np.int32)\n",
    "\n",
    "sns.barplot(x='artist_count', y='replay_pb', data=count_df)\n",
    "plt.show()\n",
    "\n",
    "g = sns.barplot(x='artist_count', y='replay_count', data=count_df)\n",
    "g.set_yscale('log', nonposy='clip')\n",
    "plt.show()\n",
    "count_df"
   ]
  },
  {
   "cell_type": "markdown",
   "metadata": {},
   "source": [
    "**artist_count** might not helpful."
   ]
  },
  {
   "cell_type": "code",
   "execution_count": null,
   "metadata": {},
   "outputs": [],
   "source": [
    "artist_df = train_df[['artist_name', 'target']].groupby('artist_name').agg(['mean', 'count']).reset_index()\n",
    "artist_df.columns = ['artist_name', 'replay_pb', 'play_count']\n",
    "# artist_df['artist_name'] = artist_df['artist_name'].apply(lambda x: x.decode('utf-8'))\n",
    "artist_df['replay_count'] = (artist_df['replay_pb'] * artist_df['play_count']).astype(np.int32)\n",
    "artist_df.head(15)\n",
    "\n",
    "sns.barplot(y='artist_name', x='play_count', data=artist_df.sort_values(by=['play_count'], ascending=False).head(20))\n",
    "plt.show()\n",
    "\n",
    "sns.barplot(y='artist_name', x='replay_count', data=artist_df.sort_values(by=['replay_count'], ascending=False).head(20))\n",
    "plt.show()\n",
    "\n",
    "sns.barplot(y='artist_name', x='replay_pb', data=artist_df.sort_values(by=['replay_count'], ascending=False).head(20))\n",
    "plt.show()"
   ]
  },
  {
   "cell_type": "markdown",
   "metadata": {},
   "source": [
    "Many songs sung by Chinese artists are listend by users.\n",
    "\n",
    "Furthermore, **Various Artist** means several artists; i.e., a song sung by composite singers is more popular."
   ]
  },
  {
   "cell_type": "markdown",
   "metadata": {
    "collapsed": true
   },
   "source": [
    "## composer"
   ]
  },
  {
   "cell_type": "code",
   "execution_count": null,
   "metadata": {
    "scrolled": true
   },
   "outputs": [],
   "source": [
    "count_df = train_df[['composer_count', 'target']].groupby('composer_count').agg(['mean', 'count'])\n",
    "count_df.reset_index(inplace=True)\n",
    "count_df.columns = ['composer_count', 'replay_pb', 'play_count']\n",
    "\n",
    "count_df['replay_count'] = (count_df['replay_pb'] * count_df['play_count']).astype(np.int32)\n",
    "\n",
    "sns.barplot(x='composer_count', y='replay_pb', data=count_df)\n",
    "plt.show()\n",
    "\n",
    "g = sns.barplot(x='composer_count', y='replay_count', data=count_df)\n",
    "g.set_yscale('log', nonposy='clip')\n",
    "plt.show()\n",
    "count_df"
   ]
  },
  {
   "cell_type": "code",
   "execution_count": null,
   "metadata": {},
   "outputs": [],
   "source": [
    "composer_df = train_df[['composer', 'target']].groupby('composer').agg(['mean', 'count']).reset_index()\n",
    "composer_df.columns = ['composer', 'replay_pb', 'play_count']\n",
    "composer_df['replay_count'] = (composer_df['replay_pb'] * composer_df['play_count']).astype(np.int32)\n",
    "\n",
    "\n",
    "sns.barplot(y='composer', x='play_count', data=composer_df.sort_values(by=['play_count'], ascending=False).head(20))\n",
    "plt.show()\n",
    "\n",
    "sns.barplot(y='composer', x='replay_count', data=composer_df.sort_values(by=['replay_count'], ascending=False).head(20))\n",
    "plt.show()\n",
    "\n",
    "sns.barplot(y='composer', x='replay_pb', data=composer_df.sort_values(by=['replay_count'], ascending=False).head(20))\n",
    "plt.show()\n",
    "\n",
    "print(composer_df['play_count'].corr(composer_df['replay_pb']))\n",
    "print(composer_df['play_count'].corr(composer_df['replay_count']))\n",
    "\n",
    "composer_df.sort_values(by=['play_count'], ascending=False).head(15)"
   ]
  },
  {
   "cell_type": "markdown",
   "metadata": {},
   "source": [
    "The more play counts, almost the more replay counts.\n",
    "There are so so so many missing value."
   ]
  },
  {
   "cell_type": "markdown",
   "metadata": {
    "collapsed": true
   },
   "source": [
    "## lyricist"
   ]
  },
  {
   "cell_type": "code",
   "execution_count": null,
   "metadata": {
    "scrolled": true
   },
   "outputs": [],
   "source": [
    "count_df = train_df[['lyricist_count', 'target']].groupby('lyricist_count').agg(['mean', 'count'])\n",
    "count_df.reset_index(inplace=True)\n",
    "count_df.columns = ['lyricist_count', 'replay_pb', 'play_count']\n",
    "\n",
    "count_df['replay_count'] = (count_df['replay_pb'] * count_df['play_count']).astype(np.int32)\n",
    "\n",
    "sns.barplot(x='lyricist_count', y='replay_pb', data=count_df)\n",
    "plt.show()\n",
    "\n",
    "g = sns.barplot(x='lyricist_count', y='replay_count', data=count_df)\n",
    "g.set_yscale('log', nonposy='clip')\n",
    "plt.show()\n",
    "count_df"
   ]
  },
  {
   "cell_type": "code",
   "execution_count": null,
   "metadata": {},
   "outputs": [],
   "source": [
    "lyricist_df = train_df[['lyricist', 'target']].groupby('lyricist').agg(['mean', 'count']).reset_index()\n",
    "lyricist_df.columns = ['lyricist', 'replay_pb', 'play_count']\n",
    "lyricist_df['replay_count'] = (lyricist_df['replay_pb'] * lyricist_df['play_count']).astype(np.int32)\n",
    "\n",
    "\n",
    "g = sns.barplot(y='lyricist', x='play_count', data=lyricist_df.sort_values(by=['play_count'], ascending=False).head(20))\n",
    "g.set_xscale('log', nonposx='clip')\n",
    "plt.show()\n",
    "\n",
    "g = sns.barplot(y='lyricist', x='replay_count', data=lyricist_df.sort_values(by=['replay_count'], ascending=False).head(20))\n",
    "g.set_xscale('log', nonposx='clip')\n",
    "plt.show()\n",
    "\n",
    "sns.barplot(y='lyricist', x='replay_pb', data=lyricist_df.sort_values(by=['replay_count'], ascending=False).head(20))\n",
    "plt.show()\n",
    "\n",
    "print(lyricist_df['play_count'].corr(lyricist_df['replay_pb']))\n",
    "print(lyricist_df['play_count'].corr(lyricist_df['replay_count']))\n",
    "\n",
    "lyricist_df.sort_values(by=['play_count'], ascending=False).head(15)"
   ]
  },
  {
   "cell_type": "markdown",
   "metadata": {},
   "source": [
    "The more play counts, almost the more replay counts.\n",
    "There are so so so many missing value."
   ]
  },
  {
   "cell_type": "markdown",
   "metadata": {
    "collapsed": true
   },
   "source": [
    "## language"
   ]
  },
  {
   "cell_type": "code",
   "execution_count": null,
   "metadata": {},
   "outputs": [],
   "source": [
    "language_df = train_df[['language', 'target']].groupby('language').agg(['mean', 'count']).reset_index()\n",
    "language_df.columns = ['language', 'replay_pb', 'play_count']\n",
    "language_df['replay_count'] = (language_df['replay_pb'] * language_df['play_count']).astype(np.int32)\n",
    "\n",
    "print(language_df.info())\n",
    "g = sns.barplot(x='language', y='play_count', data=language_df.sort_values(by=['play_count'], ascending=False))\n",
    "g.set_yscale('log', nonposy='clip')\n",
    "plt.show()\n",
    "\n",
    "g = sns.barplot(x='language', y='replay_count', data=language_df.sort_values(by=['replay_count'], ascending=False))\n",
    "g.set_yscale('log', nonposy='clip')\n",
    "plt.show()\n",
    "\n",
    "sns.barplot(x='language', y='replay_pb', data=language_df.sort_values(by=['replay_count'], ascending=False))\n",
    "plt.show()\n",
    "\n",
    "print(language_df['replay_count'].corr(language_df['replay_pb']))\n",
    "print(language_df['play_count'].corr(language_df['replay_pb']))\n",
    "print(language_df['play_count'].corr(language_df['replay_count']))\n",
    "\n",
    "g = sns.jointplot(x=\"play_count\", y=\"replay_pb\", data=language_df, kind=\"reg\")\n",
    "plt.show()\n",
    "language_df.sort_values(by=['play_count'], ascending=False)"
   ]
  },
  {
   "cell_type": "markdown",
   "metadata": {},
   "source": [
    "We have correlation **0.59** between *replay_pb* and *play_count*.\n",
    "\n",
    "- The language <font color='red'> 3 </font> is the most popular trivially. The language 59 has not enough samples.\n",
    "- The languages <font color='red'> -1, 17, 45 </font> are rather unpopular. The language 38 has not enough samples."
   ]
  },
  {
   "cell_type": "markdown",
   "metadata": {},
   "source": [
    "# songs_extra"
   ]
  },
  {
   "cell_type": "markdown",
   "metadata": {},
   "source": [
    "## missing ratio"
   ]
  },
  {
   "cell_type": "code",
   "execution_count": null,
   "metadata": {},
   "outputs": [],
   "source": [
    "songs_df.isnull().sum() / songs_df.shape[0] * 100"
   ]
  },
  {
   "cell_type": "markdown",
   "metadata": {},
   "source": [
    "## ISRC"
   ]
  },
  {
   "cell_type": "markdown",
   "metadata": {},
   "source": [
    "### song year"
   ]
  },
  {
   "cell_type": "code",
   "execution_count": null,
   "metadata": {},
   "outputs": [],
   "source": [
    "count_df = songs_df[['song_id', 'song_year']].groupby('song_year').agg('count').reset_index()\n",
    "count_df.columns = ['song_year', 'count']\n",
    "\n",
    "plt.figure(figsize=(50, 15))\n",
    "plt.xticks(rotation=90)\n",
    "sns.pointplot(x='song_year', y='count', data=count_df)\n",
    "plt.show()"
   ]
  },
  {
   "cell_type": "markdown",
   "metadata": {},
   "source": [
    "The amount of songs are increasing when the year is near to **2016**.\n",
    "Note that this ignore missing ISRC."
   ]
  },
  {
   "cell_type": "code",
   "execution_count": null,
   "metadata": {},
   "outputs": [],
   "source": [
    "song_year_df = train_df[['song_year', 'target']].groupby('song_year').agg(['mean', 'count']).reset_index()\n",
    "song_year_df.columns = ['song_year', 'replay_pb', 'play_count']\n",
    "song_year_df['replay_count'] = (song_year_df['replay_pb'] * song_year_df['play_count']).astype(np.int32)\n",
    "\n",
    "print(song_year_df.info())\n",
    "plt.figure(figsize=(50, 15))\n",
    "plt.xticks(rotation=90)\n",
    "g = sns.barplot(x='song_year', y='play_count', data=song_year_df.sort_values(by=['play_count'], ascending=False))\n",
    "g.set_yscale('log', nonposy='clip')\n",
    "plt.show()\n",
    "\n",
    "plt.figure(figsize=(50, 15))\n",
    "plt.xticks(rotation=90)\n",
    "g = sns.barplot(x='song_year', y='replay_count', data=song_year_df.sort_values(by=['replay_count'], ascending=False))\n",
    "g.set_yscale('log', nonposy='clip')\n",
    "plt.show()\n",
    "\n",
    "plt.figure(figsize=(50, 15))\n",
    "plt.xticks(rotation=90)\n",
    "sns.barplot(x='song_year', y='replay_pb', data=song_year_df.sort_values(by=['replay_count'], ascending=False))\n",
    "plt.show()\n",
    "\n",
    "print(song_year_df['replay_count'].corr(song_year_df['replay_pb']))\n",
    "print(song_year_df['play_count'].corr(song_year_df['replay_pb']))\n",
    "print(song_year_df['play_count'].corr(song_year_df['replay_count']))\n",
    "\n",
    "sns.jointplot(x=\"play_count\", y=\"replay_pb\", data=song_year_df, kind=\"reg\", ylim=(0 ,1))\n",
    "plt.show()\n",
    "song_year_df.sort_values(by=['play_count'], ascending=False)"
   ]
  },
  {
   "cell_type": "markdown",
   "metadata": {},
   "source": [
    "Except year **2017**, the later published songs implies the more replay count.\n",
    "And we have <font color='red'>replay chance larger than 0.5 among years [2013, 2017]</font>."
   ]
  },
  {
   "cell_type": "markdown",
   "metadata": {},
   "source": [
    "### song country"
   ]
  },
  {
   "cell_type": "code",
   "execution_count": null,
   "metadata": {},
   "outputs": [],
   "source": [
    "song_country_df = train_df[['song_country', 'target']].groupby('song_country').agg(['mean', 'count']).reset_index()\n",
    "song_country_df.columns = ['song_country', 'replay_pb', 'play_count']\n",
    "song_country_df['replay_count'] = (song_country_df['replay_pb'] * song_country_df['play_count']).astype(np.int32)\n",
    "\n",
    "print(song_country_df.info())\n",
    "plt.figure(figsize=(50, 15))\n",
    "plt.xticks(rotation=90)\n",
    "g = sns.barplot(x='song_country', y='play_count', data=song_country_df.sort_values(by=['play_count'], ascending=False))\n",
    "g.set_yscale('log', nonposy='clip')\n",
    "plt.show()\n",
    "\n",
    "plt.figure(figsize=(50, 15))\n",
    "plt.xticks(rotation=90)\n",
    "g = sns.barplot(x='song_country', y='replay_count', data=song_country_df.sort_values(by=['replay_count'], ascending=False))\n",
    "g.set_yscale('log', nonposy='clip')\n",
    "plt.show()\n",
    "\n",
    "plt.figure(figsize=(50, 15))\n",
    "plt.xticks(rotation=90)\n",
    "sns.barplot(x='song_country', y='replay_pb', data=song_country_df.sort_values(by=['replay_count'], ascending=False))\n",
    "plt.show()\n",
    "\n",
    "print(song_country_df['replay_count'].corr(song_country_df['replay_pb']))\n",
    "print(song_country_df['play_count'].corr(song_country_df['replay_pb']))\n",
    "print(song_country_df['play_count'].corr(song_country_df['replay_count']))\n",
    "\n",
    "g = sns.jointplot(x=\"play_count\", y=\"replay_pb\", data=song_country_df, kind=\"reg\")\n",
    "plt.show()\n",
    "song_country_df.sort_values(by=['play_count'], ascending=False)"
   ]
  },
  {
   "cell_type": "markdown",
   "metadata": {},
   "source": [
    "Constraint with more than 100,000 play count, the replay chance larget than 0.5 contains country **TW, HK, CN**."
   ]
  },
  {
   "cell_type": "markdown",
   "metadata": {},
   "source": [
    "# composite analysis"
   ]
  },
  {
   "cell_type": "markdown",
   "metadata": {},
   "source": [
    "## \\# of songs played v.s. replay_pb"
   ]
  },
  {
   "cell_type": "code",
   "execution_count": null,
   "metadata": {},
   "outputs": [],
   "source": [
    "count_df = train_df[['song_id', 'target']].groupby('song_id').agg(['mean', 'count']).reset_index()\n",
    "count_df.columns = ['song_id', 'replay_pb', 'play_count']\n",
    "count_df = count_df[count_df['play_count'] > 3000]\n",
    "\n",
    "g = sns.jointplot(x=\"replay_pb\", y=\"play_count\", data=count_df, kind=\"reg\")\n",
    "plt.show()"
   ]
  },
  {
   "cell_type": "markdown",
   "metadata": {},
   "source": [
    "We should set appropriate threshold to make the correlation between 'play_count' and 'replay_pb' better. "
   ]
  },
  {
   "cell_type": "code",
   "execution_count": null,
   "metadata": {
    "collapsed": true
   },
   "outputs": [],
   "source": []
  }
 ],
 "metadata": {
  "kernelspec": {
   "display_name": "Python 3",
   "language": "python",
   "name": "python3"
  },
  "language_info": {
   "codemirror_mode": {
    "name": "ipython",
    "version": 3
   },
   "file_extension": ".py",
   "mimetype": "text/x-python",
   "name": "python",
   "nbconvert_exporter": "python",
   "pygments_lexer": "ipython3",
   "version": "3.6.3"
  },
  "notify_time": "5",
  "toc": {
   "nav_menu": {
    "height": "267px",
    "width": "253px"
   },
   "number_sections": true,
   "sideBar": true,
   "skip_h1_title": false,
   "toc_cell": true,
   "toc_position": {},
   "toc_section_display": "none",
   "toc_window_display": false
  },
  "varInspector": {
   "cols": {
    "lenName": 16,
    "lenType": 16,
    "lenVar": 40
   },
   "kernels_config": {
    "python": {
     "delete_cmd_postfix": "",
     "delete_cmd_prefix": "del ",
     "library": "var_list.py",
     "varRefreshCmd": "print(var_dic_list())"
    },
    "r": {
     "delete_cmd_postfix": ") ",
     "delete_cmd_prefix": "rm(",
     "library": "var_list.r",
     "varRefreshCmd": "cat(var_dic_list()) "
    }
   },
   "oldHeight": 432,
   "position": {
    "height": "454px",
    "left": "940px",
    "right": "20px",
    "top": "102px",
    "width": "365px"
   },
   "types_to_exclude": [
    "module",
    "function",
    "builtin_function_or_method",
    "instance",
    "_Feature"
   ],
   "varInspector_section_display": "block",
   "window_display": false
  }
 },
 "nbformat": 4,
 "nbformat_minor": 2
}
