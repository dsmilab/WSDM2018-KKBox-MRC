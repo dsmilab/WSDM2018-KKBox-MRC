{
 "cells": [
  {
   "cell_type": "markdown",
   "metadata": {
    "toc": true
   },
   "source": [
    "<h1>Table of Contents<span class=\"tocSkip\"></span></h1>\n",
    "<div class=\"toc\" style=\"margin-top: 1em;\"><ul class=\"toc-item\"><li><span><a href=\"#FeatureProducer.py\" data-toc-modified-id=\"FeatureProducer.py-1\"><span class=\"toc-item-num\">1&nbsp;&nbsp;</span>FeatureProducer.py</a></span></li><li><span><a href=\"#main\" data-toc-modified-id=\"main-2\"><span class=\"toc-item-num\">2&nbsp;&nbsp;</span>main</a></span><ul class=\"toc-item\"><li><span><a href=\"#init\" data-toc-modified-id=\"init-2.1\"><span class=\"toc-item-num\">2.1&nbsp;&nbsp;</span>init</a></span></li><li><span><a href=\"#load\" data-toc-modified-id=\"load-2.2\"><span class=\"toc-item-num\">2.2&nbsp;&nbsp;</span>load</a></span></li><li><span><a href=\"#preprocess\" data-toc-modified-id=\"preprocess-2.3\"><span class=\"toc-item-num\">2.3&nbsp;&nbsp;</span>preprocess</a></span></li><li><span><a href=\"#feature-engineering\" data-toc-modified-id=\"feature-engineering-2.4\"><span class=\"toc-item-num\">2.4&nbsp;&nbsp;</span>feature engineering</a></span></li><li><span><a href=\"#fit-and-transform\" data-toc-modified-id=\"fit-and-transform-2.5\"><span class=\"toc-item-num\">2.5&nbsp;&nbsp;</span>fit and transform</a></span></li></ul></li><li><span><a href=\"#implicit\" data-toc-modified-id=\"implicit-3\"><span class=\"toc-item-num\">3&nbsp;&nbsp;</span>implicit</a></span><ul class=\"toc-item\"><li><span><a href=\"#prepare\" data-toc-modified-id=\"prepare-3.1\"><span class=\"toc-item-num\">3.1&nbsp;&nbsp;</span>prepare</a></span></li><li><span><a href=\"#here-we-start\" data-toc-modified-id=\"here-we-start-3.2\"><span class=\"toc-item-num\">3.2&nbsp;&nbsp;</span><font color=\"red\">here we start</font></a></span></li></ul></li></ul></div>"
   ]
  },
  {
   "cell_type": "markdown",
   "metadata": {
    "ExecuteTime": {
     "end_time": "2017-12-07T10:41:37.983955Z",
     "start_time": "2017-12-07T10:41:37.969078Z"
    }
   },
   "source": [
    "# FeatureProducer.py"
   ]
  },
  {
   "cell_type": "code",
   "execution_count": 1,
   "metadata": {
    "ExecuteTime": {
     "end_time": "2017-12-09T07:10:10.119558Z",
     "start_time": "2017-12-09T07:10:09.452918Z"
    },
    "collapsed": true
   },
   "outputs": [],
   "source": [
    "from lib.FeatureProducer import FeatureProducer"
   ]
  },
  {
   "cell_type": "markdown",
   "metadata": {},
   "source": [
    "# main"
   ]
  },
  {
   "cell_type": "markdown",
   "metadata": {},
   "source": [
    "## init"
   ]
  },
  {
   "cell_type": "code",
   "execution_count": 2,
   "metadata": {
    "ExecuteTime": {
     "end_time": "2017-12-09T07:10:10.123998Z",
     "start_time": "2017-12-09T07:10:10.121216Z"
    },
    "collapsed": true
   },
   "outputs": [],
   "source": [
    "fp = FeatureProducer(root='../data')"
   ]
  },
  {
   "cell_type": "markdown",
   "metadata": {},
   "source": [
    "## load"
   ]
  },
  {
   "cell_type": "code",
   "execution_count": 3,
   "metadata": {
    "ExecuteTime": {
     "end_time": "2017-12-09T07:10:30.169300Z",
     "start_time": "2017-12-09T07:10:10.125333Z"
    }
   },
   "outputs": [
    {
     "name": "stderr",
     "output_type": "stream",
     "text": [
      "15:10:30 INFO << load raw data in 19.99s\n"
     ]
    }
   ],
   "source": [
    "fp.load_raw()"
   ]
  },
  {
   "cell_type": "markdown",
   "metadata": {},
   "source": [
    "## preprocess"
   ]
  },
  {
   "cell_type": "code",
   "execution_count": 4,
   "metadata": {
    "ExecuteTime": {
     "end_time": "2017-12-09T07:12:04.629419Z",
     "start_time": "2017-12-09T07:10:30.170939Z"
    }
   },
   "outputs": [
    {
     "name": "stderr",
     "output_type": "stream",
     "text": [
      "15:10:59 INFO << parse train_df in 29.67s\n",
      "15:11:16 INFO << parse test_df in 16.56s\n",
      "15:11:17 INFO << parse members_df in 0.93s\n",
      "15:11:34 INFO << parse songs_df in 16.45s\n",
      "15:11:37 INFO << parse song_extra_info_df in 3.02s\n"
     ]
    }
   ],
   "source": [
    "fp.pre_process()"
   ]
  },
  {
   "cell_type": "markdown",
   "metadata": {},
   "source": [
    "## feature engineering"
   ]
  },
  {
   "cell_type": "code",
   "execution_count": 5,
   "metadata": {
    "ExecuteTime": {
     "end_time": "2017-12-09T07:12:52.682572Z",
     "start_time": "2017-12-09T07:12:04.631281Z"
    }
   },
   "outputs": [
    {
     "name": "stderr",
     "output_type": "stream",
     "text": [
      "15:12:31 INFO << parse engineering_df in 26.49s\n",
      "15:12:52 INFO << parse engineering_df in 21.43s\n"
     ]
    }
   ],
   "source": [
    "fp.feature_engineering()"
   ]
  },
  {
   "cell_type": "markdown",
   "metadata": {},
   "source": [
    "## fit and transform"
   ]
  },
  {
   "cell_type": "code",
   "execution_count": 7,
   "metadata": {
    "ExecuteTime": {
     "end_time": "2017-12-09T07:14:22.239961Z",
     "start_time": "2017-12-09T07:13:47.601258Z"
    }
   },
   "outputs": [
    {
     "name": "stderr",
     "output_type": "stream",
     "text": [
      "15:14:00 INFO << transform \"msno\" in 2.27s\n",
      "15:14:04 INFO << transform \"song_id\" in 4.07s\n",
      "15:14:06 INFO << transform \"source_system_tab\" in 1.32s\n",
      "15:14:07 INFO << transform \"source_screen_name\" in 1.38s\n",
      "15:14:08 INFO << transform \"source_type\" in 1.28s\n",
      "15:14:09 INFO << transform \"1h_source\" in 0.41s\n",
      "15:14:09 INFO << transform \"1h_system_tab\" in 0.38s\n",
      "15:14:10 INFO << transform \"1h_screen_name\" in 0.35s\n",
      "15:14:10 INFO << transform \"1h_source_type\" in 0.33s\n",
      "15:14:10 INFO << transform \"song_length\" in 0.33s\n",
      "15:14:11 INFO << transform \"genre_ids\" in 1.31s\n",
      "15:14:13 INFO << transform \"artist_name\" in 1.78s\n",
      "15:14:15 INFO << transform \"composer\" in 1.72s\n",
      "15:14:16 INFO << transform \"lyricist\" in 1.10s\n",
      "15:14:17 INFO << transform \"language\" in 1.09s\n",
      "15:14:17 INFO << transform \"artist_count\" in 0.29s\n",
      "15:14:18 INFO << transform \"genre_count\" in 0.27s\n",
      "15:14:18 INFO << transform \"composer_count\" in 0.24s\n",
      "15:14:18 INFO << transform \"lyricist_count\" in 0.21s\n",
      "15:14:18 INFO << transform \"1h_lang\" in 0.16s\n",
      "15:14:19 INFO << transform \"1h_song_length\" in 0.13s\n",
      "15:14:19 INFO << transform \"song_year\" in 0.12s\n",
      "15:14:19 INFO << transform \"1h_song_year\" in 0.07s\n",
      "15:14:19 INFO << transform \"city\" in 0.43s\n",
      "15:14:20 INFO << transform \"bd\" in 0.45s\n",
      "15:14:20 INFO << transform \"gender\" in 0.36s\n",
      "15:14:20 INFO << transform \"registered_via\" in 0.40s\n",
      "15:14:21 INFO << transform \"expiration_date\" in 0.26s\n",
      "15:14:21 INFO << transform \"membership_days\" in 0.24s\n",
      "15:14:21 INFO << transform \"registration_init_year\" in 0.20s\n",
      "15:14:21 INFO << transform \"registration_init_month\" in 0.17s\n",
      "15:14:21 INFO << transform \"expiration_date_year\" in 0.14s\n",
      "15:14:21 INFO << transform \"expiration_date_month\" in 0.12s\n",
      "15:14:22 INFO << transform \"1h_via\" in 0.07s\n",
      "15:14:22 INFO << transform \"play_count\" in 0.06s\n",
      "15:14:22 INFO << transform \"track_count\" in 0.07s\n",
      "15:14:22 INFO << transform \"cover_lang\" in 0.04s\n"
     ]
    }
   ],
   "source": [
    "fp.self_fit_transform()"
   ]
  },
  {
   "cell_type": "markdown",
   "metadata": {},
   "source": [
    "# implicit"
   ]
  },
  {
   "cell_type": "markdown",
   "metadata": {},
   "source": [
    "## prepare"
   ]
  },
  {
   "cell_type": "code",
   "execution_count": 9,
   "metadata": {
    "ExecuteTime": {
     "end_time": "2017-12-09T07:14:45.844517Z",
     "start_time": "2017-12-09T07:14:45.834073Z"
    }
   },
   "outputs": [
    {
     "name": "stdout",
     "output_type": "stream",
     "text": [
      "<class 'pandas.core.frame.DataFrame'>\n",
      "Int64Index: 7377418 entries, 0 to 7377417\n",
      "Data columns (total 38 columns):\n",
      "msno                       category\n",
      "song_id                    category\n",
      "source_system_tab          category\n",
      "source_screen_name         category\n",
      "source_type                category\n",
      "target                     int64\n",
      "1h_source                  bool\n",
      "1h_system_tab              bool\n",
      "1h_screen_name             bool\n",
      "1h_source_type             bool\n",
      "song_length                int32\n",
      "genre_ids                  category\n",
      "artist_name                category\n",
      "composer                   category\n",
      "lyricist                   category\n",
      "language                   category\n",
      "artist_count               int32\n",
      "genre_count                int32\n",
      "composer_count             int32\n",
      "lyricist_count             int32\n",
      "1h_lang                    bool\n",
      "1h_song_length             bool\n",
      "song_year                  int32\n",
      "1h_song_year               bool\n",
      "city                       category\n",
      "bd                         category\n",
      "gender                     category\n",
      "registered_via             category\n",
      "expiration_date            int32\n",
      "membership_days            int32\n",
      "registration_init_year     int32\n",
      "registration_init_month    int32\n",
      "expiration_date_year       int32\n",
      "expiration_date_month      int32\n",
      "1h_via                     bool\n",
      "play_count                 int32\n",
      "track_count                int32\n",
      "cover_lang                 int32\n",
      "dtypes: bool(8), category(14), int32(15), int64(1)\n",
      "memory usage: 808.4 MB\n",
      "<class 'pandas.core.frame.DataFrame'>\n",
      "Int64Index: 2556790 entries, 0 to 2556789\n",
      "Data columns (total 38 columns):\n",
      "id                         int64\n",
      "msno                       category\n",
      "song_id                    category\n",
      "source_system_tab          category\n",
      "source_screen_name         category\n",
      "source_type                category\n",
      "1h_source                  bool\n",
      "1h_system_tab              bool\n",
      "1h_screen_name             bool\n",
      "1h_source_type             bool\n",
      "song_length                int32\n",
      "genre_ids                  category\n",
      "artist_name                category\n",
      "composer                   category\n",
      "lyricist                   category\n",
      "language                   category\n",
      "artist_count               int32\n",
      "genre_count                int32\n",
      "composer_count             int32\n",
      "lyricist_count             int32\n",
      "1h_lang                    bool\n",
      "1h_song_length             bool\n",
      "song_year                  int32\n",
      "1h_song_year               bool\n",
      "city                       category\n",
      "bd                         category\n",
      "gender                     category\n",
      "registered_via             category\n",
      "expiration_date            int32\n",
      "membership_days            int32\n",
      "registration_init_year     int32\n",
      "registration_init_month    int32\n",
      "expiration_date_year       int32\n",
      "expiration_date_month      int32\n",
      "1h_via                     bool\n",
      "play_count                 int32\n",
      "track_count                int32\n",
      "cover_lang                 int32\n",
      "dtypes: bool(8), category(14), int32(15), int64(1)\n",
      "memory usage: 281.1 MB\n"
     ]
    }
   ],
   "source": [
    "train_df = fp.train_df\n",
    "test_df = fp.test_df\n",
    "comb_df = fp.comb_df\n",
    "songs_df = fp.songs_df\n",
    "song_extra_info_df = fp.song_extra_info_df\n",
    "members_df = fp.members_df\n",
    "\n",
    "train_df.info()\n",
    "test_df.info()"
   ]
  },
  {
   "cell_type": "code",
   "execution_count": 10,
   "metadata": {
    "ExecuteTime": {
     "end_time": "2017-12-09T07:14:57.261602Z",
     "start_time": "2017-12-09T07:14:56.900123Z"
    }
   },
   "outputs": [
    {
     "data": {
      "text/html": [
       "<div>\n",
       "<style>\n",
       "    .dataframe thead tr:only-child th {\n",
       "        text-align: right;\n",
       "    }\n",
       "\n",
       "    .dataframe thead th {\n",
       "        text-align: left;\n",
       "    }\n",
       "\n",
       "    .dataframe tbody tr th {\n",
       "        vertical-align: top;\n",
       "    }\n",
       "</style>\n",
       "<table border=\"1\" class=\"dataframe\">\n",
       "  <thead>\n",
       "    <tr style=\"text-align: right;\">\n",
       "      <th></th>\n",
       "      <th>msno</th>\n",
       "      <th>song_id</th>\n",
       "      <th>source_system_tab</th>\n",
       "      <th>source_screen_name</th>\n",
       "      <th>source_type</th>\n",
       "      <th>target</th>\n",
       "      <th>1h_source</th>\n",
       "      <th>1h_system_tab</th>\n",
       "      <th>1h_screen_name</th>\n",
       "      <th>1h_source_type</th>\n",
       "      <th>...</th>\n",
       "      <th>expiration_date</th>\n",
       "      <th>membership_days</th>\n",
       "      <th>registration_init_year</th>\n",
       "      <th>registration_init_month</th>\n",
       "      <th>expiration_date_year</th>\n",
       "      <th>expiration_date_month</th>\n",
       "      <th>1h_via</th>\n",
       "      <th>play_count</th>\n",
       "      <th>track_count</th>\n",
       "      <th>cover_lang</th>\n",
       "    </tr>\n",
       "  </thead>\n",
       "  <tbody>\n",
       "    <tr>\n",
       "      <th>0</th>\n",
       "      <td>FGtllVqz18RPiwJj/edr2gV78zirAiY/9SmYvia+kCg=</td>\n",
       "      <td>BBzumQNXUHKdEBOB7mAJuzok+IJA1c2Ryg/yzTF6tik=</td>\n",
       "      <td>explore</td>\n",
       "      <td>Explore</td>\n",
       "      <td>online-playlist</td>\n",
       "      <td>1</td>\n",
       "      <td>False</td>\n",
       "      <td>False</td>\n",
       "      <td>False</td>\n",
       "      <td>False</td>\n",
       "      <td>...</td>\n",
       "      <td>20171005</td>\n",
       "      <td>2103</td>\n",
       "      <td>2012</td>\n",
       "      <td>1</td>\n",
       "      <td>2017</td>\n",
       "      <td>10</td>\n",
       "      <td>True</td>\n",
       "      <td>215</td>\n",
       "      <td>84</td>\n",
       "      <td>1</td>\n",
       "    </tr>\n",
       "    <tr>\n",
       "      <th>1</th>\n",
       "      <td>Xumu+NIjS6QYVxDS4/t3SawvJ7viT9hPKXmf0RtLNx8=</td>\n",
       "      <td>bhp/MpSNoqoxOIB+/l8WPqu6jldth4DIpCm3ayXnJqM=</td>\n",
       "      <td>my library</td>\n",
       "      <td>Local playlist more</td>\n",
       "      <td>local-playlist</td>\n",
       "      <td>1</td>\n",
       "      <td>True</td>\n",
       "      <td>True</td>\n",
       "      <td>True</td>\n",
       "      <td>True</td>\n",
       "      <td>...</td>\n",
       "      <td>20170911</td>\n",
       "      <td>2301</td>\n",
       "      <td>2011</td>\n",
       "      <td>5</td>\n",
       "      <td>2017</td>\n",
       "      <td>9</td>\n",
       "      <td>True</td>\n",
       "      <td>1</td>\n",
       "      <td>17080</td>\n",
       "      <td>10</td>\n",
       "    </tr>\n",
       "    <tr>\n",
       "      <th>2</th>\n",
       "      <td>Xumu+NIjS6QYVxDS4/t3SawvJ7viT9hPKXmf0RtLNx8=</td>\n",
       "      <td>JNWfrrC7zNN7BdMpsISKa4Mw+xVJYNnxXh3/Epw7QgY=</td>\n",
       "      <td>my library</td>\n",
       "      <td>Local playlist more</td>\n",
       "      <td>local-playlist</td>\n",
       "      <td>1</td>\n",
       "      <td>True</td>\n",
       "      <td>True</td>\n",
       "      <td>True</td>\n",
       "      <td>True</td>\n",
       "      <td>...</td>\n",
       "      <td>20170911</td>\n",
       "      <td>2301</td>\n",
       "      <td>2011</td>\n",
       "      <td>5</td>\n",
       "      <td>2017</td>\n",
       "      <td>9</td>\n",
       "      <td>True</td>\n",
       "      <td>4</td>\n",
       "      <td>61</td>\n",
       "      <td>2</td>\n",
       "    </tr>\n",
       "    <tr>\n",
       "      <th>3</th>\n",
       "      <td>Xumu+NIjS6QYVxDS4/t3SawvJ7viT9hPKXmf0RtLNx8=</td>\n",
       "      <td>2A87tzfnJTSWqD7gIZHisolhe4DMdzkbd6LzO1KHjNs=</td>\n",
       "      <td>my library</td>\n",
       "      <td>Local playlist more</td>\n",
       "      <td>local-playlist</td>\n",
       "      <td>1</td>\n",
       "      <td>True</td>\n",
       "      <td>True</td>\n",
       "      <td>True</td>\n",
       "      <td>True</td>\n",
       "      <td>...</td>\n",
       "      <td>20170911</td>\n",
       "      <td>2301</td>\n",
       "      <td>2011</td>\n",
       "      <td>5</td>\n",
       "      <td>2017</td>\n",
       "      <td>9</td>\n",
       "      <td>True</td>\n",
       "      <td>1</td>\n",
       "      <td>1</td>\n",
       "      <td>1</td>\n",
       "    </tr>\n",
       "    <tr>\n",
       "      <th>4</th>\n",
       "      <td>FGtllVqz18RPiwJj/edr2gV78zirAiY/9SmYvia+kCg=</td>\n",
       "      <td>3qm6XTZ6MOCU11x8FIVbAGH5l5uMkT3/ZalWG1oo2Gc=</td>\n",
       "      <td>explore</td>\n",
       "      <td>Explore</td>\n",
       "      <td>online-playlist</td>\n",
       "      <td>1</td>\n",
       "      <td>False</td>\n",
       "      <td>False</td>\n",
       "      <td>False</td>\n",
       "      <td>False</td>\n",
       "      <td>...</td>\n",
       "      <td>20171005</td>\n",
       "      <td>2103</td>\n",
       "      <td>2012</td>\n",
       "      <td>1</td>\n",
       "      <td>2017</td>\n",
       "      <td>10</td>\n",
       "      <td>True</td>\n",
       "      <td>412</td>\n",
       "      <td>6</td>\n",
       "      <td>1</td>\n",
       "    </tr>\n",
       "    <tr>\n",
       "      <th>5</th>\n",
       "      <td>FGtllVqz18RPiwJj/edr2gV78zirAiY/9SmYvia+kCg=</td>\n",
       "      <td>3Hg5kugV1S0wzEVLAEfqjIV5UHzb7bCrdBRQlGygLvU=</td>\n",
       "      <td>explore</td>\n",
       "      <td>Explore</td>\n",
       "      <td>online-playlist</td>\n",
       "      <td>1</td>\n",
       "      <td>False</td>\n",
       "      <td>False</td>\n",
       "      <td>False</td>\n",
       "      <td>False</td>\n",
       "      <td>...</td>\n",
       "      <td>20171005</td>\n",
       "      <td>2103</td>\n",
       "      <td>2012</td>\n",
       "      <td>1</td>\n",
       "      <td>2017</td>\n",
       "      <td>10</td>\n",
       "      <td>True</td>\n",
       "      <td>1108</td>\n",
       "      <td>15</td>\n",
       "      <td>1</td>\n",
       "    </tr>\n",
       "    <tr>\n",
       "      <th>6</th>\n",
       "      <td>Xumu+NIjS6QYVxDS4/t3SawvJ7viT9hPKXmf0RtLNx8=</td>\n",
       "      <td>VkILU0H1h3NMmk9MQrXouNudGk5n8Ls5cqRRuBxeTh4=</td>\n",
       "      <td>my library</td>\n",
       "      <td>Local playlist more</td>\n",
       "      <td>local-playlist</td>\n",
       "      <td>1</td>\n",
       "      <td>True</td>\n",
       "      <td>True</td>\n",
       "      <td>True</td>\n",
       "      <td>True</td>\n",
       "      <td>...</td>\n",
       "      <td>20170911</td>\n",
       "      <td>2301</td>\n",
       "      <td>2011</td>\n",
       "      <td>5</td>\n",
       "      <td>2017</td>\n",
       "      <td>9</td>\n",
       "      <td>True</td>\n",
       "      <td>3869</td>\n",
       "      <td>43</td>\n",
       "      <td>1</td>\n",
       "    </tr>\n",
       "    <tr>\n",
       "      <th>7</th>\n",
       "      <td>FGtllVqz18RPiwJj/edr2gV78zirAiY/9SmYvia+kCg=</td>\n",
       "      <td>bPIvRTzfHxH5LgHrStll+tYwSQNVV8PySgA3M1PfTgc=</td>\n",
       "      <td>explore</td>\n",
       "      <td>Explore</td>\n",
       "      <td>online-playlist</td>\n",
       "      <td>1</td>\n",
       "      <td>False</td>\n",
       "      <td>False</td>\n",
       "      <td>False</td>\n",
       "      <td>False</td>\n",
       "      <td>...</td>\n",
       "      <td>20171005</td>\n",
       "      <td>2103</td>\n",
       "      <td>2012</td>\n",
       "      <td>1</td>\n",
       "      <td>2017</td>\n",
       "      <td>10</td>\n",
       "      <td>True</td>\n",
       "      <td>287</td>\n",
       "      <td>33</td>\n",
       "      <td>1</td>\n",
       "    </tr>\n",
       "    <tr>\n",
       "      <th>8</th>\n",
       "      <td>uHqAtShXTRXju5GE8ri3ITsVFepPf8jUoCF7ffNOuqE=</td>\n",
       "      <td>/bU6IRSK+YNlNbaTkxo7bhsb2EDLPrnksdX3ggcZNhI=</td>\n",
       "      <td>my library</td>\n",
       "      <td>Local playlist more</td>\n",
       "      <td>local-library</td>\n",
       "      <td>1</td>\n",
       "      <td>True</td>\n",
       "      <td>True</td>\n",
       "      <td>True</td>\n",
       "      <td>True</td>\n",
       "      <td>...</td>\n",
       "      <td>20180304</td>\n",
       "      <td>2309</td>\n",
       "      <td>2011</td>\n",
       "      <td>11</td>\n",
       "      <td>2018</td>\n",
       "      <td>3</td>\n",
       "      <td>True</td>\n",
       "      <td>31</td>\n",
       "      <td>155</td>\n",
       "      <td>2</td>\n",
       "    </tr>\n",
       "    <tr>\n",
       "      <th>9</th>\n",
       "      <td>uHqAtShXTRXju5GE8ri3ITsVFepPf8jUoCF7ffNOuqE=</td>\n",
       "      <td>EbI7xoNxI+3QSsiHxL13zBdgHIJOwa3srHd7cDcnJ0g=</td>\n",
       "      <td>my library</td>\n",
       "      <td>Local playlist more</td>\n",
       "      <td>local-library</td>\n",
       "      <td>1</td>\n",
       "      <td>True</td>\n",
       "      <td>True</td>\n",
       "      <td>True</td>\n",
       "      <td>True</td>\n",
       "      <td>...</td>\n",
       "      <td>20180304</td>\n",
       "      <td>2309</td>\n",
       "      <td>2011</td>\n",
       "      <td>11</td>\n",
       "      <td>2018</td>\n",
       "      <td>3</td>\n",
       "      <td>True</td>\n",
       "      <td>738</td>\n",
       "      <td>155</td>\n",
       "      <td>2</td>\n",
       "    </tr>\n",
       "  </tbody>\n",
       "</table>\n",
       "<p>10 rows × 38 columns</p>\n",
       "</div>"
      ],
      "text/plain": [
       "                                           msno  \\\n",
       "0  FGtllVqz18RPiwJj/edr2gV78zirAiY/9SmYvia+kCg=   \n",
       "1  Xumu+NIjS6QYVxDS4/t3SawvJ7viT9hPKXmf0RtLNx8=   \n",
       "2  Xumu+NIjS6QYVxDS4/t3SawvJ7viT9hPKXmf0RtLNx8=   \n",
       "3  Xumu+NIjS6QYVxDS4/t3SawvJ7viT9hPKXmf0RtLNx8=   \n",
       "4  FGtllVqz18RPiwJj/edr2gV78zirAiY/9SmYvia+kCg=   \n",
       "5  FGtllVqz18RPiwJj/edr2gV78zirAiY/9SmYvia+kCg=   \n",
       "6  Xumu+NIjS6QYVxDS4/t3SawvJ7viT9hPKXmf0RtLNx8=   \n",
       "7  FGtllVqz18RPiwJj/edr2gV78zirAiY/9SmYvia+kCg=   \n",
       "8  uHqAtShXTRXju5GE8ri3ITsVFepPf8jUoCF7ffNOuqE=   \n",
       "9  uHqAtShXTRXju5GE8ri3ITsVFepPf8jUoCF7ffNOuqE=   \n",
       "\n",
       "                                        song_id source_system_tab  \\\n",
       "0  BBzumQNXUHKdEBOB7mAJuzok+IJA1c2Ryg/yzTF6tik=           explore   \n",
       "1  bhp/MpSNoqoxOIB+/l8WPqu6jldth4DIpCm3ayXnJqM=        my library   \n",
       "2  JNWfrrC7zNN7BdMpsISKa4Mw+xVJYNnxXh3/Epw7QgY=        my library   \n",
       "3  2A87tzfnJTSWqD7gIZHisolhe4DMdzkbd6LzO1KHjNs=        my library   \n",
       "4  3qm6XTZ6MOCU11x8FIVbAGH5l5uMkT3/ZalWG1oo2Gc=           explore   \n",
       "5  3Hg5kugV1S0wzEVLAEfqjIV5UHzb7bCrdBRQlGygLvU=           explore   \n",
       "6  VkILU0H1h3NMmk9MQrXouNudGk5n8Ls5cqRRuBxeTh4=        my library   \n",
       "7  bPIvRTzfHxH5LgHrStll+tYwSQNVV8PySgA3M1PfTgc=           explore   \n",
       "8  /bU6IRSK+YNlNbaTkxo7bhsb2EDLPrnksdX3ggcZNhI=        my library   \n",
       "9  EbI7xoNxI+3QSsiHxL13zBdgHIJOwa3srHd7cDcnJ0g=        my library   \n",
       "\n",
       "    source_screen_name      source_type  target  1h_source  1h_system_tab  \\\n",
       "0              Explore  online-playlist       1      False          False   \n",
       "1  Local playlist more   local-playlist       1       True           True   \n",
       "2  Local playlist more   local-playlist       1       True           True   \n",
       "3  Local playlist more   local-playlist       1       True           True   \n",
       "4              Explore  online-playlist       1      False          False   \n",
       "5              Explore  online-playlist       1      False          False   \n",
       "6  Local playlist more   local-playlist       1       True           True   \n",
       "7              Explore  online-playlist       1      False          False   \n",
       "8  Local playlist more    local-library       1       True           True   \n",
       "9  Local playlist more    local-library       1       True           True   \n",
       "\n",
       "   1h_screen_name  1h_source_type     ...      expiration_date  \\\n",
       "0           False           False     ...             20171005   \n",
       "1            True            True     ...             20170911   \n",
       "2            True            True     ...             20170911   \n",
       "3            True            True     ...             20170911   \n",
       "4           False           False     ...             20171005   \n",
       "5           False           False     ...             20171005   \n",
       "6            True            True     ...             20170911   \n",
       "7           False           False     ...             20171005   \n",
       "8            True            True     ...             20180304   \n",
       "9            True            True     ...             20180304   \n",
       "\n",
       "  membership_days registration_init_year registration_init_month  \\\n",
       "0            2103                   2012                       1   \n",
       "1            2301                   2011                       5   \n",
       "2            2301                   2011                       5   \n",
       "3            2301                   2011                       5   \n",
       "4            2103                   2012                       1   \n",
       "5            2103                   2012                       1   \n",
       "6            2301                   2011                       5   \n",
       "7            2103                   2012                       1   \n",
       "8            2309                   2011                      11   \n",
       "9            2309                   2011                      11   \n",
       "\n",
       "  expiration_date_year expiration_date_month  1h_via  play_count  track_count  \\\n",
       "0                 2017                    10    True         215           84   \n",
       "1                 2017                     9    True           1        17080   \n",
       "2                 2017                     9    True           4           61   \n",
       "3                 2017                     9    True           1            1   \n",
       "4                 2017                    10    True         412            6   \n",
       "5                 2017                    10    True        1108           15   \n",
       "6                 2017                     9    True        3869           43   \n",
       "7                 2017                    10    True         287           33   \n",
       "8                 2018                     3    True          31          155   \n",
       "9                 2018                     3    True         738          155   \n",
       "\n",
       "   cover_lang  \n",
       "0           1  \n",
       "1          10  \n",
       "2           2  \n",
       "3           1  \n",
       "4           1  \n",
       "5           1  \n",
       "6           1  \n",
       "7           1  \n",
       "8           2  \n",
       "9           2  \n",
       "\n",
       "[10 rows x 38 columns]"
      ]
     },
     "execution_count": 10,
     "metadata": {},
     "output_type": "execute_result"
    }
   ],
   "source": [
    "train_df.head(10)"
   ]
  },
  {
   "cell_type": "markdown",
   "metadata": {
    "collapsed": true
   },
   "source": [
    "## <font color='red'>here we start</font>"
   ]
  },
  {
   "cell_type": "code",
   "execution_count": null,
   "metadata": {
    "collapsed": true
   },
   "outputs": [],
   "source": []
  }
 ],
 "metadata": {
  "kernelspec": {
   "display_name": "Python 3",
   "language": "python",
   "name": "python3"
  },
  "language_info": {
   "codemirror_mode": {
    "name": "ipython",
    "version": 3
   },
   "file_extension": ".py",
   "mimetype": "text/x-python",
   "name": "python",
   "nbconvert_exporter": "python",
   "pygments_lexer": "ipython3",
   "version": "3.6.3"
  },
  "toc": {
   "nav_menu": {},
   "number_sections": true,
   "sideBar": true,
   "skip_h1_title": false,
   "toc_cell": true,
   "toc_position": {
    "height": "929px",
    "left": "0px",
    "right": "1643px",
    "top": "107px",
    "width": "212px"
   },
   "toc_section_display": "block",
   "toc_window_display": true
  },
  "varInspector": {
   "cols": {
    "lenName": 16,
    "lenType": 16,
    "lenVar": 40
   },
   "kernels_config": {
    "python": {
     "delete_cmd_postfix": "",
     "delete_cmd_prefix": "del ",
     "library": "var_list.py",
     "varRefreshCmd": "print(var_dic_list())"
    },
    "r": {
     "delete_cmd_postfix": ") ",
     "delete_cmd_prefix": "rm(",
     "library": "var_list.r",
     "varRefreshCmd": "cat(var_dic_list()) "
    }
   },
   "oldHeight": 448,
   "position": {
    "height": "470px",
    "left": "1389px",
    "right": "20px",
    "top": "114px",
    "width": "350px"
   },
   "types_to_exclude": [
    "module",
    "function",
    "builtin_function_or_method",
    "instance",
    "_Feature"
   ],
   "varInspector_section_display": "block",
   "window_display": false
  }
 },
 "nbformat": 4,
 "nbformat_minor": 2
}
