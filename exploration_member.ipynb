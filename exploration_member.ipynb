{
 "cells": [
  {
   "cell_type": "code",
   "execution_count": 1,
   "metadata": {
    "collapsed": true
   },
   "outputs": [],
   "source": [
    "import pandas as pd\n",
    "import numpy as np\n",
    "import seaborn as sns\n",
    "import matplotlib.pyplot as plt"
   ]
  },
  {
   "cell_type": "markdown",
   "metadata": {
    "toc": true
   },
   "source": [
    "<h1>Table of Contents<span class=\"tocSkip\"></span></h1>\n",
    "<div class=\"toc\" style=\"margin-top: 1em;\"><ul class=\"toc-item\"><li><span><a href=\"#member\" data-toc-modified-id=\"member-1\"><span class=\"toc-item-num\">1&nbsp;&nbsp;</span>member</a></span><ul class=\"toc-item\"><li><span><a href=\"#city\" data-toc-modified-id=\"city-1.1\"><span class=\"toc-item-num\">1.1&nbsp;&nbsp;</span>city</a></span></li><li><span><a href=\"#bd\" data-toc-modified-id=\"bd-1.2\"><span class=\"toc-item-num\">1.2&nbsp;&nbsp;</span>bd</a></span></li><li><span><a href=\"#gender\" data-toc-modified-id=\"gender-1.3\"><span class=\"toc-item-num\">1.3&nbsp;&nbsp;</span>gender</a></span></li><li><span><a href=\"#registered_via\" data-toc-modified-id=\"registered_via-1.4\"><span class=\"toc-item-num\">1.4&nbsp;&nbsp;</span>registered_via</a></span></li><li><span><a href=\"#registration_init_time\" data-toc-modified-id=\"registration_init_time-1.5\"><span class=\"toc-item-num\">1.5&nbsp;&nbsp;</span>registration_init_time</a></span></li><li><span><a href=\"#expiration_date\" data-toc-modified-id=\"expiration_date-1.6\"><span class=\"toc-item-num\">1.6&nbsp;&nbsp;</span>expiration_date</a></span></li></ul></li></ul></div>"
   ]
  },
  {
   "cell_type": "code",
   "execution_count": 2,
   "metadata": {
    "collapsed": true
   },
   "outputs": [],
   "source": [
    "train_df = pd.read_csv('data/train.csv')\n",
    "test_df = pd.read_csv('data/test.csv')\n",
    "comb_df = train_df.append(test_df)\n",
    "members_df = pd.read_csv('data/members.csv')\n",
    "songs_df = pd.read_csv('data/songs.csv')\n",
    "song_extra_info_df = pd.read_csv('data/song_extra_info.csv')\n",
    "\n",
    "songs_df = songs_df.merge(song_extra_info_df, on='song_id', how='left')\n",
    "\n",
    "train_df = train_df.merge(songs_df, on='song_id', how='left')\n",
    "test_df = test_df.merge(songs_df, on='song_id', how='left')\n",
    "\n",
    "train_df = train_df.merge(members_df, on='msno', how='left')\n",
    "test_df = test_df.merge(members_df, on='msno', how='left')\n",
    "\n",
    "# fill missing data to visualize\n",
    "train_df.fillna('nan', inplace=True)\n",
    "test_df.fillna('nan', inplace=True)"
   ]
  },
  {
   "cell_type": "markdown",
   "metadata": {},
   "source": [
    "# member"
   ]
  },
  {
   "cell_type": "markdown",
   "metadata": {},
   "source": [
    "## city"
   ]
  },
  {
   "cell_type": "code",
   "execution_count": 3,
   "metadata": {},
   "outputs": [
    {
     "data": {
      "image/png": "[encoded data removed]",
      "text/plain": [
       "<matplotlib.figure.Figure at 0x7f3d00492400>"
      ]
     },
     "metadata": {},
     "output_type": "display_data"
    },
    {
     "data": {
      "image/png": "[encoded data removed]",
      "text/plain": [
       "<matplotlib.figure.Figure at 0x7f3cfc35c588>"
      ]
     },
     "metadata": {},
     "output_type": "display_data"
    },
    {
     "data": {
      "image/png": "[encoded data removed]",
      "text/plain": [
       "<matplotlib.figure.Figure at 0x7f3cfc1fca90>"
      ]
     },
     "metadata": {},
     "output_type": "display_data"
    },
    {
     "name": "stdout",
     "output_type": "stream",
     "text": [
      "-0.0390307723739\n",
      "-0.0468755538298\n",
      "0.999618409452\n"
     ]
    },
    {
     "data": {
      "text/html": [
       "<div>\n",
       "<style>\n",
       "    .dataframe thead tr:only-child th {\n",
       "        text-align: right;\n",
       "    }\n",
       "\n",
       "    .dataframe thead th {\n",
       "        text-align: left;\n",
       "    }\n",
       "\n",
       "    .dataframe tbody tr th {\n",
       "        vertical-align: top;\n",
       "    }\n",
       "</style>\n",
       "<table border=\"1\" class=\"dataframe\">\n",
       "  <thead>\n",
       "    <tr style=\"text-align: right;\">\n",
       "      <th></th>\n",
       "      <th>city</th>\n",
       "      <th>replay_pb</th>\n",
       "      <th>play_count</th>\n",
       "      <th>replay_count</th>\n",
       "    </tr>\n",
       "  </thead>\n",
       "  <tbody>\n",
       "    <tr>\n",
       "      <th>0</th>\n",
       "      <td>1</td>\n",
       "      <td>0.489684</td>\n",
       "      <td>2621293</td>\n",
       "      <td>1283606</td>\n",
       "    </tr>\n",
       "    <tr>\n",
       "      <th>11</th>\n",
       "      <td>13</td>\n",
       "      <td>0.521679</td>\n",
       "      <td>1144863</td>\n",
       "      <td>597251</td>\n",
       "    </tr>\n",
       "    <tr>\n",
       "      <th>3</th>\n",
       "      <td>5</td>\n",
       "      <td>0.513664</td>\n",
       "      <td>830128</td>\n",
       "      <td>426407</td>\n",
       "    </tr>\n",
       "    <tr>\n",
       "      <th>2</th>\n",
       "      <td>4</td>\n",
       "      <td>0.507215</td>\n",
       "      <td>545820</td>\n",
       "      <td>276848</td>\n",
       "    </tr>\n",
       "    <tr>\n",
       "      <th>13</th>\n",
       "      <td>15</td>\n",
       "      <td>0.512750</td>\n",
       "      <td>484078</td>\n",
       "      <td>248211</td>\n",
       "    </tr>\n",
       "    <tr>\n",
       "      <th>20</th>\n",
       "      <td>22</td>\n",
       "      <td>0.491634</td>\n",
       "      <td>460330</td>\n",
       "      <td>226314</td>\n",
       "    </tr>\n",
       "    <tr>\n",
       "      <th>4</th>\n",
       "      <td>6</td>\n",
       "      <td>0.501275</td>\n",
       "      <td>275781</td>\n",
       "      <td>138242</td>\n",
       "    </tr>\n",
       "    <tr>\n",
       "      <th>12</th>\n",
       "      <td>14</td>\n",
       "      <td>0.514366</td>\n",
       "      <td>236639</td>\n",
       "      <td>121719</td>\n",
       "    </tr>\n",
       "    <tr>\n",
       "      <th>10</th>\n",
       "      <td>12</td>\n",
       "      <td>0.507405</td>\n",
       "      <td>147133</td>\n",
       "      <td>74656</td>\n",
       "    </tr>\n",
       "    <tr>\n",
       "      <th>7</th>\n",
       "      <td>9</td>\n",
       "      <td>0.529983</td>\n",
       "      <td>95237</td>\n",
       "      <td>50474</td>\n",
       "    </tr>\n",
       "    <tr>\n",
       "      <th>6</th>\n",
       "      <td>8</td>\n",
       "      <td>0.502111</td>\n",
       "      <td>85734</td>\n",
       "      <td>43048</td>\n",
       "    </tr>\n",
       "    <tr>\n",
       "      <th>16</th>\n",
       "      <td>18</td>\n",
       "      <td>0.489117</td>\n",
       "      <td>81780</td>\n",
       "      <td>40000</td>\n",
       "    </tr>\n",
       "    <tr>\n",
       "      <th>9</th>\n",
       "      <td>11</td>\n",
       "      <td>0.487965</td>\n",
       "      <td>71542</td>\n",
       "      <td>34910</td>\n",
       "    </tr>\n",
       "    <tr>\n",
       "      <th>8</th>\n",
       "      <td>10</td>\n",
       "      <td>0.534168</td>\n",
       "      <td>69158</td>\n",
       "      <td>36942</td>\n",
       "    </tr>\n",
       "    <tr>\n",
       "      <th>19</th>\n",
       "      <td>21</td>\n",
       "      <td>0.512363</td>\n",
       "      <td>67097</td>\n",
       "      <td>34378</td>\n",
       "    </tr>\n",
       "    <tr>\n",
       "      <th>1</th>\n",
       "      <td>3</td>\n",
       "      <td>0.513791</td>\n",
       "      <td>63555</td>\n",
       "      <td>32654</td>\n",
       "    </tr>\n",
       "    <tr>\n",
       "      <th>15</th>\n",
       "      <td>17</td>\n",
       "      <td>0.515955</td>\n",
       "      <td>44688</td>\n",
       "      <td>23057</td>\n",
       "    </tr>\n",
       "    <tr>\n",
       "      <th>5</th>\n",
       "      <td>7</td>\n",
       "      <td>0.498118</td>\n",
       "      <td>31621</td>\n",
       "      <td>15751</td>\n",
       "    </tr>\n",
       "    <tr>\n",
       "      <th>14</th>\n",
       "      <td>16</td>\n",
       "      <td>0.463928</td>\n",
       "      <td>7887</td>\n",
       "      <td>3659</td>\n",
       "    </tr>\n",
       "    <tr>\n",
       "      <th>17</th>\n",
       "      <td>19</td>\n",
       "      <td>0.436863</td>\n",
       "      <td>6961</td>\n",
       "      <td>3041</td>\n",
       "    </tr>\n",
       "    <tr>\n",
       "      <th>18</th>\n",
       "      <td>20</td>\n",
       "      <td>0.572460</td>\n",
       "      <td>6093</td>\n",
       "      <td>3488</td>\n",
       "    </tr>\n",
       "  </tbody>\n",
       "</table>\n",
       "</div>"
      ],
      "text/plain": [
       "    city  replay_pb  play_count  replay_count\n",
       "0      1   0.489684     2621293       1283606\n",
       "11    13   0.521679     1144863        597251\n",
       "3      5   0.513664      830128        426407\n",
       "2      4   0.507215      545820        276848\n",
       "13    15   0.512750      484078        248211\n",
       "20    22   0.491634      460330        226314\n",
       "4      6   0.501275      275781        138242\n",
       "12    14   0.514366      236639        121719\n",
       "10    12   0.507405      147133         74656\n",
       "7      9   0.529983       95237         50474\n",
       "6      8   0.502111       85734         43048\n",
       "16    18   0.489117       81780         40000\n",
       "9     11   0.487965       71542         34910\n",
       "8     10   0.534168       69158         36942\n",
       "19    21   0.512363       67097         34378\n",
       "1      3   0.513791       63555         32654\n",
       "15    17   0.515955       44688         23057\n",
       "5      7   0.498118       31621         15751\n",
       "14    16   0.463928        7887          3659\n",
       "17    19   0.436863        6961          3041\n",
       "18    20   0.572460        6093          3488"
      ]
     },
     "execution_count": 3,
     "metadata": {},
     "output_type": "execute_result"
    }
   ],
   "source": [
    "city_df = train_df[['city', 'target']].groupby('city').agg(['mean', 'count']).reset_index()\n",
    "city_df.columns = ['city', 'replay_pb', 'play_count']\n",
    "city_df['replay_count'] = (city_df['replay_pb'] * city_df['play_count']).astype(np.int32)\n",
    "\n",
    "g = sns.barplot(x='city', y='play_count', data=city_df, order=city_df.sort_values(by=['play_count'], ascending=False)['city'])\n",
    "g.set_yscale('log', nonposy='clip')\n",
    "plt.show()\n",
    "\n",
    "g = sns.barplot(x='city', y='replay_count', data=city_df, order=city_df.sort_values(by=['replay_count'], ascending=False)['city'])\n",
    "g.set_yscale('log', nonposy='clip')\n",
    "plt.show()\n",
    "\n",
    "sns.barplot(x='city', y='replay_pb', data=city_df, order=city_df.sort_values(by=['replay_count'], ascending=False)['city'])\n",
    "plt.show()\n",
    "\n",
    "print(city_df['replay_count'].corr(city_df['replay_pb']))\n",
    "print(city_df['play_count'].corr(city_df['replay_pb']))\n",
    "print(city_df['play_count'].corr(city_df['replay_count']))\n",
    "\n",
    "# sns.jointplot(x=\"play_count\", y=\"replay_pb\", data=city_df, kind=\"reg\")\n",
    "\n",
    "city_df.sort_values(by=['play_count'], ascending=False)"
   ]
  },
  {
   "cell_type": "markdown",
   "metadata": {},
   "source": [
    "City 1 is the main city. "
   ]
  },
  {
   "cell_type": "markdown",
   "metadata": {},
   "source": [
    "## bd"
   ]
  },
  {
   "cell_type": "code",
   "execution_count": 4,
   "metadata": {},
   "outputs": [
    {
     "data": {
      "image/png": "[encoded data removed]",
      "text/plain": [
       "<matplotlib.figure.Figure at 0x7f3cfc0d65c0>"
      ]
     },
     "metadata": {},
     "output_type": "display_data"
    }
   ],
   "source": [
    "bd_members_df = members_df[['msno', 'bd']]\n",
    "\n",
    "sns.boxplot(y=bd_members_df['bd'])\n",
    "plt.show()"
   ]
  },
  {
   "cell_type": "markdown",
   "metadata": {},
   "source": [
    "Obviously, it has unbelievable bd values."
   ]
  },
  {
   "cell_type": "code",
   "execution_count": 5,
   "metadata": {},
   "outputs": [
    {
     "data": {
      "image/png": "[encoded data removed]",
      "text/plain": [
       "<matplotlib.figure.Figure at 0x7f3cfbf6bf98>"
      ]
     },
     "metadata": {},
     "output_type": "display_data"
    }
   ],
   "source": [
    "bd_members_df = members_df[['msno', 'bd']]\n",
    "# remove invalid values\n",
    "bd_members_df = bd_members_df[(bd_members_df['bd'] > 7) & (bd_members_df['bd'] < 120)]\n",
    "sns.boxplot(y=bd_members_df['bd'])\n",
    "plt.show()\n",
    "\n",
    "bd_mean = bd_members_df['bd'].mean()\n",
    "bd_std = bd_members_df['bd'].std()"
   ]
  },
  {
   "cell_type": "code",
   "execution_count": 6,
   "metadata": {},
   "outputs": [
    {
     "data": {
      "image/png": "[encoded data removed]",
      "text/plain": [
       "<matplotlib.figure.Figure at 0x7f3cfbf9cb38>"
      ]
     },
     "metadata": {},
     "output_type": "display_data"
    },
    {
     "data": {
      "image/png": "[encoded data removed]",
      "text/plain": [
       "<matplotlib.figure.Figure at 0x7f3cfbe90438>"
      ]
     },
     "metadata": {},
     "output_type": "display_data"
    }
   ],
   "source": [
    "bd_df = train_df[['bd', 'target']].groupby('bd').agg(['mean', 'count']).reset_index()\n",
    "bd_df.columns = ['bd', 'replay_pb', 'play_count']\n",
    "bd_df['replay_count'] = (bd_df['replay_pb'] * bd_df['play_count']).astype(np.int32)\n",
    "\n",
    "# remove outliers\n",
    "bd_df = bd_df[np.abs(bd_df['bd'] - bd_mean) <= 3 * bd_std]\n",
    "plt.figure(figsize=(30, 15)) \n",
    "g = sns.barplot(x='bd', y='play_count', data=bd_df)\n",
    "g.set_yscale('log', nonposy='clip')\n",
    "plt.show()\n",
    "\n",
    "plt.figure(figsize=(30, 15)) \n",
    "g = sns.barplot(x='bd', y='replay_count', data=bd_df)\n",
    "g.set_yscale('log', nonposy='clip')\n",
    "plt.show()"
   ]
  },
  {
   "cell_type": "markdown",
   "metadata": {},
   "source": [
    "The age between 22 and 27 is the main users."
   ]
  },
  {
   "cell_type": "code",
   "execution_count": 7,
   "metadata": {},
   "outputs": [
    {
     "data": {
      "image/png": "[encoded data removed]",
      "text/plain": [
       "<matplotlib.figure.Figure at 0x7f3cfc0a5438>"
      ]
     },
     "metadata": {},
     "output_type": "display_data"
    },
    {
     "data": {
      "image/png": "[encoded data removed]",
      "text/plain": [
       "<matplotlib.figure.Figure at 0x7f3cd8cebfd0>"
      ]
     },
     "metadata": {},
     "output_type": "display_data"
    }
   ],
   "source": [
    "bd_length_bins = [0, 12, 18, 22, 25, 30, 35, 45, 55, 65]\n",
    "bd_df['cut_bd_length'] = pd.cut(bd_df['bd'], bins=bd_length_bins)\n",
    "tmp_bd_df = bd_df.groupby('cut_bd_length').agg(['mean', 'sum']).reset_index()\n",
    "tmp_bd_df.columns = ['bd_range', '_', '_', 'replay_pb', '_', '_', 'play_count', '_', 'replay_count']\n",
    "tmp_bd_df.drop(['_'], axis=1, inplace=True)\n",
    "tmp_bd_df\n",
    "\n",
    "g = sns.barplot(x='bd_range', y='replay_count', data=tmp_bd_df)\n",
    "g.set_yscale('log', nonposy='clip')\n",
    "plt.show()\n",
    "\n",
    "sns.barplot(x='bd_range', y='replay_pb', data=tmp_bd_df)\n",
    "plt.show()"
   ]
  },
  {
   "cell_type": "markdown",
   "metadata": {},
   "source": [
    "The users whose age is between 12 and 18 have the most chance to replay even through they didn't play songs as many as others."
   ]
  },
  {
   "cell_type": "markdown",
   "metadata": {},
   "source": [
    "## gender"
   ]
  },
  {
   "cell_type": "code",
   "execution_count": 10,
   "metadata": {},
   "outputs": [
    {
     "data": {
      "image/png": "[encoded data removed]",
      "text/plain": [
       "<matplotlib.figure.Figure at 0x7f3cfbfa1550>"
      ]
     },
     "metadata": {},
     "output_type": "display_data"
    }
   ],
   "source": [
    "sns.countplot(x='gender', hue='target', data=train_df, order=train_df['gender'].value_counts().index)\n",
    "plt.show()"
   ]
  },
  {
   "cell_type": "code",
   "execution_count": 16,
   "metadata": {},
   "outputs": [
    {
     "data": {
      "image/png": "[encoded data removed]",
      "text/plain": [
       "<matplotlib.figure.Figure at 0x7f3cfc2e7ef0>"
      ]
     },
     "metadata": {},
     "output_type": "display_data"
    }
   ],
   "source": [
    "count_df = train_df[['msno', 'gender', 'target']].drop_duplicates('msno')\n",
    "sns.countplot(x='gender', data=count_df, order=count_df['gender'].value_counts().index)\n",
    "plt.show()"
   ]
  },
  {
   "cell_type": "markdown",
   "metadata": {},
   "source": [
    "It obvious that **female** users almost equal to **male** users. In this opinion, we may fill missing data randomly with *female* or *male*. "
   ]
  },
  {
   "cell_type": "markdown",
   "metadata": {},
   "source": [
    "## registered_via"
   ]
  },
  {
   "cell_type": "markdown",
   "metadata": {},
   "source": [
    "## registration_init_time"
   ]
  },
  {
   "cell_type": "markdown",
   "metadata": {},
   "source": [
    "## expiration_date"
   ]
  },
  {
   "cell_type": "code",
   "execution_count": null,
   "metadata": {
    "collapsed": true
   },
   "outputs": [],
   "source": []
  }
 ],
 "metadata": {
  "kernelspec": {
   "display_name": "Python 3",
   "language": "python",
   "name": "python3"
  },
  "language_info": {
   "codemirror_mode": {
    "name": "ipython",
    "version": 3
   },
   "file_extension": ".py",
   "mimetype": "text/x-python",
   "name": "python",
   "nbconvert_exporter": "python",
   "pygments_lexer": "ipython3",
   "version": "3.6.3"
  },
  "toc": {
   "nav_menu": {
    "height": "153px",
    "width": "214px"
   },
   "number_sections": true,
   "sideBar": true,
   "skip_h1_title": false,
   "toc_cell": true,
   "toc_position": {},
   "toc_section_display": "block",
   "toc_window_display": false
  },
  "varInspector": {
   "cols": {
    "lenName": 16,
    "lenType": 16,
    "lenVar": 40
   },
   "kernels_config": {
    "python": {
     "delete_cmd_postfix": "",
     "delete_cmd_prefix": "del ",
     "library": "var_list.py",
     "varRefreshCmd": "print(var_dic_list())"
    },
    "r": {
     "delete_cmd_postfix": ") ",
     "delete_cmd_prefix": "rm(",
     "library": "var_list.r",
     "varRefreshCmd": "cat(var_dic_list()) "
    }
   },
   "oldHeight": 362,
   "position": {
    "height": "40px",
    "left": "964px",
    "right": "20px",
    "top": "120px",
    "width": "353px"
   },
   "types_to_exclude": [
    "module",
    "function",
    "builtin_function_or_method",
    "instance",
    "_Feature"
   ],
   "varInspector_section_display": "none",
   "window_display": false
  },
  "widgets": {
   "application/vnd.jupyter.widget-state+json": {
    "state": {},
    "version_major": 2,
    "version_minor": 0
   }
  }
 },
 "nbformat": 4,
 "nbformat_minor": 2
}
